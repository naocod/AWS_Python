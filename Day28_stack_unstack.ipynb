{
 "cells": [
  {
   "cell_type": "code",
   "execution_count": null,
   "id": "43b1c428",
   "metadata": {},
   "outputs": [],
   "source": [
    "import seaborn as sns\n",
    "import numpy as np\n",
    "import pandas as pd\n",
    "import matplotlib.pyplot as plt\n",
    "import matplotlib\n",
    "\n",
    "current_font_list= matplotlib.rcParams['font.family']\n",
    "\n",
    "font_path =\"C:\\Windows\\Fonts\\GULIM.TTC\"\n",
    "kfont = matplotlib.font_manager.FontProperties(fname= font_path).get_name()\n",
    "matplotlib.rcParams['font.family'] = [kfont] + current_font_list\n",
    "\n",
    "# stack, unstack\n",
    "# 행렬전환 된거\n",
    "# df1 = pd.read_csv('이륜차신고현황_시도별_행렬전환O.csv', encoding = 'cp949', header = [0, 1])\n",
    "# df1.drop('시도명(1)', axis = 1, inplace=True)\n",
    "# print(df1)\n",
    "# print(df1[('계', '경형')])\n",
    "# # df1\n",
    "\n",
    "# # 행렬전환 안된거\n",
    "# df2 = pd.read_csv('이륜차신고현황_시도별_행렬전환X.csv', encoding = 'cp949')\n",
    "# print(df2)"
   ]
  },
  {
   "cell_type": "code",
   "execution_count": null,
   "id": "2e8fd81a",
   "metadata": {},
   "outputs": [],
   "source": [
    "df2 = pd.read_csv('이륜차신고현황_시도별_행렬전환X.csv', encoding = 'cp949', header = [0, 1, 2])\n",
    "df2.drop(('시도명(1)', '시도명(1)', '시도명(1)'), axis = 1, inplace=True)\n",
    "df2.columns.names = ['시점', '소유', '크기']\n",
    "print(df2.columns)\n",
    "print(df2)\n",
    "df2.stack(level = 0)\n",
    "a = df2.set_index(('시군구(1)', '시군구(1)', '시군구(1)'))\n",
    "b = a.stack(level = 0)\n",
    "b.index.names = ['지역', '시점']\n",
    "c = b.swaplevel(0, 1)\n",
    "d = c.stack(level = 0)\n",
    "d = d.reset_index()"
   ]
  },
  {
   "cell_type": "code",
   "execution_count": null,
   "id": "d23f4dc5",
   "metadata": {},
   "outputs": [],
   "source": [
    "d.insert(0, '년', d['시점'].apply(lambda x : str(x).split('.')[0]))\n",
    "d.insert(1, '월', d['시점'].apply(lambda x : str(x).split('.')[1]))"
   ]
  },
  {
   "attachments": {},
   "cell_type": "markdown",
   "id": "71437e7e",
   "metadata": {},
   "source": [
    "### 시각화 전략\n",
    "    * 시각화의 목표\n",
    "    * 시각화의 범위\n",
    "    * 시각화의 개발절차\n",
    "\n",
    "### 시각화 요구사항\n",
    "    * 사용자 수준 / 취향 / 목적\n",
    "    * 시나리오 / 스토리보드 개발\n",
    "\n",
    "### 데이터 시각화 명세서\n",
    "    * 시각화 표현의 형태, 규칙, 패턴, 상호작용\n",
    "\n",
    "### 시각화 명세서 기반 설계\n",
    "    * 시각화 UI 설계"
   ]
  },
  {
   "attachments": {},
   "cell_type": "markdown",
   "id": "b5abf98d",
   "metadata": {},
   "source": [
    "예시2: 이륜차 등록대수\n",
    "\n",
    "- 시각화 전략\n",
    "    * 시각화의 목표 : 코로나와 배달 이륜차 등록대수 관계\n",
    "    * 시각화의 범위 : 부산광역시\n",
    "    * 시각화의 개발절차 : kosis.kr에서 데이터 확보, 분석 후 시각화\n",
    "\n",
    "- 시각화 요구사항\n",
    "    * 사용자 수준 / 취향 / 목적 : 배달 알바를 해야 하는가 고민중.\n",
    "    * 시나리오 / 스토리보드 개발 : 코로나 전에 비해 코로나 기간 중 폭발적 증가세 보임. 코로나 이후 급격한 감소세. 이전보다는 많은것이 사실이나 많이 빠졌음\n",
    "\n",
    "- 데이터 시각화 명세서\n",
    "    * 시각화 표현의 형태, 규칙, 패턴, 상호작용: 년도별 lineplot, 시기별 중형 이륜차 비율, 눈으로 크기 확인 용이할 경우 숫자 표시하지 않음\n",
    "\n",
    "- 시각화 명세서 기반 설계\n",
    "    * 시각화 UI 설계 : 상단 절반 년도별 lineplot, 하단 3등분하여 코로나 이전, 코로나 기간, 코로나 이후 크기별 비율 pie chart"
   ]
  }
 ],
 "metadata": {
  "kernelspec": {
   "display_name": "Python 3 (ipykernel)",
   "language": "python",
   "name": "python3"
  },
  "language_info": {
   "codemirror_mode": {
    "name": "ipython",
    "version": 3
   },
   "file_extension": ".py",
   "mimetype": "text/x-python",
   "name": "python",
   "nbconvert_exporter": "python",
   "pygments_lexer": "ipython3",
   "version": "3.10.9"
  }
 },
 "nbformat": 4,
 "nbformat_minor": 5
}
