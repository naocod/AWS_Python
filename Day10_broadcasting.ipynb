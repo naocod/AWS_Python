{
 "cells": [
  {
   "cell_type": "code",
   "execution_count": 4,
   "metadata": {},
   "outputs": [
    {
     "name": "stdout",
     "output_type": "stream",
     "text": [
      "[0 1 2 3 4 5 6 7 8 9] [100 101 102 103 104 105 106 107 108 109]\n",
      "[5 5 5 5 5 5 5 5 5 5]\n",
      "[ 5  6  7  8  9 10 11 12 13 14]\n",
      "[ 5  6  7  8  9 10 11 12 13 14]\n"
     ]
    }
   ],
   "source": [
    "import numpy as np\n",
    "\n",
    "a1 = np.arange(10)\n",
    "a2 = np.arange(100, 110)\n",
    "print(a1, a2)\n",
    "# print(a1 + a2)\n",
    "\n",
    "a3 = np.array([5] * 10)\n",
    "print(a3)\n",
    "print(a1 + a3)\n",
    "print(a1 + 5)"
   ]
  },
  {
   "cell_type": "code",
   "execution_count": 6,
   "metadata": {},
   "outputs": [
    {
     "name": "stdout",
     "output_type": "stream",
     "text": [
      "[105 106 107 108 109 110 111 112 113 114]\n"
     ]
    }
   ],
   "source": [
    "# f(x) = 3x + 5\n",
    "# x = 0에서 100사이 짝수\n",
    "\n",
    "print(a2 + a3)\n",
    "\n",
    "# a2 : (5, 6)\n",
    "# 스칼라\n",
    "# a3 : (6, )\n",
    "# a4 : (5, 6)"
   ]
  },
  {
   "cell_type": "code",
   "execution_count": 8,
   "metadata": {},
   "outputs": [
    {
     "name": "stdout",
     "output_type": "stream",
     "text": [
      "(3, 5, 7, 8)\n"
     ]
    }
   ],
   "source": [
    "a10 = np.arange(3 * 5 * 7 * 8).reshape(3, 5, 7, 8)\n",
    "print(a10.shape)\n",
    "\n",
    "# 스칼라\n",
    "# (8, )\n",
    "# (5, 7, 8)\n",
    "# (3, 5, 7, 8)"
   ]
  },
  {
   "cell_type": "code",
   "execution_count": 12,
   "metadata": {},
   "outputs": [
    {
     "name": "stdout",
     "output_type": "stream",
     "text": [
      "[[ 0  1  2]\n",
      " [ 3  4  5]\n",
      " [ 6  7  8]\n",
      " [ 9 10 11]\n",
      " [12 13 14]]\n",
      "[ 34 106 178 250 322]\n"
     ]
    }
   ],
   "source": [
    "a15 = np.arange(15).reshape(5, 3)\n",
    "print(a15)\n",
    "\n",
    "# axis1 3개의 값 중\n",
    "#  - 첫번째 곱하기 2\n",
    "#  - 두번째 곱하기 10\n",
    "#  - 세번째 곱하기 12\n",
    "# axis1을 따라 합계 구하기\n",
    "#       array([34, 106, 178, 250, 322])\n",
    "\n",
    "x = np.array([2, 10, 12])\n",
    "# print(x, x.shape)\n",
    "x1 = a15 * x\n",
    "# print(x1)\n",
    "print(np.sum(x1, axis=1))"
   ]
  }
 ],
 "metadata": {
  "kernelspec": {
   "display_name": "Python 3",
   "language": "python",
   "name": "python3"
  },
  "language_info": {
   "codemirror_mode": {
    "name": "ipython",
    "version": 3
   },
   "file_extension": ".py",
   "mimetype": "text/x-python",
   "name": "python",
   "nbconvert_exporter": "python",
   "pygments_lexer": "ipython3",
   "version": "3.10.9"
  },
  "orig_nbformat": 4,
  "vscode": {
   "interpreter": {
    "hash": "252d00ae1abf913d993c897358600e69c29a1bffb17fa3d647027b051c354ad6"
   }
  }
 },
 "nbformat": 4,
 "nbformat_minor": 2
}
