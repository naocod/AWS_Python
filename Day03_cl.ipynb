{
 "cells": [
  {
   "cell_type": "code",
   "execution_count": 11,
   "metadata": {},
   "outputs": [
    {
     "name": "stdout",
     "output_type": "stream",
     "text": [
      "<class '__main__.myclass'>\n",
      "500 def\n"
     ]
    }
   ],
   "source": [
    "# 상속을 받지 않을 경우 () 생략\n",
    "class myclass: # 클래스로 묶어놓으면 모든 프로그램에서 부를 수 있는 변수가 아닌 클래스 내에서만 사용하는 멤버변수 사용\n",
    "    myvar1 = 10\n",
    "    myvar2 = 'abc'\n",
    "\n",
    "    # Constructor\n",
    "        # 언더바 2개는 직접적으로 부르지 말고 내부적으로 사용하는 것을 표현함. 내부적으로 약속되어 있는 메소드\n",
    "    def __init__(self, a = 0, b = 'aaa'): # 같은 클래스의 또 다른 메소드를 부를 때 self 핸들 사용\n",
    "        # print('const') # 인스턴스화 될 때 바로 불려짐\n",
    "        self.myvar1 = a\n",
    "        self.myvar2 = b\n",
    "\n",
    "    def mymethod1(self, n): # 매개변수에 self가 들어가면 굳이 값을 넣어주지 않아도 됨\n",
    "        print(self.myvar1 * n, self.myvar2)\n",
    "\n",
    "    def __str__(self):\n",
    "        return 'myclass: {}, {}'.format(self.myvar1, self.myvar2)\n",
    "\n",
    "a = myclass(100, 'def')\n",
    "print(type(a))\n",
    "# 생성자 constructor\n",
    "# 소멸자 destructor -> 메모리를 분리시켜 관리를 따로 함\n",
    "# 생성자가 객체 생성시 호출되는 함수라면, 소멸자는 객체 소멸시 호출되는 함수입니다. 아래는 소멸자의 형식입니다. 주로 소멸자는 객체 소멸시 자동 호출되기에, 객체의 메모리 반환 즉 할당한 리소스의 해제를 위해 사용합니다.\n",
    "a.mymethod1(5)"
   ]
  },
  {
   "cell_type": "code",
   "execution_count": 14,
   "metadata": {},
   "outputs": [
    {
     "name": "stdout",
     "output_type": "stream",
     "text": [
      "myclass2 - mymethod  0\n",
      "myclass2 - mymethod2\n"
     ]
    }
   ],
   "source": [
    "class myclass2(myclass): # 클래스(부모클래스)\n",
    "    def mymethod1(self, n): # overriding\n",
    "        print('myclass2 - mymethod ', self.myvar1 * n)\n",
    "        \n",
    "    def mymethod2(self):\n",
    "        print('myclass2 - mymethod2')\n",
    "        \n",
    "b = myclass2()\n",
    "b.mymethod1(10)\n",
    "b.mymethod2()"
   ]
  },
  {
   "cell_type": "code",
   "execution_count": 21,
   "metadata": {},
   "outputs": [
    {
     "name": "stdout",
     "output_type": "stream",
     "text": [
      "['a', 'b', 'c', 'd', 'e', 'f', 'g', 'h', 'i']\n",
      "['a', 'c', 'd', 'e', 'f', 'g', 'h', 'i']\n"
     ]
    }
   ],
   "source": [
    "list_1 = list('abcdefghi')\n",
    "# list에는 remove메소드가 있음\n",
    "print(list_1)\n",
    "\n",
    "# 첫번째 요소만 삭제\n",
    "list_1.remove('b')\n",
    "print(list_1)"
   ]
  },
  {
   "cell_type": "code",
   "execution_count": 29,
   "metadata": {},
   "outputs": [
    {
     "name": "stdout",
     "output_type": "stream",
     "text": [
      "['a', 'b', 'd', 'e', 'f', 'g', 'h', 'i']\n"
     ]
    }
   ],
   "source": [
    "def list_remove_all(target_list, target_value):\n",
    "    while target_value in target_list:\n",
    "        target_list.remove(target_value)\n",
    "    return target_list\n",
    "\n",
    "\n",
    "def list_remove_all_bv2(target_list, target_value):\n",
    "    while True:\n",
    "        try:\n",
    "            target_list.remove(target_value)\n",
    "        except:\n",
    "            return target_list\n",
    "            \n",
    "ret_list = list_remove_all_bv2(list('abcdefghi'), 'c')\n",
    "print(ret_list)"
   ]
  },
  {
   "cell_type": "code",
   "execution_count": 18,
   "metadata": {},
   "outputs": [
    {
     "name": "stdout",
     "output_type": "stream",
     "text": [
      "Help on class list in module builtins:\n",
      "\n",
      "class list(object)\n",
      " |  list(iterable=(), /)\n",
      " |  \n",
      " |  Built-in mutable sequence.\n",
      " |  \n",
      " |  If no argument is given, the constructor creates a new empty list.\n",
      " |  The argument must be an iterable if specified.\n",
      " |  \n",
      " |  Methods defined here:\n",
      " |  \n",
      " |  __add__(self, value, /)\n",
      " |      Return self+value.\n",
      " |  \n",
      " |  __contains__(self, key, /)\n",
      " |      Return key in self.\n",
      " |  \n",
      " |  __delitem__(self, key, /)\n",
      " |      Delete self[key].\n",
      " |  \n",
      " |  __eq__(self, value, /)\n",
      " |      Return self==value.\n",
      " |  \n",
      " |  __ge__(self, value, /)\n",
      " |      Return self>=value.\n",
      " |  \n",
      " |  __getattribute__(self, name, /)\n",
      " |      Return getattr(self, name).\n",
      " |  \n",
      " |  __getitem__(...)\n",
      " |      x.__getitem__(y) <==> x[y]\n",
      " |  \n",
      " |  __gt__(self, value, /)\n",
      " |      Return self>value.\n",
      " |  \n",
      " |  __iadd__(self, value, /)\n",
      " |      Implement self+=value.\n",
      " |  \n",
      " |  __imul__(self, value, /)\n",
      " |      Implement self*=value.\n",
      " |  \n",
      " |  __init__(self, /, *args, **kwargs)\n",
      " |      Initialize self.  See help(type(self)) for accurate signature.\n",
      " |  \n",
      " |  __iter__(self, /)\n",
      " |      Implement iter(self).\n",
      " |  \n",
      " |  __le__(self, value, /)\n",
      " |      Return self<=value.\n",
      " |  \n",
      " |  __len__(self, /)\n",
      " |      Return len(self).\n",
      " |  \n",
      " |  __lt__(self, value, /)\n",
      " |      Return self<value.\n",
      " |  \n",
      " |  __mul__(self, value, /)\n",
      " |      Return self*value.\n",
      " |  \n",
      " |  __ne__(self, value, /)\n",
      " |      Return self!=value.\n",
      " |  \n",
      " |  __repr__(self, /)\n",
      " |      Return repr(self).\n",
      " |  \n",
      " |  __reversed__(self, /)\n",
      " |      Return a reverse iterator over the list.\n",
      " |  \n",
      " |  __rmul__(self, value, /)\n",
      " |      Return value*self.\n",
      " |  \n",
      " |  __setitem__(self, key, value, /)\n",
      " |      Set self[key] to value.\n",
      " |  \n",
      " |  __sizeof__(self, /)\n",
      " |      Return the size of the list in memory, in bytes.\n",
      " |  \n",
      " |  append(self, object, /)\n",
      " |      Append object to the end of the list.\n",
      " |  \n",
      " |  clear(self, /)\n",
      " |      Remove all items from list.\n",
      " |  \n",
      " |  copy(self, /)\n",
      " |      Return a shallow copy of the list.\n",
      " |  \n",
      " |  count(self, value, /)\n",
      " |      Return number of occurrences of value.\n",
      " |  \n",
      " |  extend(self, iterable, /)\n",
      " |      Extend list by appending elements from the iterable.\n",
      " |  \n",
      " |  index(self, value, start=0, stop=9223372036854775807, /)\n",
      " |      Return first index of value.\n",
      " |      \n",
      " |      Raises ValueError if the value is not present.\n",
      " |  \n",
      " |  insert(self, index, object, /)\n",
      " |      Insert object before index.\n",
      " |  \n",
      " |  pop(self, index=-1, /)\n",
      " |      Remove and return item at index (default last).\n",
      " |      \n",
      " |      Raises IndexError if list is empty or index is out of range.\n",
      " |  \n",
      " |  remove(self, value, /)\n",
      " |      Remove first occurrence of value.\n",
      " |      \n",
      " |      Raises ValueError if the value is not present.\n",
      " |  \n",
      " |  reverse(self, /)\n",
      " |      Reverse *IN PLACE*.\n",
      " |  \n",
      " |  sort(self, /, *, key=None, reverse=False)\n",
      " |      Sort the list in ascending order and return None.\n",
      " |      \n",
      " |      The sort is in-place (i.e. the list itself is modified) and stable (i.e. the\n",
      " |      order of two equal elements is maintained).\n",
      " |      \n",
      " |      If a key function is given, apply it once to each list item and sort them,\n",
      " |      ascending or descending, according to their function values.\n",
      " |      \n",
      " |      The reverse flag can be set to sort in descending order.\n",
      " |  \n",
      " |  ----------------------------------------------------------------------\n",
      " |  Class methods defined here:\n",
      " |  \n",
      " |  __class_getitem__(...) from builtins.type\n",
      " |      See PEP 585\n",
      " |  \n",
      " |  ----------------------------------------------------------------------\n",
      " |  Static methods defined here:\n",
      " |  \n",
      " |  __new__(*args, **kwargs) from builtins.type\n",
      " |      Create and return a new object.  See help(type) for accurate signature.\n",
      " |  \n",
      " |  ----------------------------------------------------------------------\n",
      " |  Data and other attributes defined here:\n",
      " |  \n",
      " |  __hash__ = None\n",
      "\n"
     ]
    }
   ],
   "source": [
    "class mylist(list): # list를 상속받은 mylist 클래스 생성\n",
    "    # 함수 -> 메소드 형식으로 변경\n",
    "    # target_list는 자기 자신이므로 self\n",
    "    def remove_all(self, target_value):\n",
    "        while target_value in self:\n",
    "          self.remove(target_value)\n",
    "        return self\n",
    "\n",
    "mylist_1 = mylist(list('abc'))\n",
    "mylist_1.append(1)\n",
    "mylist_1.append(2)\n",
    "print(mylist_1)\n",
    "mylist_1.remove_all('c')"
   ]
  }
 ],
 "metadata": {
  "kernelspec": {
   "display_name": "Python 3",
   "language": "python",
   "name": "python3"
  },
  "language_info": {
   "codemirror_mode": {
    "name": "ipython",
    "version": 3
   },
   "file_extension": ".py",
   "mimetype": "text/x-python",
   "name": "python",
   "nbconvert_exporter": "python",
   "pygments_lexer": "ipython3",
   "version": "3.10.9"
  },
  "orig_nbformat": 4,
  "vscode": {
   "interpreter": {
    "hash": "252d00ae1abf913d993c897358600e69c29a1bffb17fa3d647027b051c354ad6"
   }
  }
 },
 "nbformat": 4,
 "nbformat_minor": 2
}
