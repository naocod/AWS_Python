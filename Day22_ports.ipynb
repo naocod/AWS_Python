{
 "cells": [
  {
   "cell_type": "code",
   "execution_count": 1,
   "metadata": {},
   "outputs": [
    {
     "data": {
      "text/html": [
       "<div>\n",
       "<style scoped>\n",
       "    .dataframe tbody tr th:only-of-type {\n",
       "        vertical-align: middle;\n",
       "    }\n",
       "\n",
       "    .dataframe tbody tr th {\n",
       "        vertical-align: top;\n",
       "    }\n",
       "\n",
       "    .dataframe thead th {\n",
       "        text-align: right;\n",
       "    }\n",
       "</style>\n",
       "<table border=\"1\" class=\"dataframe\">\n",
       "  <thead>\n",
       "    <tr style=\"text-align: right;\">\n",
       "      <th></th>\n",
       "      <th>시점</th>\n",
       "      <th>공항</th>\n",
       "      <th>항구</th>\n",
       "    </tr>\n",
       "  </thead>\n",
       "  <tbody>\n",
       "    <tr>\n",
       "      <th>0</th>\n",
       "      <td>2015.01</td>\n",
       "      <td>226687</td>\n",
       "      <td>50545</td>\n",
       "    </tr>\n",
       "    <tr>\n",
       "      <th>1</th>\n",
       "      <td>2015.02</td>\n",
       "      <td>173950</td>\n",
       "      <td>44152</td>\n",
       "    </tr>\n",
       "    <tr>\n",
       "      <th>2</th>\n",
       "      <td>2015.03</td>\n",
       "      <td>175351</td>\n",
       "      <td>36822</td>\n",
       "    </tr>\n",
       "    <tr>\n",
       "      <th>3</th>\n",
       "      <td>2015.04</td>\n",
       "      <td>195851</td>\n",
       "      <td>46589</td>\n",
       "    </tr>\n",
       "    <tr>\n",
       "      <th>4</th>\n",
       "      <td>2015.05</td>\n",
       "      <td>199356</td>\n",
       "      <td>54680</td>\n",
       "    </tr>\n",
       "  </tbody>\n",
       "</table>\n",
       "</div>"
      ],
      "text/plain": [
       "        시점      공항     항구\n",
       "0  2015.01  226687  50545\n",
       "1  2015.02  173950  44152\n",
       "2  2015.03  175351  36822\n",
       "3  2015.04  195851  46589\n",
       "4  2015.05  199356  54680"
      ]
     },
     "execution_count": 1,
     "metadata": {},
     "output_type": "execute_result"
    }
   ],
   "source": [
    "import numpy as np\n",
    "import pandas as pd\n",
    "import matplotlib.pyplot as plt\n",
    "\n",
    "pd_data = pd.read_csv('내국인출국교통수단별_20230302171427.csv', encoding='cp949', header=1)\n",
    "pd_data.columns = ['시점', '공항', '항구']\n",
    "pd_data.head()\n",
    "\n",
    "# 공항, 항구 년중 월별 출국 인원 plot\n",
    "# normalization / standardzation 적용, plot\n",
    "\n",
    "# 2015부터 2022년까지 추이 보기\n",
    "# - 2022년 연말 공항 이용객 증가하였음\n",
    "# - 2022년 연말에 출국 인원이 늘어난 것이 항국 출국인원에도 반영되었는가.\n",
    "# - 연말에 출국인원이 증가하는 것이 일반적인 추이인가 --> 코로나 이전/이후 연도별 추이\n",
    "\n",
    "# .sort_values()\n",
    "# .sort_index()"
   ]
  },
  {
   "cell_type": "code",
   "execution_count": 3,
   "metadata": {},
   "outputs": [
    {
     "name": "stdout",
     "output_type": "stream",
     "text": [
      "                              시점      공항     항구\n",
      "0  1970-01-01 00:00:00.000002015  226687  50545\n",
      "1  1970-01-01 00:00:00.000002015  173950  44152\n",
      "2  1970-01-01 00:00:00.000002015  175351  36822\n",
      "3  1970-01-01 00:00:00.000002015  195851  46589\n",
      "4  1970-01-01 00:00:00.000002015  199356  54680\n",
      "..                           ...     ...    ...\n",
      "91 1970-01-01 00:00:00.000002022   47261   3533\n",
      "92 1970-01-01 00:00:00.000002022   37030   2682\n",
      "93 1970-01-01 00:00:00.000002022   71579   3494\n",
      "94 1970-01-01 00:00:00.000002022  126419   3687\n",
      "95 1970-01-01 00:00:00.000002022  192723   5760\n",
      "\n",
      "[96 rows x 3 columns]\n"
     ]
    }
   ],
   "source": [
    "pd_data.dtypes\n",
    "\n",
    "yr = pd_data // 1\n",
    "mr = (pd_data['시점'] % 1 ) * 100\n",
    "\n",
    "str_time = pd_data['시점'].astype('str')\n",
    "yr = str_time.apply(lambda x: x.split('.')[0])\n",
    "mo = str_time.apply(lambda x: x.split('.')[1])\n",
    "\n",
    "print(pd_data['시점'])\n",
    "dt_time = pd.to_datetime(pd_data['시점'], format=\"%Y/%m\")\n",
    "# dt_time = pd.to_datetime(pd_data['시점'], yearfirst=True)\n",
    "print(dt_time)"
   ]
  }
 ],
 "metadata": {
  "kernelspec": {
   "display_name": "Python 3",
   "language": "python",
   "name": "python3"
  },
  "language_info": {
   "codemirror_mode": {
    "name": "ipython",
    "version": 3
   },
   "file_extension": ".py",
   "mimetype": "text/x-python",
   "name": "python",
   "nbconvert_exporter": "python",
   "pygments_lexer": "ipython3",
   "version": "3.10.9"
  },
  "orig_nbformat": 4,
  "vscode": {
   "interpreter": {
    "hash": "252d00ae1abf913d993c897358600e69c29a1bffb17fa3d647027b051c354ad6"
   }
  }
 },
 "nbformat": 4,
 "nbformat_minor": 2
}
