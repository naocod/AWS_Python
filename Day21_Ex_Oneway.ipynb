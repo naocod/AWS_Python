{
 "cells": [
  {
   "attachments": {},
   "cell_type": "markdown",
   "metadata": {},
   "source": [
    "1. 전국일방통행도료표준데이터\n",
    "\n",
    "        * 시도명, 지정사유, 지정연도, 도로폭, 도로차로수, 보차분리여부"
   ]
  },
  {
   "cell_type": "code",
   "execution_count": 32,
   "metadata": {},
   "outputs": [
    {
     "name": "stdout",
     "output_type": "stream",
     "text": [
      "   시도명 지정사유  지정연도  도로폭  도로차로수 보차분리여부\n",
      "0  경기도  NaN   NaN  5.0    1.0      Y\n",
      "1  경기도  NaN   NaN  5.0    1.0      Y\n",
      "2  경기도  NaN   NaN  9.0    1.0      Y\n"
     ]
    }
   ],
   "source": [
    "import numpy as np\n",
    "import pandas as pd\n",
    "import matplotlib.pyplot as plt\n",
    "\n",
    "pd_raw = pd.read_csv('전국일방통행도로표준데이터.csv', encoding='cp949')\n",
    "\n",
    "col_sel =  ['시도명', '지정사유', '지정연도','도로폭','도로차로수', '보차분리여부']\n",
    "pd_data = pd_raw[col_sel]\n",
    "\n",
    "print(pd_data[:3])"
   ]
  },
  {
   "cell_type": "code",
   "execution_count": 33,
   "metadata": {},
   "outputs": [
    {
     "name": "stdout",
     "output_type": "stream",
     "text": [
      "(2159, 6)\n",
      "시도명        object\n",
      "지정사유       object\n",
      "지정연도      float64\n",
      "도로폭       float64\n",
      "도로차로수     float64\n",
      "보차분리여부     object\n",
      "dtype: object \n",
      "\n",
      "시도명 \t False\n",
      "지정사유 \t True\n",
      "지정연도 \t True\n",
      "도로폭 \t False\n",
      "도로차로수 \t True\n",
      "보차분리여부 \t False\n"
     ]
    }
   ],
   "source": [
    "print(pd_data.shape)\n",
    "print(pd_data.dtypes, '\\n')\n",
    "\n",
    "for e in pd_data:\n",
    "    print(e, '\\t', pd_data[e].hasnans)"
   ]
  },
  {
   "cell_type": "code",
   "execution_count": 34,
   "metadata": {},
   "outputs": [
    {
     "name": "stdout",
     "output_type": "stream",
     "text": [
      "시도명 False\n",
      "지정사유 True\n",
      "True     1567\n",
      "False     592\n",
      "Name: 지정사유, dtype: int64\n",
      "\n",
      "지정연도 True\n",
      "True     1609\n",
      "False     550\n",
      "Name: 지정연도, dtype: int64\n",
      "\n",
      "도로폭 False\n",
      "도로차로수 True\n",
      "False    2158\n",
      "True        1\n",
      "Name: 도로차로수, dtype: int64\n",
      "\n",
      "보차분리여부 False\n"
     ]
    }
   ],
   "source": [
    "# 결측치 확인\n",
    "\n",
    "for e in pd_data:\n",
    "    print(e, pd_data[e].hasnans)\n",
    "    if pd_data[e].hasnans==True:\n",
    "        print(pd_data[e].isna().value_counts())\n",
    "        print()"
   ]
  },
  {
   "cell_type": "code",
   "execution_count": 35,
   "metadata": {},
   "outputs": [
    {
     "name": "stdout",
     "output_type": "stream",
     "text": [
      "['경기도' '경상북도' '제주특별자치도' '인천광역시' '강원도' '경상남도' '서울특별시' '충청남도' '전라남도' '전라북도'\n",
      " '광주광역시' '충청북도' '10']\n",
      "False\n",
      "['경기도' '경상북도' '제주특별자치도' '인천광역시' '강원도' '경상남도' '서울특별시' '충청남도' '전라남도' '전라북도'\n",
      " '광주광역시' '충청북도']\n"
     ]
    }
   ],
   "source": [
    "# 시도명\n",
    "print(pd_data['시도명'].unique())\n",
    "print(pd_data['시도명'].hasnans)\n",
    "\n",
    "# 결측치는 없으니 오류치 10 --> '강원도'로 변경\n",
    "filter1 = pd_raw['시도명'] == '10'\n",
    "pd_data.loc[filter1, '시도명'] = '강원도'\n",
    "\n",
    "print(pd_data['시도명'].unique())"
   ]
  },
  {
   "cell_type": "code",
   "execution_count": 36,
   "metadata": {},
   "outputs": [
    {
     "name": "stdout",
     "output_type": "stream",
     "text": [
      "['불분명' '원활' '불편' '안전' '주민건의' '교행불가' '교통소통' '혼잡' '본도로 진입불가' '주택밀집지역' '고가도로'\n",
      " '교통사고 다발' '원통전통시장주차장 출입구' '부채도로' '주민편의' '순환차로' '도로협소' '차량교행']\n",
      "False\n"
     ]
    }
   ],
   "source": [
    "# 지정사유\n",
    "# print(pd_data['지정사유'].unique())\n",
    "# print(pd_data['지정사유'].hasnans)\n",
    "\n",
    "# 결측치\n",
    "nan_filter = pd_data['지정사유'].isna()\n",
    "# print(nan_filter.value_counts())\n",
    "pd_data.loc[nan_filter, '지정사유'] = '불분명'\n",
    "# print(pd_data['지정사유'].unique())\n",
    "\n",
    "# 오류치\n",
    "pd_data = pd_data.replace('혼자지역', '혼잡지역')\n",
    "# print(pd_data['지정사유'].unique())\n",
    "\n",
    "def e1(x):\n",
    "    if '원활' in x:\n",
    "        return '원활'\n",
    "    elif '불편' in x:\n",
    "        return '불편'\n",
    "    elif '안전' in x:\n",
    "        return '안전'\n",
    "    elif '혼잡' in x:\n",
    "        return '혼잡'\n",
    "    else :\n",
    "        return x\n",
    "\n",
    "pd_data.loc[:, '지정사유'] = pd_data.loc[:, '지정사유'].apply(e1)\n",
    "print(pd_data['지정사유'].unique())\n",
    "print(pd_data['지정사유'].hasnans)\n"
   ]
  },
  {
   "cell_type": "code",
   "execution_count": 37,
   "metadata": {},
   "outputs": [
    {
     "name": "stdout",
     "output_type": "stream",
     "text": [
      "[  nan 2017. 2018. 2014. 2005. 2019. 2022. 2016. 2012. 1999. 2021. 2015.\n",
      " 2013. 2004. 2002. 2008. 2009. 2010. 2011. 1998. 2001. 2003. 2006. 2000.\n",
      " 1995. 2020. 2007. 1990. 1997. 1996.]\n",
      "True\n",
      "[   0. 2017. 2018. 2014. 2005. 2019. 2022. 2016. 2012. 1999. 2021. 2015.\n",
      " 2013. 2004. 2002. 2008. 2009. 2010. 2011. 1998. 2001. 2003. 2006. 2000.\n",
      " 1995. 2020. 2007. 1990. 1997. 1996.]\n",
      "False\n"
     ]
    }
   ],
   "source": [
    "# 지정연도\n",
    "print(pd_data['지정연도'].unique())\n",
    "print(pd_data['지정연도'].hasnans)\n",
    "\n",
    "# 결측치 nan --> 0\n",
    "na_filter = pd_data['지정연도'].isna()\n",
    "pd_data.loc[na_filter, '지정연도'] = 0\n",
    "\n",
    "print(pd_data['지정연도'].unique())\n",
    "print(pd_data['지정연도'].hasnans)"
   ]
  },
  {
   "cell_type": "code",
   "execution_count": 47,
   "metadata": {},
   "outputs": [
    {
     "name": "stdout",
     "output_type": "stream",
     "text": [
      "[5.  9.  4.  6.  7.5 8.  7.  nan 3.5 5.5 3.  4.5 6.5 2.5 7.1 6.3 3.7 8.5\n",
      " 8.2 2.  4.9 4.6 2.8 4.8 5.6 8.1 6.4 4.1 6.6 5.7 4.7 4.3 3.8 7.4 5.3 5.8\n",
      " 4.2 3.2 4.4 5.1 5.9 3.9 5.4 3.4 7.3 3.3 7.6 8.4 5.2 7.8 6.2 6.7 8.8 7.7\n",
      " 8.3 6.1 6.9 6.8]\n",
      "True\n",
      "1.0 9.0\n",
      "False    2159\n",
      "Name: 도로폭, dtype: int64\n"
     ]
    }
   ],
   "source": [
    "#도로폭\n",
    "print(pd_data['도로폭'].unique())\n",
    "print(pd_data['도로폭'].hasnans)\n",
    "\n",
    "#결측치, 오류치: 없음\n",
    "#이상치: upper 보다 큰값을 np.NaN으로 교체, 후에 dropna() 이용 샘플 삭제\n",
    "#print(rd_data['도로폭'].describe())\n",
    "q1, q3= pd_data['도로폭'].quantile([0.25, 0.75])\n",
    "iqr = q3 -q1\n",
    "upper = q3 + 1.5*iqr\n",
    "lower = q1 - 1.5*iqr\n",
    "print(lower, upper)\n",
    "filter1 = pd_data['도로폭']> upper\n",
    "print(filter1.value_counts())\n",
    "pd_data.loc[filter1, '도로폭'] = np.NaN\n"
   ]
  },
  {
   "cell_type": "code",
   "execution_count": 56,
   "metadata": {},
   "outputs": [
    {
     "name": "stdout",
     "output_type": "stream",
     "text": [
      "[5.0 9.0 4.0 6.0 7.5 8.0 7.0 5.5449730259931345 3.5 5.5 3.0 4.5 6.5 2.5\n",
      " 7.1 6.3 3.7 8.5 8.2 2.0 4.9 4.6 2.8 4.8 5.6 8.1 6.4 4.1 6.6 5.7 4.7 4.3\n",
      " 3.8 7.4 5.3 5.8 4.2 3.2 4.4 5.1 5.9 3.9 5.4 3.4 7.3 3.3 7.6 8.4 5.2 7.8\n",
      " 6.2 6.7 8.8 7.7 8.3 6.1 6.9 6.8]\n",
      "False\n"
     ]
    }
   ],
   "source": [
    "na_filter = pd_data['도로폭'].isna()\n",
    "pd_data.loc[na_filter, '도로폭'] = pd_data['도로폭'].mean()\n",
    "print(pd_data['도로폭'].unique())\n",
    "print(pd_data['도로폭'].hasnans)\n",
    "\n"
   ]
  },
  {
   "cell_type": "code",
   "execution_count": 39,
   "metadata": {},
   "outputs": [
    {
     "name": "stdout",
     "output_type": "stream",
     "text": [
      "[ 1.  2.  4.  3.  5. nan 60.]\n",
      "True\n",
      "False    2158\n",
      "True        1\n",
      "Name: 도로차로수, dtype: int64\n",
      "False    2158\n",
      "True        1\n",
      "Name: 도로차로수, dtype: int64\n",
      "[ 1.  2.  4.  3.  5. nan]\n",
      "True\n"
     ]
    }
   ],
   "source": [
    "#도로차로수\n",
    "print(pd_data['도로차로수'].unique())\n",
    "print(pd_data['도로차로수'].hasnans)\n",
    "\n",
    "#결측치:  1개 샘플, 후에 dropna()을 이용 제거\n",
    "na_filter = pd_data['도로차로수'].isna()\n",
    "print(na_filter.value_counts())\n",
    "\n",
    "#오류치: 60  -> np.NaN 대체, 후에 dropna()이용 제거\n",
    "filter1 = pd_data['도로차로수'] == 60\n",
    "print(filter1.value_counts())\n",
    "pd_data.loc[filter1, '도로차로수'] = np.NaN\n",
    "\n",
    "#이상치\n",
    "print(pd_data['도로차로수'].unique())\n",
    "print(pd_data['도로차로수'].hasnans)"
   ]
  },
  {
   "cell_type": "code",
   "execution_count": 40,
   "metadata": {},
   "outputs": [
    {
     "name": "stdout",
     "output_type": "stream",
     "text": [
      "['Y' 'N' ' ']\n",
      "False\n",
      "False    2158\n",
      "True        1\n",
      "Name: 보차분리여부, dtype: int64\n",
      "['Y' 'N' nan]\n",
      "True\n"
     ]
    }
   ],
   "source": [
    "#보차분리여부\n",
    "print(pd_data['보차분리여부'].unique())\n",
    "print(pd_data['보차분리여부'].hasnans)\n",
    "\n",
    "#결측치: 1개 ' 결측치 -> np.NaN으로 대체, 후에 dropna()이용 삭제\n",
    "na_filter = pd_data['보차분리여부'] ==' '\n",
    "print(na_filter.value_counts())\n",
    "pd_data.loc[na_filter, '보차분리여부'] = np.NaN\n",
    "\n",
    "#오류치, 이상치 없음\n",
    "print(pd_data['보차분리여부'].unique())\n",
    "print(pd_data['보차분리여부'].hasnans)"
   ]
  },
  {
   "cell_type": "code",
   "execution_count": 41,
   "metadata": {},
   "outputs": [
    {
     "name": "stdout",
     "output_type": "stream",
     "text": [
      "(2159, 6)\n",
      "(2103, 6)\n"
     ]
    }
   ],
   "source": [
    "pd_data_f = pd_data.dropna()\n",
    "\n",
    "print(pd_data.shape)\n",
    "print(pd_data_f.shape)"
   ]
  },
  {
   "cell_type": "code",
   "execution_count": 42,
   "metadata": {},
   "outputs": [
    {
     "name": "stdout",
     "output_type": "stream",
     "text": [
      "시도명 False\n",
      "지정사유 False\n",
      "지정연도 False\n",
      "도로폭 True\n",
      "False    2104\n",
      "True       55\n",
      "Name: 도로폭, dtype: int64\n",
      "\n",
      "도로차로수 True\n",
      "False    2157\n",
      "True        2\n",
      "Name: 도로차로수, dtype: int64\n",
      "\n",
      "보차분리여부 True\n",
      "False    2158\n",
      "True        1\n",
      "Name: 보차분리여부, dtype: int64\n",
      "\n"
     ]
    }
   ],
   "source": [
    "# 결측치 확인\n",
    "\n",
    "for e in pd_data:\n",
    "    print(e, pd_data[e].hasnans)\n",
    "    if pd_data[e].hasnans==True:\n",
    "        print(pd_data[e].isna().value_counts())\n",
    "        print()"
   ]
  }
 ],
 "metadata": {
  "kernelspec": {
   "display_name": "Python 3",
   "language": "python",
   "name": "python3"
  },
  "language_info": {
   "codemirror_mode": {
    "name": "ipython",
    "version": 3
   },
   "file_extension": ".py",
   "mimetype": "text/x-python",
   "name": "python",
   "nbconvert_exporter": "python",
   "pygments_lexer": "ipython3",
   "version": "3.10.9"
  },
  "orig_nbformat": 4,
  "vscode": {
   "interpreter": {
    "hash": "252d00ae1abf913d993c897358600e69c29a1bffb17fa3d647027b051c354ad6"
   }
  }
 },
 "nbformat": 4,
 "nbformat_minor": 2
}
