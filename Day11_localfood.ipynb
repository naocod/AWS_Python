{
 "cells": [
  {
   "cell_type": "code",
   "execution_count": 23,
   "metadata": {},
   "outputs": [
    {
     "name": "stdout",
     "output_type": "stream",
     "text": [
      "[['로컬푸드인증번호', '인증유효시작일자', '인증유효종료일자', '인증취소일자', '사업장도로명주소', '사업장지번주소', '생산지도로명주소', '생산지지번주소', '품목명', '재배면적', '재배규모', '인증부여일자', '사업자명', '사업자등록번호', '전화번호', '관리기관명', '데이터기준일자', '제공기관코드', '제공기관명'], ['HYG-162', '2021-09-01', '2031-09-01', '', '경상남도 함양군 수동면 산업단지길 209+경상남도 함양군 수동면 우명하교로 174', '', '경상남도 함양군 병곡면 다볕길 94', '', '칡청+달맞이꽃씨유', '', '122', '2021-09-01', '청운당농산', '', '070-7779-2122', '경상남도 함양군청', '2022-11-23', '5460000', '경상남도 함양군'], ['HYG-163', '2021-09-01', '2031-09-01', '', '경상남도 함양군 수동면 산업단지길 209+경상남도 함양군 수동면 우명하교로 174', '', '경상남도 함양군 수동면 사근산성길 35-4', '', '굼벵이환', '', '123', '2021-09-01', '굼찬농장', '', '070-7779-2122', '경상남도 함양군청', '2022-11-23', '5460000', '경상남도 함양군']]\n",
      "{19}\n"
     ]
    }
   ],
   "source": [
    "import numpy as np\n",
    "\n",
    "def my_split(s):\n",
    "    block_start = False\n",
    "    start_index = 0\n",
    "    ret_list=[]\n",
    "    for i, c in enumerate(s):\n",
    "        if block_start==False:\n",
    "            if c==',':\n",
    "                ret_list.append(s[start_index:i])\n",
    "                start_index=i+1\n",
    "            elif c=='\"':\n",
    "                block_start=True\n",
    "                start_index = i\n",
    "        else:\n",
    "            if c=='\"':\n",
    "                block_start=False\n",
    "    if s[-1]!=',':\n",
    "        ret_list.append(s[start_index:])\n",
    "    return ret_list\n",
    "\n",
    "def split_len(data_list):\n",
    "    len_list = []\n",
    "    for e in data_list:\n",
    "        len_list.append(len(e))\n",
    "    print(set(len_list))\n",
    "    if len(set(len_list)) > 1:\n",
    "        for i in set(len_list):\n",
    "            print(i, len_list.count(i))    \n",
    "\n",
    "raw_data = []\n",
    "with open('전국로컬푸드인증정보표준데이터.csv') as f:\n",
    "    for line in f:\n",
    "        raw_data.append(my_split(line[:-1]))\n",
    "print(raw_data[:3])\n",
    "split_len(raw_data)"
   ]
  },
  {
   "cell_type": "code",
   "execution_count": 24,
   "metadata": {},
   "outputs": [
    {
     "name": "stdout",
     "output_type": "stream",
     "text": [
      "(0, '로컬푸드인증번호')\n",
      "(1, '인증유효시작일자')\n",
      "(2, '인증유효종료일자')\n",
      "(3, '인증취소일자')\n",
      "(4, '사업장도로명주소')\n",
      "(5, '사업장지번주소')\n",
      "(6, '생산지도로명주소')\n",
      "(7, '생산지지번주소')\n",
      "(8, '품목명')\n",
      "(9, '재배면적')\n",
      "(10, '재배규모')\n",
      "(11, '인증부여일자')\n",
      "(12, '사업자명')\n",
      "(13, '사업자등록번호')\n",
      "(14, '전화번호')\n",
      "(15, '관리기관명')\n",
      "(16, '데이터기준일자')\n",
      "(17, '제공기관코드')\n",
      "(18, '제공기관명')\n"
     ]
    }
   ],
   "source": [
    "for e in enumerate(raw_data[0]):\n",
    "    print(e)"
   ]
  },
  {
   "cell_type": "code",
   "execution_count": 25,
   "metadata": {},
   "outputs": [
    {
     "name": "stdout",
     "output_type": "stream",
     "text": [
      "(7794, 5)\n",
      "['사업장도로명주소' '사업장지번주소' '생산지도로명주소' '생산지지번주소' '품목명']\n"
     ]
    }
   ],
   "source": [
    "np_data = np.array(raw_data)\n",
    "# print(np_data.shape)\n",
    "np_data = np_data[:, 4:9]\n",
    "print(np_data.shape)\n",
    "print(np_data[0])"
   ]
  },
  {
   "cell_type": "code",
   "execution_count": 28,
   "metadata": {},
   "outputs": [],
   "source": [
    "def process_product_names(s):\n",
    "    r = []\n",
    "    remove_after = ['(', '외']\n",
    "    split_at = ['+', ',']\n",
    "    for c in remove_after:\n",
    "        if c in s:\n",
    "            s = s[:s.index(c)]\n",
    "\n",
    "    for c in split_at:\n",
    "        if c in s:\n",
    "            r = r + s.split(c)\n",
    "\n",
    "    # if '+' in s:\n",
    "    #     r = s.split('+')\n",
    "    # if ',' in s:\n",
    "    #     r = s.split(',')\n",
    "\n",
    "    if len(r) == 0:\n",
    "        r.append(s)\n",
    "\n",
    "    return r\n",
    "\n",
    "sample1 = 'productA+productB'\n",
    "sample2 = 'productA,productB'\n",
    "sample3 = 'product(A+B)'\n",
    "sample4 = 'product외 abc'\n",
    "sample5 = 'product'\n",
    "assert process_product_names(sample1) == ['productA', 'productB']      # ['productA', 'productB']\n",
    "assert process_product_names(sample2) == ['productA', 'productB']\n",
    "assert process_product_names(sample3) == ['product']\n",
    "assert process_product_names(sample4) == ['product']\n",
    "assert process_product_names(sample5) == ['product']"
   ]
  },
  {
   "cell_type": "code",
   "execution_count": 32,
   "metadata": {},
   "outputs": [
    {
     "name": "stdout",
     "output_type": "stream",
     "text": [
      "[] 0\n",
      "[] 0\n"
     ]
    }
   ],
   "source": [
    "area_name_list = []\n",
    "product_list = []\n",
    "all_data = []\n",
    "\n",
    "for sample in np_data:\n",
    "    area_name = ''\n",
    "    for i in sample[:-1]:\n",
    "        i = i.strip(' \"')\n",
    "        if len(i) > 0:\n",
    "            area_name = ' '.join(i.split()[:2])\n",
    "            # area_name_list.append(area_name)\n",
    "            break\n",
    "    # product_list.append(process_product_names(sample[-1]))\n",
    "    for p in process_product_names(sample[-1]):\n",
    "        all_data.append([area_name, p])\n",
    "\n",
    "# print(area_name_list[:3], len(area_name_list))\n",
    "# print(product_list[:3], len(product_list))"
   ]
  },
  {
   "cell_type": "code",
   "execution_count": 37,
   "metadata": {},
   "outputs": [
    {
     "name": "stdout",
     "output_type": "stream",
     "text": [
      "['칡청', '달맞이꽃씨유', '굼벵이환', '메론', '차요태', '열매마', '포도', '꿀', '포도', '사과', '샤인머스켓', '미숫가루', '밀가루', '쌀', '사과', '알밤', '한라봉', '레드향', '천혜향', '사과', '서복태', '함양애주', '지리산애주', '키고리', '스카프', '가방', '두건', '로메인 상추', '더덕주', '블루베리', '호두', '새싹인삼', '유정란', '한과', '도라지', '곶감', '감말랭이', '딸기', '고로쇠 수액', '지리산도라지와돌배', '곶감', '말랭이', '사과', '딸기', '복수박', '두릅', '고사리', '취나물', '누른호박', '배', '즙류', 'ABC주스', '우슬진액', '꿀류', '차류', '미나리', '두릅', '취나물', '머위즙', '삼백초즙', '블루베리', '신령호두', '부각류', '블루베리', '가지', '애호박', '사과', '차류', '아스파라거스', '담솔', '복분자', '솔송주', '고구마', '사과', '도마', '주걱', '약초류', '유기농계란', '엉겅퀴', '오가피', '죽염류', '된장', '치약', '국화분재', '표고버섯', '도라지', '부각류', '그린하미과', '컬리플라워', '생강청', '산골편강', '도라비배청', '보리새싹', '레몬머틀', '배', '고구마', '오란다', '조청산자', '김부각', '강정류', '꿀류', '곶감', '대파', '양상추', '곶감', '사과', '사과즙', '오미자청', '도라지배즙', '고구마', '무말랭이', '시래기', '사과', '사과즙', '반쯤깐밤', '산삼캔디', '지리산명월초 티백차', '표고버섯', '우산고로쇠 수액', '본래족발스페셜세트', '이불', '베개', '목화솜', '꾸찌봉차', '꾸지뽕진액', '오미자즙', '양파즙', '매실원액', '개복숭아원액', '솔순원액', '고로쇠 수액', '달걀', '꿀', '화분', '아스파라거스', '꿀류', '고구마', '산삼캔디', '산삼젤리', '곡물강정', '산삼견과정', '오미자랑', '고추부각', '김부각', '고추장', '된장', '간장', '사과', '국수', '마스크팩', '샴푸', '산삼주', '무말랭이', '아주까리잎', '토마토', '열매마', '지리산 배도라지 생강청', '백봉령', '도라지', '산머루즙골드', '블루베리진액', '상황버섯진액', '하늘과맞닿은 사과즙 도라지배즙', '냉동산딸기', '적양파', '양파', '감자', '수박', '지리산 꾸찌봉잎차', '애플수박', '한방향낭', '국수호박', '꿀류', '꿀류', '호두', '포도', '포도', '장아찌류', '꿀류', '꿀류', '연꽃에센스 미스트', '마스크팩세트', '족발', '쌈장', '새우젓', '블루베리', '아로니아', '생강청', '배도라지청', '포도', '고추', '곶감', '감말랭이', '사과', '즙류', '다류', '대추', '아로니아', '단감', '대봉감', '즙류', '잼류', '딸기', '족발세트', '산양삼농축액', '김부각', '약초류', '나물류', '죽염관련제품', '냉면', '삼계탕', '도가니탕', '우족탕', '노루궁뎅이', '버섯', '연잎밥', '연근차', '연잎차', '연잎가루', '연근가루', '마스크팩', '호두', '고사리', '국수', '고로쇠 수액', '양파', '감자', '들기름', '참기름', '복수박', '수박', '지리산흑돼지 불고기용', '지리산흑돼지 찌개용 500G', '토마토', '복수박', '나물류', '양파', '오미자', '오미자즙', '꿀', '블루베리', '딸기', '복수박', '토마토', '된장', '고추장', '석이버섯', '표고버섯', '양배추', '미니배추', '브로콜리', '콜리플라워', '요구르트', '치즈', '당귀', '황기', '오미자', '오미자즙', '헛개나무', '약초류', '흑돼지', '떡갈비', '아피오스', '산양삼꾸지뽕', '배', '배즙', '사과', '꿀', '블루베리', '된장', '고추장', '감식초', '뽕잎환', '산머루즙', '산머루팩', '산머루와인', '곶감', '시래기', '산양삼 음료', '산양삼', '여주', '돼지감자', '호두', '감', '감말랭이', '장아찌류', '생강차', '사과', '말랭이', '머뮈잎', '무말랭이', '옻순', '취나물', '토란대', '곶감', '다류', '말랭이', '액상차', '고추', '나물', '오디', '꾸지뽕엑기스', '곶감', '아로니아', '호두', '수박', '흑돼지', '한우사골곰탕', '곡류', '복숭아', '곶감', '감말랭이', '고구마', '옻나무', '환류', '청류', '다류', '사과', '흑돼지소시지', '배', '배즙', '오미자즙', '양파즙', '아로니아즙', '표고버섯', '대봉', '무말랭이', '머위잎', '토란대', '무유황', '감말랭이', '야콘', '고구마형 과자', '왕소라형과자', '소프트매실캔디', '매실젤리', '생강젤리', '석이버섯', '콜프프레스 프리미엄 생들께오일5종']\n",
      "339\n"
     ]
    }
   ],
   "source": [
    "#print(all_data[:10])\n",
    "fw_area_name = []\n",
    "fw_products = []\n",
    "for v in all_data:\n",
    "    if v[0] in fw_area_name:\n",
    "        i = fw_area_name.index(v[0])\n",
    "        fw_products[i].append(v[1])\n",
    "    else:\n",
    "        fw_area_name.append(v[0])\n",
    "        fw_products.append([v[1]])\n",
    "\n",
    "# print(fw_area_name[:3], len(fw_area_name))\n",
    "# print(fw_products[:3], len(fw_products))\n",
    "fw_dict = dict(zip(fw_area_name, fw_products))\n",
    "print(fw_dict['경상남도 함양군'])\n",
    "print(len(fw_dict['경상남도 함양군']))"
   ]
  },
  {
   "cell_type": "code",
   "execution_count": 39,
   "metadata": {},
   "outputs": [
    {
     "name": "stdout",
     "output_type": "stream",
     "text": [
      "1425\n",
      "{'경기도 수원시', '전라남도 순천시', '강원도 원주시', '경기도 화성시', '전라북도 완주군', '전라북도 전주시', '충청남도 아산시', '경상남도 함양군', '충청북도 옥천군', '충청남도 당진시'}\n"
     ]
    }
   ],
   "source": [
    "rev_dict = dict()\n",
    "for v in all_data:\n",
    "    if v[1] not in rev_dict.keys():\n",
    "        rev_dict[v[1]] = {v[0]}\n",
    "    else:\n",
    "        rev_dict[v[1]].add(v[0])\n",
    "print(len(rev_dict))\n",
    "print(rev_dict['배'])"
   ]
  },
  {
   "cell_type": "code",
   "execution_count": 40,
   "metadata": {},
   "outputs": [
    {
     "name": "stdout",
     "output_type": "stream",
     "text": [
      "[('고추', 541), ('대파', 348), ('상추', 289), ('배추', 249), ('고구마', 234), ('딸기', 225), ('감자', 219), ('포도', 217), ('복숭아', 207), ('감말랭이', 187)]\n"
     ]
    }
   ],
   "source": [
    "p_list = []\n",
    "for v in all_data:\n",
    "    p_list.append(v[1])\n",
    "\n",
    "p_set = set(p_list)\n",
    "count_list = []\n",
    "for v in p_set:\n",
    "    count_list.append((v, p_list.count(v)))\n",
    "x = sorted(count_list, key = lambda x: x[1], reverse = True)\n",
    "print(x[:10])"
   ]
  },
  {
   "cell_type": "code",
   "execution_count": 27,
   "metadata": {},
   "outputs": [
    {
     "name": "stdout",
     "output_type": "stream",
     "text": [
      "경상남도 함양군 수동면 산업단지길 209+경상남도 함양군 수동면 우명하교로 174\n"
     ]
    },
    {
     "data": {
      "text/plain": [
       "'경상남도 함양군'"
      ]
     },
     "execution_count": 27,
     "metadata": {},
     "output_type": "execute_result"
    }
   ],
   "source": [
    "sample_text = np_data[2][0]\n",
    "print(sample_text)\n",
    "sample_text.split()[:2]\n",
    "' '.join(sample_text.split()[:2])"
   ]
  },
  {
   "cell_type": "code",
   "execution_count": 22,
   "metadata": {},
   "outputs": [],
   "source": []
  }
 ],
 "metadata": {
  "kernelspec": {
   "display_name": "Python 3",
   "language": "python",
   "name": "python3"
  },
  "language_info": {
   "codemirror_mode": {
    "name": "ipython",
    "version": 3
   },
   "file_extension": ".py",
   "mimetype": "text/x-python",
   "name": "python",
   "nbconvert_exporter": "python",
   "pygments_lexer": "ipython3",
   "version": "3.10.9"
  },
  "orig_nbformat": 4,
  "vscode": {
   "interpreter": {
    "hash": "252d00ae1abf913d993c897358600e69c29a1bffb17fa3d647027b051c354ad6"
   }
  }
 },
 "nbformat": 4,
 "nbformat_minor": 2
}
