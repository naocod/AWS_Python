{
 "cells": [
  {
   "cell_type": "code",
   "execution_count": 5,
   "metadata": {},
   "outputs": [],
   "source": [
    "import numpy as np\n",
    "# 리스트와 같지만 좀 더 계산을 위한 형식"
   ]
  },
  {
   "cell_type": "code",
   "execution_count": 8,
   "metadata": {},
   "outputs": [
    {
     "name": "stdout",
     "output_type": "stream",
     "text": [
      "[1, 2, 3, 4, 5]\n",
      "[1 2 3 4 5]\n",
      "<class 'numpy.ndarray'>\n"
     ]
    }
   ],
   "source": [
    "a1 = np.array([1, 2, 3, 4, 5]) # list를 ndarray로 변환\n",
    "print([1, 2, 3, 4, 5])\n",
    "print(a1)\n",
    "print(type(a1))"
   ]
  },
  {
   "cell_type": "code",
   "execution_count": 15,
   "metadata": {},
   "outputs": [
    {
     "name": "stdout",
     "output_type": "stream",
     "text": [
      "[0 1 2 3 4 5 6 7 8 9]\n",
      "[ 3  6  9 12 15 18 21 24 27 30 33 36 39 42 45 48 51 54 57 60 63 66 69 72\n",
      " 75 78 81 84 87 90 93 96 99]\n",
      "[1.3 1.8 2.3 2.8 3.3 3.8 4.3 4.8 5.3 5.8 6.3 6.8 7.3 7.8 8.3 8.8 9.3 9.8]\n"
     ]
    }
   ],
   "source": [
    "a2 = np.arange(10)\n",
    "print(a2)\n",
    "\n",
    "# 변수 a3, 100 아래 3의 배수\n",
    "a3 = np.arange(3, 100, 3) # start, stop, step\n",
    "print(a3)\n",
    "\n",
    "# 1에서부터 10아래 0.5씩 증가하는 숫자\n",
    "a4 = np.arange(1.3, 10, 0.5) \n",
    "print(a4)\n",
    "\n",
    "# lista = [i for i in range(1.3, 10, 0.5)] # 소수점 안들어감"
   ]
  },
  {
   "cell_type": "code",
   "execution_count": 17,
   "metadata": {},
   "outputs": [
    {
     "name": "stdout",
     "output_type": "stream",
     "text": [
      "[ 0.  5. 10.]\n"
     ]
    }
   ],
   "source": [
    " # 공간을 구분함\n",
    " # stop이 포함되는 특징을 가진다.\n",
    "a4 = np.linspace(0, 10, 3) \n",
    "print(a4)"
   ]
  },
  {
   "cell_type": "code",
   "execution_count": 20,
   "metadata": {},
   "outputs": [
    {
     "name": "stdout",
     "output_type": "stream",
     "text": [
      "[0. 0. 0. 0. 0.]\n",
      "[1. 1. 1. 1. 1.]\n"
     ]
    },
    {
     "data": {
      "text/plain": [
       "array([1., 1., 1., 1., 1.])"
      ]
     },
     "execution_count": 20,
     "metadata": {},
     "output_type": "execute_result"
    }
   ],
   "source": [
    "# 정수형이 아닌 실수형으로 들어가기 때문에 .이 들어감\n",
    "# 0으로 채우기\n",
    "a5 = np.zeros(5)\n",
    "print(a5)\n",
    "\n",
    "# 1로 채우기\n",
    "a6 = np.ones(5)\n",
    "print(a6)\n",
    "a6.astype(np.float64)"
   ]
  },
  {
   "cell_type": "code",
   "execution_count": 24,
   "metadata": {},
   "outputs": [
    {
     "name": "stdout",
     "output_type": "stream",
     "text": [
      "[1.  2.  3.5 4.2]\n",
      "['1' '2' 'abc' 'def']\n"
     ]
    }
   ],
   "source": [
    "# 실수로 강제 형변환\n",
    "lista = [1, 2, 3.5, 4.2]\n",
    "a7 = np.array(lista)\n",
    "print(a7)\n",
    "\n",
    "# 문자열로 강제 형변환\n",
    "listb = [1, 2, 'abc', \"def\"]\n",
    "a8 = np.array(listb)\n",
    "print(a8)\n",
    "# a8.astype(np.int64)"
   ]
  },
  {
   "cell_type": "code",
   "execution_count": 27,
   "metadata": {},
   "outputs": [
    {
     "name": "stdout",
     "output_type": "stream",
     "text": [
      "float64\n",
      "1\n",
      "(4,)\n",
      "4\n",
      "8\n",
      "<memory at 0x00000297FEEBB1C0>\n"
     ]
    }
   ],
   "source": [
    "#a8.dtype # ('<U11') = 유니코드라는 뜻\n",
    "print(a7.dtype)\n",
    "print(a7.ndim) #몇차원 array인지를 물어보는 것 \n",
    "print(a7.shape) #어떤 모양인지를 물어보는 것 , 투플형태로 일차원 배열이라는 결과가 나옴 \n",
    "print(a7.size) #이 배열안에 있는 모든 elument들의 갯수 \n",
    "\n",
    "print(a7.itemsize) #데이터 타입의 byte사이즈\n",
    "print(a7.data)"
   ]
  },
  {
   "cell_type": "code",
   "execution_count": 29,
   "metadata": {},
   "outputs": [
    {
     "name": "stdout",
     "output_type": "stream",
     "text": [
      "[10 15 20 25 30 35 40 45 50 55 60 65 70 75 80 85 90 95]\n",
      "10 95\n",
      "[25 30 35 40]\n",
      "[20 30 40 50]\n"
     ]
    }
   ],
   "source": [
    "a10 = np.arange(10, 100, 5)\n",
    "print(a10)\n",
    "\n",
    "# 특정인덱스\n",
    "print(a10[0], a10[-1])\n",
    "\n",
    "# start, stop\n",
    "print(a10[3:7])\n",
    "\n",
    "# start, stop, step\n",
    "print(a10[2:9:2])"
   ]
  },
  {
   "cell_type": "code",
   "execution_count": 32,
   "metadata": {},
   "outputs": [
    {
     "name": "stdout",
     "output_type": "stream",
     "text": [
      "[10 15 20 25 30 35 40 45 50 55 60 65 70 75 80 85 90 95]\n",
      "[15 25 45]\n",
      "[10, 15, 20, 25, 30, 35, 40, 45, 50, 55, 60, 65, 70, 75, 80, 85, 90, 95]\n"
     ]
    }
   ],
   "source": [
    "a10 = np.arange(10, 100, 5)\n",
    "print(a10)\n",
    "print(a10[[1, 3, 7]]) # 일정하지 않은 리스트에서 특정 인덱스값을 뽑아오는 것이 가능하나 파이썬의 list에서는 불가능\n",
    "\n",
    "# 파이썬 리스트\n",
    "list10 = [x for x in range(10, 100, 5)]\n",
    "print(list10)\n",
    "# print(list10[[1, 3, 7]])"
   ]
  },
  {
   "cell_type": "code",
   "execution_count": 37,
   "metadata": {},
   "outputs": [
    {
     "name": "stdout",
     "output_type": "stream",
     "text": [
      "[10 15 20 25 30 35 40 45 50 55 60 65 70 75 80 85 90 95]\n",
      "[15 25 35 45 55 65 75 85 95]\n",
      "[False  True False  True False  True False  True False  True False  True\n",
      " False  True False  True False  True]\n",
      "(18,)\n",
      "(18,)\n",
      "[15 25 35 45 55 65 75 85 95]\n"
     ]
    }
   ],
   "source": [
    "# 조건식으로 필터링 가능\n",
    "a10 = np.arange(10, 100, 5)\n",
    "print(a10)\n",
    "print(a10[a10 % 10 == 5])\n",
    "\n",
    "# 조건식 자체가 ndarray를 만듬\n",
    "# bool list를 만들어서 필터링을 함\n",
    "x = (a10 % 10 == 5)\n",
    "print(x) \n",
    "print(x.shape)\n",
    "print(a10.shape)\n",
    "print(a10[x]) # a10[bool list의 조건식]"
   ]
  },
  {
   "cell_type": "code",
   "execution_count": 40,
   "metadata": {},
   "outputs": [
    {
     "name": "stdout",
     "output_type": "stream",
     "text": [
      "[0, 1, 2, 3, 4]\n",
      "[10, 11, 12, 13, 14]\n"
     ]
    },
    {
     "data": {
      "text/plain": [
       "[0, 1, 2, 3, 4, 10, 11, 12, 13, 14]"
      ]
     },
     "execution_count": 40,
     "metadata": {},
     "output_type": "execute_result"
    }
   ],
   "source": [
    "lista = [x for x in range(5)]\n",
    "listb = [x for x in range(10, 15)]\n",
    "print(lista)\n",
    "print(listb)\n",
    "print(lista + listb)\n",
    "# print(lista - listb) # 오류남"
   ]
  },
  {
   "cell_type": "code",
   "execution_count": 43,
   "metadata": {},
   "outputs": [
    {
     "name": "stdout",
     "output_type": "stream",
     "text": [
      "[0 1 2 3 4]\n",
      "[10 11 12 13 14]\n",
      "add:  [10 12 14 16 18]\n",
      "[ 0  1  2  3  4 10 11 12 13 14]\n",
      "sub:  [-10 -10 -10 -10 -10]\n",
      "mul:  [ 0 11 24 39 56]\n",
      "div:  [0.         0.09090909 0.16666667 0.23076923 0.28571429]\n"
     ]
    }
   ],
   "source": [
    "# ndarray list 합치기\n",
    "a1 = np.arange(5)\n",
    "a2 = np.arange(10, 15)\n",
    "print(a1)\n",
    "print(a2)\n",
    "# 파이썬 list에서는 두 list를 연결시켜주지만\n",
    "# ndarray는 같은 인덱스끼리 + 계산됨\n",
    "# 사칙연산이 되려면 두 array의 길이가 같아야 함\n",
    "print('add: ', a1 + a2)\n",
    "print(np.concatenate((a1, a2))) # 붙이고 싶은 array를 튜플로 묶어줘야함\n",
    "print('sub: ', a1 - a2)\n",
    "print('mul: ', a1 * a2)\n",
    "print('div: ', a1 / a2)"
   ]
  }
 ],
 "metadata": {
  "kernelspec": {
   "display_name": "Python 3",
   "language": "python",
   "name": "python3"
  },
  "language_info": {
   "codemirror_mode": {
    "name": "ipython",
    "version": 3
   },
   "file_extension": ".py",
   "mimetype": "text/x-python",
   "name": "python",
   "nbconvert_exporter": "python",
   "pygments_lexer": "ipython3",
   "version": "3.10.9"
  },
  "orig_nbformat": 4,
  "vscode": {
   "interpreter": {
    "hash": "252d00ae1abf913d993c897358600e69c29a1bffb17fa3d647027b051c354ad6"
   }
  }
 },
 "nbformat": 4,
 "nbformat_minor": 2
}
