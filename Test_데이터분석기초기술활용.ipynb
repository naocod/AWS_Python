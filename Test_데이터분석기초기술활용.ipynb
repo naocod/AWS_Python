{
 "cells": [
  {
   "cell_type": "code",
   "execution_count": 4,
   "metadata": {},
   "outputs": [],
   "source": [
    "def my_sq_prod(python_list):\n",
    "\n",
    "   return_value = 1\n",
    "\n",
    "   for number in python_list:\n",
    "\n",
    "        return_value = return_value * number**2\n",
    "\n",
    "   return return_value\n",
    "\n",
    " \n",
    "\n",
    "assert my_sq_prod([1,2,3]) == 36"
   ]
  },
  {
   "cell_type": "code",
   "execution_count": 7,
   "metadata": {},
   "outputs": [
    {
     "data": {
      "text/plain": [
       "36"
      ]
     },
     "execution_count": 7,
     "metadata": {},
     "output_type": "execute_result"
    }
   ],
   "source": [
    "import math\n",
    "\n",
    "def my_sq_prod(python_list):\n",
    "    return_list = []\n",
    "    for n in python_list:\n",
    "        return_list.append(n ** 2)\n",
    "    return math.prod(return_list)\n",
    "\n",
    "my_sq_prod([1, 2, 3])"
   ]
  },
  {
   "cell_type": "code",
   "execution_count": 9,
   "metadata": {},
   "outputs": [],
   "source": [
    "import numpy as np\n",
    "import math\n",
    "\n",
    "def my_sq_prod3(ndarray):\n",
    "    return np.prod(ndarray ** 2)\n",
    "\n",
    "assert my_sq_prod3(np.array([4,5,6])) == 14400"
   ]
  }
 ],
 "metadata": {
  "kernelspec": {
   "display_name": "Python 3",
   "language": "python",
   "name": "python3"
  },
  "language_info": {
   "codemirror_mode": {
    "name": "ipython",
    "version": 3
   },
   "file_extension": ".py",
   "mimetype": "text/x-python",
   "name": "python",
   "nbconvert_exporter": "python",
   "pygments_lexer": "ipython3",
   "version": "3.10.9"
  },
  "orig_nbformat": 4
 },
 "nbformat": 4,
 "nbformat_minor": 2
}
