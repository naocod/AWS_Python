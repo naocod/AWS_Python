{
 "cells": [
  {
   "attachments": {},
   "cell_type": "markdown",
   "metadata": {},
   "source": [
    "### 전국육교정보표준데이터\n",
    "* 제각각 계산시 결측치 있는 샘플은 버림\n",
    "\n",
    "    - 내진설계 된 육교 퍼센트\n",
    "    - 안전등급별 육교 갯수, 비율\n",
    "    - 육교가 만들어진 연도 vs 장애인편의시설 간 상관관계 연도, 장애인편의 시설 갖춘 육교의 갯수 / 해당 연도 건설 육교 갯수\n",
    "\n",
    "    - 육교연장, 허용통행하중, 통행제한 높이에 대해\n",
    "        최대, 최소값, 평균, 표준편차\n",
    "        \n",
    "            - 길이가 가장 긴 육교(육교 연장)\n",
    "            - 가장 튼튼한 육교 (허용통행하중)\n",
    "            - 가장 높은 유교 (통행제한 높이)"
   ]
  },
  {
   "cell_type": "code",
   "execution_count": 70,
   "metadata": {},
   "outputs": [],
   "source": [
    "import numpy as np\n",
    "import matplotlib.pyplot as plt\n",
    "\n",
    "def my_split(s):\n",
    "    block_start = False\n",
    "    start_index = 0\n",
    "    ret_list=[]\n",
    "    for i, c in enumerate(s):\n",
    "        if block_start==False:\n",
    "            if c==',':\n",
    "                ret_list.append(s[start_index:i])\n",
    "                start_index=i+1\n",
    "            elif c=='\"':\n",
    "                block_start=True\n",
    "                start_index = i\n",
    "        else:\n",
    "            if c=='\"':\n",
    "                block_start=False\n",
    "    if s[-1]!=',':\n",
    "        ret_list.append(s[start_index:])\n",
    "    return ret_list\n",
    "\n",
    "def split_len(data_list):\n",
    "    len_list = []\n",
    "    for e in data_list:\n",
    "        len_list.append(len(e))\n",
    "    print(set(len_list))\n",
    "    if len(set(len_list)) > 1:\n",
    "        for i in set(len_list):\n",
    "            print(i, len_list.count(i))  \n",
    "    return set(len_list)  "
   ]
  },
  {
   "cell_type": "code",
   "execution_count": 71,
   "metadata": {},
   "outputs": [
    {
     "name": "stdout",
     "output_type": "stream",
     "text": [
      "[['육교명', '도로종류', '도로노선번호', '도로노선명', '소재지도로명주소', '위도', '경도', '육교연장', '육교높이', '허용통행하중', '통행제한높이', '육교폭', '난간높이', '조명개수', '장애인편의시설설치여부', '장애인편의시설종류', '장애인편의시설수량', '부대시설종류', '부대시설수량', '육교준공일자', '내진설계적용여부', '안전등급', '사용제한구분', '육교보수보강내역', '최종안전점검유형', '최종안전점검일자', '관리기관명', '데이터기준일자', '제공기관코드', '제공기관명'], ['우신초교 앞 보도육교', '시도', '147', '신길로', '서울특별시 영등포구 신길로 190', '37.509263', '126.910801', '23', '4.7', '', '4.5', '3.4', '1', '8', 'Y', '점자블록+핸드레일 촉지판', '24', '', '', '1980-09-18', ' ', '보통', '제한없음', '', '정기점검', '2022-04-16', '서울특별시 영등포구청', '2022-07-04', '3180000', '서울특별시 영등포구'], ['영등포역 횡단 보도육교', '기타', '없음', '경인선', '서울특별시 영등포구 경인로94길 7', '37.513895', '126.903695', '83', '', '0.5', '5.6', '3.2', '1.8', '14', 'Y', '엘리베이터', '', '', '', '1974-12-01', ' ', '보통', '제한없음', '', '정기점검', '2022-04-16', '서울특별시 영등포구청', '2022-07-04', '3180000', '서울특별시 영등포구']]\n",
      "{30}\n",
      "(0, '육교명')\n",
      "(1, '도로종류')\n",
      "(2, '도로노선번호')\n",
      "(3, '도로노선명')\n",
      "(4, '소재지도로명주소')\n",
      "(5, '위도')\n",
      "(6, '경도')\n",
      "(7, '육교연장')\n",
      "(8, '육교높이')\n",
      "(9, '허용통행하중')\n",
      "(10, '통행제한높이')\n",
      "(11, '육교폭')\n",
      "(12, '난간높이')\n",
      "(13, '조명개수')\n",
      "(14, '장애인편의시설설치여부')\n",
      "(15, '장애인편의시설종류')\n",
      "(16, '장애인편의시설수량')\n",
      "(17, '부대시설종류')\n",
      "(18, '부대시설수량')\n",
      "(19, '육교준공일자')\n",
      "(20, '내진설계적용여부')\n",
      "(21, '안전등급')\n",
      "(22, '사용제한구분')\n",
      "(23, '육교보수보강내역')\n",
      "(24, '최종안전점검유형')\n",
      "(25, '최종안전점검일자')\n",
      "(26, '관리기관명')\n",
      "(27, '데이터기준일자')\n",
      "(28, '제공기관코드')\n",
      "(29, '제공기관명')\n"
     ]
    }
   ],
   "source": [
    "csv_data = []\n",
    "with open('전국육교정보표준데이터.csv') as f:\n",
    "    for line in f:\n",
    "        csv_data.append(my_split(line[:-1]))\n",
    "print(csv_data[:3])\n",
    "split_len(csv_data)\n",
    "\n",
    "for e in enumerate(csv_data[0]):\n",
    "    print(e)\n",
    "\n",
    "np_data = np.array(csv_data)"
   ]
  },
  {
   "cell_type": "code",
   "execution_count": 72,
   "metadata": {},
   "outputs": [
    {
     "name": "stdout",
     "output_type": "stream",
     "text": [
      "[' ' 'N' 'Y'] [357 695 166]\n",
      "[80.72 19.28]\n",
      "['N' 'Y'] [695 166]\n",
      "[80.72 19.28]\n"
     ]
    }
   ],
   "source": [
    "# 내진설계\n",
    "\n",
    "sub_data = np_data[1:, 20]\n",
    "#print(sub_data[:3])\n",
    "\n",
    "val, cnt = np.unique(sub_data, return_counts=True)\n",
    "print(val, cnt)\n",
    "print((cnt[1:] * 100)/ np.sum(cnt[1:]))\n",
    "\n",
    "filter1 = sub_data != ' '\n",
    "sub_data_f = sub_data[filter1] # 필터를 거쳐 true 값만 데이터가 저장되어 결측치가 없어짐\n",
    "\n",
    "val, cnt = np.unique(sub_data_f, return_counts=True)\n",
    "print(val, cnt)\n",
    "print((cnt * 100)/ np.sum(cnt))\n"
   ]
  },
  {
   "cell_type": "code",
   "execution_count": 73,
   "metadata": {},
   "outputs": [
    {
     "name": "stdout",
     "output_type": "stream",
     "text": [
      "['미흡' '보통' '불량' '양호' '우수'] [ 25 390   1 795   7]\n",
      "[ 2.053 32.02   0.082 65.271  0.575]\n",
      "(5,) (5, 1)\n",
      "(5,) (5, 1)\n",
      "[['미흡' '25' '2.052545155993432']\n",
      " ['보통' '390' '32.01970443349754']\n",
      " ['불량' '1' '0.08210180623973727']\n",
      " ['양호' '795' '65.27093596059113']\n",
      " ['우수' '7' '0.5747126436781609']]\n",
      "[['갈평 보도육교' '기타' '경부선' '경부선' '경기도 평택시 서정동 432-3' '37.05929603'\n",
      "  '127.0533613' '50' '' '' '8.5' '2.3' '' '' 'N' '없음' '' '없음' '' '' 'N'\n",
      "  '불량' '사용제한' '' '정밀점검' '2020-12-30' '경기도 평택시' '2022-06-13' '3910000'\n",
      "  '경기도 평택시']]\n"
     ]
    }
   ],
   "source": [
    "# 안전등급별 육교 갯수\n",
    "sub_data = np_data[1:, 21]\n",
    "\n",
    "val, cnt = np.unique(sub_data, return_counts=True)\n",
    "print(val, cnt)\n",
    "\n",
    "cnt_percent = (cnt * 100) / np.sum(cnt)\n",
    "print(cnt_percent)\n",
    "\n",
    "val2 = np.expand_dims(val, 1)\n",
    "print(val.shape, val2.shape)\n",
    "\n",
    "cnt2 = cnt[:, np.newaxis]\n",
    "print(cnt.shape, cnt2.shape)\n",
    "\n",
    "cnt_percent2 = cnt_percent[:, np.newaxis]\n",
    "\n",
    "jdata = np.concatenate((val2, cnt2, cnt_percent2), axis=1)\n",
    "print(jdata)\n",
    "\n",
    "filter1 = (np_data[:, 21] == '불량')\n",
    "print(np_data[filter1])\n"
   ]
  },
  {
   "cell_type": "code",
   "execution_count": 74,
   "metadata": {},
   "outputs": [
    {
     "name": "stdout",
     "output_type": "stream",
     "text": [
      "['육교연장' '육교높이' '허용통행하중' '통행제한높이']\n",
      "*** 육교연장\n",
      "최소: 5.3\n",
      "최대: 693.6\n",
      "평균: 50.67291845493562\n",
      "표준편차: 40.366545219300704 \n",
      "\n",
      "*** 육교높이\n",
      "최소: 0.6\n",
      "최대: 150.0\n",
      "평균: 9.39847870967742\n",
      "표준편차: 16.43855274916153 \n",
      "\n",
      "*** 허용통행하중\n",
      "최소: 0.34\n",
      "최대: 225.0\n",
      "평균: 7.741186915887851\n",
      "표준편차: 21.923480558452354 \n",
      "\n",
      "*** 통행제한높이\n",
      "최소: 1.4\n",
      "최대: 50.0\n",
      "평균: 4.913341750841751\n",
      "표준편차: 2.3497046582175938 \n",
      "\n",
      "[['안곡육교' '기타' '' '중산로' '경기도 고양시 일산동구 중산로 147-1' '37.685252' '126.7808247'\n",
      "  '150' '150' '' '4.5' '4.9' '' '' 'Y' '경사로' '1' '없음' '' '2006-05-29' 'N'\n",
      "  '양호' '제한없음' '' '정기점검' '2022-05-16' '경기도 고양시청' '2022-11-10' '3940000'\n",
      "  '경기도 고양시']]\n"
     ]
    }
   ],
   "source": [
    "# 육교 연장, 허용통행하중, 통행제한높이 : 최소, 최대, 평균, 표준편차\n",
    "print(np_data[0, 7:11])\n",
    "\n",
    "# 육교 연장\n",
    "# sub_data = np_data[:, 7:11]\n",
    "\n",
    "# print('***', np_data[0, 7])\n",
    "# sub_data = np_data[1:, 7]\n",
    "# filter1 = sub_data != ''\n",
    "# # print(np.unique(sub_data))\n",
    "# sub_data_f = sub_data[filter1].astype(np.float64)\n",
    "# # print(sub_data_f)\n",
    "# print('최소:', np.min(sub_data_f))\n",
    "# print('최대:', np.max(sub_data_f))\n",
    "# print('평균:', np.mean(sub_data_f))\n",
    "# print('표준편차:', np.std(sub_data_f))\n",
    "\n",
    "\n",
    "for i in range(7, 11):\n",
    "    print('***', np_data[0, i])\n",
    "    sub_data = np_data[1:, i]\n",
    "    filter1 = (sub_data != '') & (sub_data != '0') & (sub_data != '0.0')\n",
    "    sub_data_f = sub_data[filter1].astype(np.float64)\n",
    "    print('최소:', np.min(sub_data_f))\n",
    "    print('최대:', np.max(sub_data_f))\n",
    "    print('평균:', np.mean(sub_data_f))\n",
    "    print('표준편차:', np.std(sub_data_f), '\\n')\n",
    "\n",
    "filter1 = (np_data[:, 8] == '150.0') | (np_data[:, 8] == '150')\n",
    "print(np_data[filter1])"
   ]
  },
  {
   "cell_type": "code",
   "execution_count": 75,
   "metadata": {},
   "outputs": [
    {
     "name": "stdout",
     "output_type": "stream",
     "text": [
      "['1968-N' '1970-N' '1970-Y' '1971-N' '1972-N' '1974-Y' '1976-N' '1977-N'\n",
      " '1977-Y' '1978-Y' '1980-N' '1980-Y' '1982-N' '1983-N' '1984-N' '1986-Y'\n",
      " '1987-N' '1987-Y' '1988-N' '1988-Y' '1989-N' '1989-Y' '1990-N' '1991-N'\n",
      " '1991-Y' '1992-N' '1992-Y' '1993-N' '1993-Y' '1994-N' '1994-Y' '1995-N'\n",
      " '1995-Y' '1996-N' '1996-Y' '1997-N' '1997-Y' '1998-N' '1998-Y' '1999-N'\n",
      " '1999-Y' '2000-N' '2000-Y' '2001-N' '2001-Y' '2002-N' '2002-Y' '2003-N'\n",
      " '2003-Y' '2004-N' '2004-Y' '2005-N' '2005-Y' '2006-N' '2006-Y' '2007-N'\n",
      " '2007-Y' '2008-N' '2008-Y' '2009-N' '2009-Y' '2010-N' '2010-Y' '2011-N'\n",
      " '2011-Y' '2012-N' '2012-Y' '2013-Y' '2014-N' '2014-Y' '2015-N' '2015-Y'\n",
      " '2016-N' '2016-Y' '2017-Y' '2018-N' '2018-Y' '2019-Y' '2020-N' '2020-Y'\n",
      " '2021-Y' '2022-Y'] [ 1  1  1  2  1  1  1  2  1  1  3  1  2  1  3  8  3  2  4  3  3  4  4  8\n",
      "  2 28 19 26 21 16 11 16  7 33 17 29 24 29 15 14  9  8 10 13 13  8 14 11\n",
      " 17  9 17  6 21  7 26  6 18  8 28 16 29 10 18  6 16  8 23  9  6  7  2  9\n",
      "  4 15  4  3  7  3  1  5  1  3]\n"
     ]
    }
   ],
   "source": [
    "# 연도별 장애인편의시설 여부, 상관관계\n",
    "sub_data = np_data[1:, [14, 19]] # 특정 인덱스 2개 넣는 법\n",
    "# print(sub_data)\n",
    "\n",
    "# 결측치 확인\n",
    "# np.unique(sub_data[:, 1])\n",
    "\n",
    "# 결측치 제거\n",
    "filter1 = sub_data[:, 1] != ''\n",
    "sub_data = sub_data[filter1]\n",
    "\n",
    "year_yn = []\n",
    "for yn, ymd in sub_data:\n",
    "    yr = ymd.split('-')[0]\n",
    "    year_yn.append(yr + '-' + yn)\n",
    "# print(year_yn)\n",
    "\n",
    "year_yn = np.array(year_yn)\n",
    "val, cnt = np.unique(year_yn, return_counts=True)\n",
    "print(val, cnt)"
   ]
  },
  {
   "attachments": {},
   "cell_type": "markdown",
   "metadata": {},
   "source": [
    "### pass1\n",
    "{\n",
    "    year: [y, n, ...]\n",
    "}\n",
    "\n",
    "### pass2\n",
    "[\n",
    "    [year, y_count, ratio]\n",
    "]"
   ]
  },
  {
   "cell_type": "code",
   "execution_count": 78,
   "metadata": {},
   "outputs": [
    {
     "name": "stdout",
     "output_type": "stream",
     "text": [
      "[[1968.       0.       0.   ]\n",
      " [1970.       1.       0.5  ]\n",
      " [1971.       0.       0.   ]\n",
      " [1972.       0.       0.   ]\n",
      " [1974.       1.       1.   ]\n",
      " [1976.       0.       0.   ]\n",
      " [1977.       1.       0.333]\n",
      " [1978.       1.       1.   ]\n",
      " [1980.       1.       0.25 ]\n",
      " [1982.       0.       0.   ]\n",
      " [1983.       0.       0.   ]\n",
      " [1984.       0.       0.   ]\n",
      " [1986.       8.       1.   ]\n",
      " [1987.       2.       0.4  ]\n",
      " [1988.       3.       0.429]\n",
      " [1989.       4.       0.571]\n",
      " [1990.       0.       0.   ]\n",
      " [1991.       2.       0.2  ]\n",
      " [1992.      19.       0.404]\n",
      " [1993.      21.       0.447]\n",
      " [1994.      11.       0.407]\n",
      " [1995.       7.       0.304]\n",
      " [1996.      17.       0.34 ]\n",
      " [1997.      24.       0.453]\n",
      " [1998.      15.       0.341]\n",
      " [1999.       9.       0.391]\n",
      " [2000.      10.       0.556]\n",
      " [2001.      13.       0.5  ]\n",
      " [2002.      14.       0.636]\n",
      " [2003.      17.       0.607]\n",
      " [2004.      17.       0.654]\n",
      " [2005.      21.       0.778]\n",
      " [2006.      26.       0.788]\n",
      " [2007.      18.       0.75 ]\n",
      " [2008.      28.       0.778]\n",
      " [2009.      29.       0.644]\n",
      " [2010.      18.       0.643]\n",
      " [2011.      16.       0.727]\n",
      " [2012.      23.       0.742]\n",
      " [2013.       9.       1.   ]\n",
      " [2014.       7.       0.538]\n",
      " [2015.       9.       0.818]\n",
      " [2016.      15.       0.789]\n",
      " [2017.       4.       1.   ]\n",
      " [2018.       7.       0.7  ]\n",
      " [2019.       3.       1.   ]\n",
      " [2020.       5.       0.833]\n",
      " [2021.       1.       1.   ]\n",
      " [2022.       3.       1.   ]]\n"
     ]
    }
   ],
   "source": [
    "sub_data = np_data[1:, [14, 19]]\n",
    "filter1 = sub_data[:, 1] != ''\n",
    "sub_data = sub_data[filter1]\n",
    "\n",
    "pass1 = dict()\n",
    "for yn, ymd in sub_data:\n",
    "    yr = ymd.split('-')[0]\n",
    "    if yr in pass1.keys():\n",
    "        pass1[yr].append(yn)\n",
    "    else:\n",
    "        pass1[yr] = [yn]\n",
    "# print(pass1)\n",
    "\n",
    "pass2 = []\n",
    "for yr in pass1:    # dict 순환시 key값으로 순환\n",
    "    val, cnt = np.unique(pass1[yr], return_counts=True)\n",
    "    y, ratio = 0, 0     # 초기화\n",
    "    if 'Y' in val:\n",
    "        y = (cnt[val == 'Y'])\n",
    "    ratio = y / np.sum(cnt)\n",
    "    pass2.append((int(yr), int(y), float(ratio)))\n",
    "\n",
    "# print(pass2)\n",
    "np.set_printoptions(precision = 3, suppress=True)\n",
    "\n",
    "pass3 = sorted(pass2, key = lambda x: x[0])\n",
    "pass3 = np.array(pass3)\n",
    "print(pass3)"
   ]
  },
  {
   "cell_type": "code",
   "execution_count": 84,
   "metadata": {},
   "outputs": [
    {
     "data": {
      "text/plain": [
       "[<matplotlib.lines.Line2D at 0x169ebd7fc70>]"
      ]
     },
     "execution_count": 84,
     "metadata": {},
     "output_type": "execute_result"
    },
    {
     "data": {
      "image/png": "[encoded data removed]",
      "text/plain": [
       "<Figure size 640x480 with 1 Axes>"
      ]
     },
     "metadata": {},
     "output_type": "display_data"
    }
   ],
   "source": [
    "_,axe = plt.subplots()\n",
    "# axe.plot(pass3[:, 0], pass3[:,1])\n",
    "axe.plot(pass3[:, 0], pass3[:,2])"
   ]
  },
  {
   "cell_type": "code",
   "execution_count": 85,
   "metadata": {},
   "outputs": [
    {
     "name": "stdout",
     "output_type": "stream",
     "text": [
      "[[1.    0.885]\n",
      " [0.885 1.   ]]\n"
     ]
    }
   ],
   "source": [
    "# 상관관계\n",
    "# print(pass3)\n",
    "filter1 = pass3[:, 0] >= 1990\n",
    "pass4 = pass3[filter1]\n",
    "# print(pass4)\n",
    "print(np.corrcoef(pass4[:, 0], pass4[:, 2]))\n",
    "\n",
    "# 해가 지날수록 장애인편의 시설 설치율이 증가함"
   ]
  },
  {
   "cell_type": "code",
   "execution_count": 97,
   "metadata": {},
   "outputs": [
    {
     "name": "stdout",
     "output_type": "stream",
     "text": [
      "*** 육교연장\n",
      "[ 23.   83.   40.  ...  32.4  53.5 121.5]\n",
      "중앙값: 39.6\n",
      "quantile: [30.  39.6 56. ]\n",
      "iqr: 95.0\n",
      "lower: -9.0\n"
     ]
    },
    {
     "data": {
      "text/plain": [
       "<matplotlib.collections.PathCollection at 0x169ec143eb0>"
      ]
     },
     "execution_count": 97,
     "metadata": {},
     "output_type": "execute_result"
    },
    {
     "data": {
      "image/png": "[encoded data removed]",
      "text/plain": [
       "<Figure size 640x480 with 1 Axes>"
      ]
     },
     "metadata": {},
     "output_type": "display_data"
    }
   ],
   "source": [
    "# iqr, outliers (이상치) - 정상적이지 않은 값\n",
    "\n",
    "i = 7\n",
    "print('***', np_data[0, i])\n",
    "sub_data = np_data[1:, i]\n",
    "filter1 = (sub_data != '') & (sub_data != '0') & (sub_data != '0.0')    # 결측치\n",
    "sub_data_f = sub_data[filter1].astype(np.float64)\n",
    "\n",
    "# print('최소:', np.min(sub_data_f))\n",
    "# print('최대:', np.max(sub_data_f))\n",
    "# print('평균:', np.mean(sub_data_f))\n",
    "# print('표준편차:', np.std(sub_data_f), '\\n')\n",
    "\n",
    "# 중앙값은 이상치의 영향을 덜 받음\n",
    "print(sub_data_f)\n",
    "print('중앙값:', np.median(sub_data_f))\n",
    "print('quantile:', np.quantile(sub_data_f, [.25, .5, .75]))\n",
    "#                                           25%  50%  75%   - 갯수상의 위치\n",
    "# iqr : 75 - 25\n",
    "q25, q50, q75 = np.quantile(sub_data_f, [.25, .5, .75])\n",
    "iqr = q75 - q25\n",
    "print('iqr:', q75+1.5*iqr)      # 95.0\n",
    "print('lower:', q25-1.5*iqr)    # -9.0 -> 음수이므로 하한 이상치가 없음\n",
    "'''\n",
    "\n",
    "-----------------------q25-----------------------q50-----------------------q75-----------------------\n",
    "    하한선:q25-1.5*iqr                                                          상한선:q75+1.5*iqr\n",
    "이상치 - 상한선보다 높거나 하한선보다 낮은 값\n",
    "'''\n",
    "upper = q75 + 1.5 * iqr\n",
    "sub_data_cut = sub_data_f[sub_data_f < upper]\n",
    "\n",
    "# 육교 연장의 분포\n",
    "# val, cnt = np.unique(sub_data_f, return_counts=True)\n",
    "val, cnt = np.unique(sub_data_cut, return_counts=True)\n",
    "\n",
    "_, axe = plt.subplots()\n",
    "axe.scatter(val, cnt)\n"
   ]
  },
  {
   "cell_type": "code",
   "execution_count": 103,
   "metadata": {},
   "outputs": [
    {
     "name": "stdout",
     "output_type": "stream",
     "text": [
      "[  3   9  30  64 100 189 124 103 118  57  62  35  31  23  31  12  17  23\n",
      "  18  11] [ 5.3   9.76 14.22 18.68 23.14 27.6  32.06 36.52 40.98 45.44 49.9  54.36\n",
      " 58.82 63.28 67.74 72.2  76.66 81.12 85.58 90.04 94.5 ]\n"
     ]
    },
    {
     "data": {
      "text/plain": [
       "[<matplotlib.lines.Line2D at 0x169f2f81030>]"
      ]
     },
     "execution_count": 103,
     "metadata": {},
     "output_type": "execute_result"
    },
    {
     "data": {
      "image/png": "[encoded data removed]",
      "text/plain": [
       "<Figure size 640x480 with 1 Axes>"
      ]
     },
     "metadata": {},
     "output_type": "display_data"
    }
   ],
   "source": [
    "# binscount를 이용해서 histogram\n",
    "upper = q75 + 1.5 * iqr\n",
    "sub_data_cut = sub_data_f[sub_data_f < upper]\n",
    "\n",
    "h_cnt, h_bins = np.histogram(sub_data_cut, bins=20)\n",
    "print(h_cnt, h_bins)\n",
    "\n",
    "# 육교 연장의 분포\n",
    "val, cnt = np.unique(sub_data_cut, return_counts=True)\n",
    "\n",
    "_, axe = plt.subplots()\n",
    "# axe.scatter(val, cnt)\n",
    "axe.plot(np.arange(20), h_cnt)"
   ]
  },
  {
   "cell_type": "code",
   "execution_count": 102,
   "metadata": {},
   "outputs": [
    {
     "data": {
      "text/plain": [
       "<matplotlib.collections.PathCollection at 0x169f2f3a800>"
      ]
     },
     "execution_count": 102,
     "metadata": {},
     "output_type": "execute_result"
    },
    {
     "data": {
      "image/png": "[encoded data removed]",
      "text/plain": [
       "<Figure size 640x480 with 1 Axes>"
      ]
     },
     "metadata": {},
     "output_type": "display_data"
    }
   ],
   "source": [
    "_,axe = plt.subplots()\n",
    "# axe.plot(pass3[:, 0], pass3[:,1])\n",
    "axe.scatter(pass4[:, 0], pass4[:,2])"
   ]
  }
 ],
 "metadata": {
  "kernelspec": {
   "display_name": "Python 3",
   "language": "python",
   "name": "python3"
  },
  "language_info": {
   "codemirror_mode": {
    "name": "ipython",
    "version": 3
   },
   "file_extension": ".py",
   "mimetype": "text/x-python",
   "name": "python",
   "nbconvert_exporter": "python",
   "pygments_lexer": "ipython3",
   "version": "3.10.9"
  },
  "orig_nbformat": 4,
  "vscode": {
   "interpreter": {
    "hash": "252d00ae1abf913d993c897358600e69c29a1bffb17fa3d647027b051c354ad6"
   }
  }
 },
 "nbformat": 4,
 "nbformat_minor": 2
}
