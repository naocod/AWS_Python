{
 "cells": [
  {
   "attachments": {},
   "cell_type": "markdown",
   "metadata": {},
   "source": [
    "### 데이터산업의 기술등급별 데이터직무 인력 현황\n",
    "* 데이터 직무별 axe 생성\n",
    "    - x축: 시점\n",
    "    - y축: 업종(2개)\n",
    "\n",
    "* 하나의 figure에, 총 8개 axe가 바둑판 형식으로 배치되는 형태. (4 col x 2 row), figure 사이즈는 각자 알아서\n",
    "* title 표시"
   ]
  },
  {
   "cell_type": "code",
   "execution_count": 17,
   "metadata": {},
   "outputs": [
    {
     "name": "stdout",
     "output_type": "stream",
     "text": [
      "   데이터직무별(1)    시점  데이터 처리 및 관리 솔루션 개발·공급업  데이터 구축 및 컨설팅 서비스업\n",
      "0   데이터 아키텍트  2018                     806               4330\n",
      "1   데이터 아키텍트  2019                    1202               4355\n",
      "2   데이터 아키텍트  2020                    1588               4915\n",
      "3   데이터 아키텍트  2021                    2061               6044\n",
      "4    데이터 개발자  2018                    4579              16302\n",
      "5    데이터 개발자  2019                    4799              17092\n",
      "6    데이터 개발자  2020                    5683              18173\n",
      "7    데이터 개발자  2021                    7891              21858\n",
      "8   데이터 엔지니어  2018                    1616               7528\n",
      "9   데이터 엔지니어  2019                    1862               8035\n",
      "10  데이터 엔지니어  2020                    2421               8780\n",
      "11  데이터 엔지니어  2021                    3276               9866\n",
      "데이터직무별(1)                 object\n",
      "시점                         int64\n",
      "데이터 처리 및 관리 솔루션 개발·공급업     int64\n",
      "데이터 구축 및 컨설팅 서비스업          int64\n",
      "dtype: object\n"
     ]
    }
   ],
   "source": [
    "import numpy as np\n",
    "import pandas as pd\n",
    "import matplotlib.pyplot as plt\n",
    "import matplotlib\n",
    "\n",
    "\n",
    "pd_data = pd.read_csv('데이터산업의_기술등급별_데이터직무_인력_현황_20230303160503.csv', encoding='cp949')\n",
    "# pd_data = pd_data['데이터직무별(1)', '시점']\n",
    "col_selection = ['데이터직무별(1)', '시점', '데이터 처리 및 관리 솔루션 개발·공급업', '데이터 구축 및 컨설팅 서비스업']\n",
    "pd_data = pd_data[col_selection]\n",
    "print(pd_data.head(12))\n",
    "print(pd_data.dtypes)"
   ]
  },
  {
   "cell_type": "code",
   "execution_count": 16,
   "metadata": {},
   "outputs": [
    {
     "name": "stdout",
     "output_type": "stream",
     "text": [
      "                시점\n",
      "count    32.000000\n",
      "mean   2019.500000\n",
      "std       1.135924\n",
      "min    2018.000000\n",
      "25%    2018.750000\n",
      "50%    2019.500000\n",
      "75%    2020.250000\n",
      "max    2021.000000\n"
     ]
    }
   ],
   "source": [
    "filter1 = pd_data['데이터직무별(1)'] == '데이터 아키텍트'\n",
    "arch_data = pd_data[filter1]\n",
    "\n",
    "_, axe = plt.subplots()\n",
    "axe.plot(arch_data['시점'], arch_data)"
   ]
  }
 ],
 "metadata": {
  "kernelspec": {
   "display_name": "Python 3",
   "language": "python",
   "name": "python3"
  },
  "language_info": {
   "codemirror_mode": {
    "name": "ipython",
    "version": 3
   },
   "file_extension": ".py",
   "mimetype": "text/x-python",
   "name": "python",
   "nbconvert_exporter": "python",
   "pygments_lexer": "ipython3",
   "version": "3.10.9"
  },
  "orig_nbformat": 4
 },
 "nbformat": 4,
 "nbformat_minor": 2
}
