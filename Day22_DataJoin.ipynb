{
 "cells": [
  {
   "cell_type": "code",
   "execution_count": 1,
   "id": "99a458f3",
   "metadata": {},
   "outputs": [],
   "source": [
    "import numpy as np\n",
    "import pandas as pd\n",
    "\n",
    "pd_oneway = pd.read_csv('전국일방통행도로표준데이터_pass1.csv')\n",
    "#print(pd_oneway.describe(include='all'))\n",
    "pd_child = pd.read_csv('전국어린이보호구역표준데이터_pass1.csv')\n",
    "#print(pd_child)\n",
    "pd_elder = pd.read_csv('전국노인장애인보호구역표준데이터_pass1.csv')\n",
    "#print(pd_elder)"
   ]
  },
  {
   "cell_type": "code",
   "execution_count": 2,
   "id": "6727fbd1",
   "metadata": {},
   "outputs": [
    {
     "name": "stdout",
     "output_type": "stream",
     "text": [
      "   Unnamed: 0    시도명  제한속도 CCTV설치여부  CCTV설치대수  보호구역도로폭\n",
      "0           0  서울특별시    30        Y       1.0      3.0\n",
      "1           1   경상북도    30        N       0.0      6.0\n",
      "2           2   경상북도    30        N       0.0      6.0\n",
      "3           3   경상북도    30        N       0.0      7.0\n",
      "4           4   경상북도    30        N       0.0      7.0\n"
     ]
    }
   ],
   "source": [
    "#print(pd_oneway.head())   # 시도명 별 보차분리여부  y count\n",
    "#print(pd_child.head())     # 시도명(지자체명) 별 CCTV 설치대수 count    \n",
    "print(pd_elder.head())      # 시도명 별 CCTV 설치대수"
   ]
  },
  {
   "cell_type": "code",
   "execution_count": 3,
   "id": "9ca34673",
   "metadata": {},
   "outputs": [
    {
     "data": {
      "text/plain": [
       "10.94575    12421\n",
       "6.00000       330\n",
       "16.50000      185\n",
       "6.50000       168\n",
       "7.00000       162\n",
       "            ...  \n",
       "31.00000        1\n",
       "7.35000         1\n",
       "6.95000         1\n",
       "13.85000        1\n",
       "34.50000        1\n",
       "Name: 보호구역도로폭, Length: 132, dtype: int64"
      ]
     },
     "execution_count": 3,
     "metadata": {},
     "output_type": "execute_result"
    }
   ],
   "source": [
    "pd_child['보호구역도로폭'].value_counts()"
   ]
  },
  {
   "cell_type": "code",
   "execution_count": 4,
   "id": "ebc2ad5d",
   "metadata": {},
   "outputs": [
    {
     "name": "stdout",
     "output_type": "stream",
     "text": [
      "시도명\n",
      "강원도         16\n",
      "경기도        110\n",
      "경상남도        50\n",
      "경상북도        35\n",
      "광주광역시       17\n",
      "서울특별시       95\n",
      "인천광역시       22\n",
      "전라남도         5\n",
      "전라북도         9\n",
      "제주특별자치도     32\n",
      "충청남도        51\n",
      "충청북도        10\n",
      "Name: 일방통행보차분리Y_COUNT, dtype: int64\n"
     ]
    }
   ],
   "source": [
    "g1 = pd_oneway[pd_oneway['보차분리여부']=='Y'].groupby('시도명')\n",
    "s1 = g1['보차분리여부'].count()\n",
    "s1.name = '일방통행보차분리Y_COUNT'\n",
    "print(s1)"
   ]
  },
  {
   "cell_type": "code",
   "execution_count": 5,
   "id": "ad8bc43d",
   "metadata": {},
   "outputs": [
    {
     "name": "stdout",
     "output_type": "stream",
     "text": [
      "지자체명\n",
      "강원도        1327.0\n",
      "경기도        6834.0\n",
      "경상남도       3721.0\n",
      "경상북도       2136.0\n",
      "광주광역시       419.0\n",
      "대구광역시      1168.0\n",
      "대전광역시      1405.0\n",
      "부산광역시      1493.0\n",
      "서울특별시      3703.0\n",
      "세종특별자치시      26.0\n",
      "울산광역시       812.0\n",
      "인천광역시       761.0\n",
      "전라남도       2437.0\n",
      "전라북도       1895.0\n",
      "제주특별자치도     484.0\n",
      "충청남도       1484.0\n",
      "충청북도       1784.0\n",
      "Name: 어린이CCTV_COUNT, dtype: float64\n"
     ]
    }
   ],
   "source": [
    "g2 = pd_child.groupby('지자체명')\n",
    "s2 = g2['CCTV설치대수'].sum()\n",
    "s2.name = '어린이CCTV_COUNT'\n",
    "print(s2)"
   ]
  },
  {
   "cell_type": "code",
   "execution_count": 6,
   "id": "46b91cfc",
   "metadata": {},
   "outputs": [
    {
     "name": "stdout",
     "output_type": "stream",
     "text": [
      "시도명\n",
      "강원도          7.0\n",
      "경기도        148.0\n",
      "경상남도        18.0\n",
      "경상북도        44.0\n",
      "광주광역시        7.0\n",
      "대구광역시       17.0\n",
      "대전광역시       55.0\n",
      "부산광역시       38.0\n",
      "서울특별시      121.0\n",
      "세종특별자치시      0.0\n",
      "울산광역시        4.0\n",
      "인천광역시       88.0\n",
      "전라남도        14.0\n",
      "전라북도        34.0\n",
      "제주특별자치도      0.0\n",
      "충청남도       106.0\n",
      "충청북도        20.0\n",
      "Name: 노인장애인CCTV_COUNT, dtype: float64\n"
     ]
    }
   ],
   "source": [
    "g3 = pd_elder.groupby('시도명')\n",
    "s3 = g3['CCTV설치대수'].sum()\n",
    "s3.name = '노인장애인CCTV_COUNT'\n",
    "print(s3)"
   ]
  },
  {
   "cell_type": "code",
   "execution_count": 7,
   "id": "2835e885",
   "metadata": {},
   "outputs": [
    {
     "name": "stdout",
     "output_type": "stream",
     "text": [
      "         일방통행보차분리Y_COUNT  어린이CCTV_COUNT  노인장애인CCTV_COUNT\n",
      "강원도                 16.0         1327.0              7.0\n",
      "경기도                110.0         6834.0            148.0\n",
      "경상남도                50.0         3721.0             18.0\n",
      "경상북도                35.0         2136.0             44.0\n",
      "광주광역시               17.0          419.0              7.0\n",
      "서울특별시               95.0         3703.0            121.0\n",
      "인천광역시               22.0          761.0             88.0\n",
      "전라남도                 5.0         2437.0             14.0\n",
      "전라북도                 9.0         1895.0             34.0\n",
      "제주특별자치도             32.0          484.0              0.0\n",
      "충청남도                51.0         1484.0            106.0\n",
      "충청북도                10.0         1784.0             20.0\n",
      "대구광역시                NaN         1168.0             17.0\n",
      "대전광역시                NaN         1405.0             55.0\n",
      "부산광역시                NaN         1493.0             38.0\n",
      "세종특별자치시              NaN           26.0              0.0\n",
      "울산광역시                NaN          812.0              4.0\n"
     ]
    }
   ],
   "source": [
    "df_combined = pd.concat((s1,s2,s3), axis=1)\n",
    "print(df_combined)"
   ]
  },
  {
   "cell_type": "code",
   "execution_count": 12,
   "id": "92a29333",
   "metadata": {},
   "outputs": [],
   "source": [
    "import matplotlib.pyplot as plt\n",
    "\n",
    "# _, axe = plt.subplots()\n",
    "# axe.plot(df_combined['어린이CCTV_COUNT'])\n",
    "# axe.plot(df_combined['노인장애인CCTV_COUNT'])"
   ]
  },
  {
   "cell_type": "code",
   "execution_count": 11,
   "id": "73533ea9",
   "metadata": {},
   "outputs": [],
   "source": [
    "df_combined.reset_index(inplace=True)"
   ]
  },
  {
   "cell_type": "code",
   "execution_count": 13,
   "id": "0db35736",
   "metadata": {},
   "outputs": [
    {
     "data": {
      "text/plain": [
       "[<matplotlib.lines.Line2D at 0x17c408f3c40>]"
      ]
     },
     "execution_count": 13,
     "metadata": {},
     "output_type": "execute_result"
    },
    {
     "data": {
      "image/png": "[encoded data removed]",
      "text/plain": [
       "<Figure size 640x480 with 1 Axes>"
      ]
     },
     "metadata": {},
     "output_type": "display_data"
    }
   ],
   "source": [
    "_, axe = plt.subplots()\n",
    "axe.plot(df_combined['어린이CCTV_COUNT'])\n",
    "axe.plot(df_combined['노인장애인CCTV_COUNT'])"
   ]
  },
  {
   "cell_type": "code",
   "execution_count": 15,
   "id": "85874a8f",
   "metadata": {},
   "outputs": [
    {
     "data": {
      "text/plain": [
       "[<matplotlib.lines.Line2D at 0x17c42e82170>]"
      ]
     },
     "execution_count": 15,
     "metadata": {},
     "output_type": "execute_result"
    },
    {
     "data": {
      "image/png": "[encoded data removed]",
      "text/plain": [
       "<Figure size 640x480 with 1 Axes>"
      ]
     },
     "metadata": {},
     "output_type": "display_data"
    }
   ],
   "source": [
    "a_min = df_combined['어린이CCTV_COUNT'].min()\n",
    "a_max = df_combined['어린이CCTV_COUNT'].max()\n",
    "df_combined['어린이CCTV_COUNT_norm'] = df_combined['어린이CCTV_COUNT'].apply(lambda x: (x - a_min) / (a_max - a_min))\n",
    "\n",
    "a_min = df_combined['노인장애인CCTV_COUNT'].min()\n",
    "a_max = df_combined['노인장애인CCTV_COUNT'].max()\n",
    "df_combined['노인장애인CCTV_COUNT_norm'] = df_combined['노인장애인CCTV_COUNT'].apply(lambda x: (x - a_min) / (a_max - a_min))\n",
    "\n",
    "_, axe = plt.subplots()\n",
    "axe.plot(df_combined['어린이CCTV_COUNT_norm'])\n",
    "axe.plot(df_combined['노인장애인CCTV_COUNT_norm'])\n"
   ]
  },
  {
   "cell_type": "code",
   "execution_count": 16,
   "id": "0140d3b8",
   "metadata": {},
   "outputs": [
    {
     "data": {
      "text/plain": [
       "array([[1.        , 0.66061138],\n",
       "       [0.66061138, 1.        ]])"
      ]
     },
     "execution_count": 16,
     "metadata": {},
     "output_type": "execute_result"
    }
   ],
   "source": [
    "np.corrcoef(df_combined['어린이CCTV_COUNT'], df_combined['노인장애인CCTV_COUNT'])"
   ]
  },
  {
   "cell_type": "code",
   "execution_count": 27,
   "id": "1bbabe87",
   "metadata": {},
   "outputs": [
    {
     "data": {
      "text/html": [
       "<div>\n",
       "<style scoped>\n",
       "    .dataframe tbody tr th:only-of-type {\n",
       "        vertical-align: middle;\n",
       "    }\n",
       "\n",
       "    .dataframe tbody tr th {\n",
       "        vertical-align: top;\n",
       "    }\n",
       "\n",
       "    .dataframe thead th {\n",
       "        text-align: right;\n",
       "    }\n",
       "</style>\n",
       "<table border=\"1\" class=\"dataframe\">\n",
       "  <thead>\n",
       "    <tr style=\"text-align: right;\">\n",
       "      <th></th>\n",
       "      <th>level_0</th>\n",
       "      <th>CCTV설치여부</th>\n",
       "      <th>CCTV설치대수</th>\n",
       "      <th>시도명</th>\n",
       "    </tr>\n",
       "  </thead>\n",
       "  <tbody>\n",
       "    <tr>\n",
       "      <th>0</th>\n",
       "      <td>어린이</td>\n",
       "      <td>Y</td>\n",
       "      <td>1.0</td>\n",
       "      <td>전라북도</td>\n",
       "    </tr>\n",
       "    <tr>\n",
       "      <th>1</th>\n",
       "      <td>어린이</td>\n",
       "      <td>Y</td>\n",
       "      <td>2.0</td>\n",
       "      <td>전라북도</td>\n",
       "    </tr>\n",
       "    <tr>\n",
       "      <th>2</th>\n",
       "      <td>어린이</td>\n",
       "      <td>Y</td>\n",
       "      <td>1.0</td>\n",
       "      <td>전라북도</td>\n",
       "    </tr>\n",
       "    <tr>\n",
       "      <th>3</th>\n",
       "      <td>어린이</td>\n",
       "      <td>Y</td>\n",
       "      <td>2.0</td>\n",
       "      <td>전라북도</td>\n",
       "    </tr>\n",
       "    <tr>\n",
       "      <th>4</th>\n",
       "      <td>어린이</td>\n",
       "      <td>Y</td>\n",
       "      <td>1.0</td>\n",
       "      <td>전라북도</td>\n",
       "    </tr>\n",
       "    <tr>\n",
       "      <th>...</th>\n",
       "      <td>...</td>\n",
       "      <td>...</td>\n",
       "      <td>...</td>\n",
       "      <td>...</td>\n",
       "    </tr>\n",
       "    <tr>\n",
       "      <th>2513</th>\n",
       "      <td>노인장애인</td>\n",
       "      <td>N</td>\n",
       "      <td>0.0</td>\n",
       "      <td>대구광역시</td>\n",
       "    </tr>\n",
       "    <tr>\n",
       "      <th>2514</th>\n",
       "      <td>노인장애인</td>\n",
       "      <td>N</td>\n",
       "      <td>0.0</td>\n",
       "      <td>대구광역시</td>\n",
       "    </tr>\n",
       "    <tr>\n",
       "      <th>2515</th>\n",
       "      <td>노인장애인</td>\n",
       "      <td>N</td>\n",
       "      <td>0.0</td>\n",
       "      <td>대구광역시</td>\n",
       "    </tr>\n",
       "    <tr>\n",
       "      <th>2516</th>\n",
       "      <td>노인장애인</td>\n",
       "      <td>N</td>\n",
       "      <td>0.0</td>\n",
       "      <td>대구광역시</td>\n",
       "    </tr>\n",
       "    <tr>\n",
       "      <th>2517</th>\n",
       "      <td>노인장애인</td>\n",
       "      <td>N</td>\n",
       "      <td>0.0</td>\n",
       "      <td>대구광역시</td>\n",
       "    </tr>\n",
       "  </tbody>\n",
       "</table>\n",
       "<p>17574 rows × 4 columns</p>\n",
       "</div>"
      ],
      "text/plain": [
       "     level_0 CCTV설치여부  CCTV설치대수    시도명\n",
       "0        어린이        Y       1.0   전라북도\n",
       "1        어린이        Y       2.0   전라북도\n",
       "2        어린이        Y       1.0   전라북도\n",
       "3        어린이        Y       2.0   전라북도\n",
       "4        어린이        Y       1.0   전라북도\n",
       "...      ...      ...       ...    ...\n",
       "2513   노인장애인        N       0.0  대구광역시\n",
       "2514   노인장애인        N       0.0  대구광역시\n",
       "2515   노인장애인        N       0.0  대구광역시\n",
       "2516   노인장애인        N       0.0  대구광역시\n",
       "2517   노인장애인        N       0.0  대구광역시\n",
       "\n",
       "[17574 rows x 4 columns]"
      ]
     },
     "execution_count": 27,
     "metadata": {},
     "output_type": "execute_result"
    }
   ],
   "source": [
    "df1 = pd_child[['CCTV설치여부', 'CCTV설치대수', '지자체명']]\n",
    "df2 = pd_elder[['CCTV설치여부', 'CCTV설치대수', '시도명']]\n",
    "df1.columns = df2.columns\n",
    "# print(df1.head())\n",
    "# print(df2.head())\n",
    "\n",
    "df12 = pd.concat((df1, df2), axis=0, keys=['어린이', '노인장애인'])\n",
    "df12.reset_index(level=0, inplace=True)\n",
    "df12"
   ]
  }
 ],
 "metadata": {
  "kernelspec": {
   "display_name": "Python 3",
   "language": "python",
   "name": "python3"
  },
  "language_info": {
   "codemirror_mode": {
    "name": "ipython",
    "version": 3
   },
   "file_extension": ".py",
   "mimetype": "text/x-python",
   "name": "python",
   "nbconvert_exporter": "python",
   "pygments_lexer": "ipython3",
   "version": "3.10.9"
  },
  "vscode": {
   "interpreter": {
    "hash": "252d00ae1abf913d993c897358600e69c29a1bffb17fa3d647027b051c354ad6"
   }
  }
 },
 "nbformat": 4,
 "nbformat_minor": 5
}
