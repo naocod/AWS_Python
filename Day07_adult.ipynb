{
 "cells": [
  {
   "cell_type": "markdown",
   "id": "4ede19c3",
   "metadata": {},
   "source": [
    "### 상관도 분석 : UCI Repo Adult 데이터\n",
    "* url : https://archive.ics.uci.edu/ml/machine-learning-databases/adult/adult.data\n",
    "* age / capital gain 상관도\n",
    "* hours-per-week / capital gain 상관도"
   ]
  },
  {
   "cell_type": "code",
   "execution_count": 38,
   "id": "bc5c73e2",
   "metadata": {},
   "outputs": [],
   "source": [
    "import mystatistics"
   ]
  },
  {
   "cell_type": "code",
   "execution_count": 14,
   "id": "26ce7149",
   "metadata": {},
   "outputs": [],
   "source": [
    "import requests\n",
    "\n",
    "x = requests.get('https://archive.ics.uci.edu/ml/machine-learning-databases/adult/adult.data')"
   ]
  },
  {
   "cell_type": "code",
   "execution_count": 20,
   "id": "0d742e5e",
   "metadata": {},
   "outputs": [],
   "source": [
    "pass1 = x.text.split('\\n')\n",
    "#print(pass1[0].split(',')[0])   # age\n",
    "#print(pass1[0].split(',')[10])  # capital_gain\n",
    "#print(pass1[0].split(',')[12])  # hours_per_week\n",
    "\n",
    "age_list = []\n",
    "cap_gain_list = []\n",
    "hours_per_week_list = []\n",
    "\n",
    "for e in pass1:\n",
    "    try:\n",
    "        t = e.split(',')\n",
    "        if len(t) < 5:\n",
    "            continue\n",
    "        age_list.append(t[0])\n",
    "        cap_gain_list.append(t[10])\n",
    "        hours_per_week_list.append(t[12])\n",
    "    except:\n",
    "        print(e, type(e))"
   ]
  },
  {
   "cell_type": "code",
   "execution_count": 22,
   "id": "9d334bdc",
   "metadata": {},
   "outputs": [
    {
     "name": "stdout",
     "output_type": "stream",
     "text": [
      "32561\n",
      "32561\n",
      "32561\n"
     ]
    }
   ],
   "source": [
    "print(len(age_list))\n",
    "print(len(cap_gain_list))\n",
    "print(len(hours_per_week_list))"
   ]
  },
  {
   "cell_type": "code",
   "execution_count": 25,
   "id": "01aca1b6",
   "metadata": {},
   "outputs": [
    {
     "name": "stdout",
     "output_type": "stream",
     "text": [
      "[39, 50, 38, 53, 28, 37, 49, 52, 31, 42]\n",
      "[2174, 0, 0, 0, 0, 0, 0, 0, 14084, 5178]\n",
      "[40, 13, 40, 40, 40, 40, 16, 45, 50, 40]\n"
     ]
    }
   ],
   "source": [
    "age_list = [int(i) for i in age_list]\n",
    "cap_gain_list = [int(i) for i in cap_gain_list]\n",
    "hours_per_week_list = [int(i) for i in hours_per_week_list]\n",
    "\n",
    "print(age_list[:10])\n",
    "print(cap_gain_list[:10])\n",
    "print(hours_per_week_list[:10])"
   ]
  },
  {
   "cell_type": "code",
   "execution_count": 39,
   "id": "329b04d5",
   "metadata": {},
   "outputs": [
    {
     "name": "stdout",
     "output_type": "stream",
     "text": [
      "age vs. capital gain :  0.077674498166006\n",
      "hours per week vs. capital gain :  0.07840861539012314\n",
      "age vs. hours per week :  0.06875570750956339\n"
     ]
    }
   ],
   "source": [
    "print('age vs. capital gain : ', corel(age_list, cap_gain_list))\n",
    "print('hours per week vs. capital gain : ', corel(hours_per_week_list, cap_gain_list))\n",
    "print('age vs. hours per week : ', corel(age_list, hours_per_week_list))"
   ]
  }
 ],
 "metadata": {
  "kernelspec": {
   "display_name": "Python 3 (ipykernel)",
   "language": "python",
   "name": "python3"
  },
  "language_info": {
   "codemirror_mode": {
    "name": "ipython",
    "version": 3
   },
   "file_extension": ".py",
   "mimetype": "text/x-python",
   "name": "python",
   "nbconvert_exporter": "python",
   "pygments_lexer": "ipython3",
   "version": "3.10.9"
  }
 },
 "nbformat": 4,
 "nbformat_minor": 5
}
