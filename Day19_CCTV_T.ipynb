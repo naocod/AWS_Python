{
 "cells": [
  {
   "cell_type": "markdown",
   "id": "6e2ce795",
   "metadata": {},
   "source": [
    "#### 전국어린이보호구역표준데이터\n",
    "\n",
    "- 시설종류별 CCTV 설치 여부 카운트 / 대수\n",
    "- 광역시도별, 시설종류별 카운트\n",
    "- 관할경찰서별 CCTV 대수\n",
    "- CCTV 평균 설치대수\n",
    "- 도로폭 / CCTV 설치대수 상관도"
   ]
  },
  {
   "cell_type": "code",
   "execution_count": 2,
   "id": "056603bf",
   "metadata": {},
   "outputs": [],
   "source": [
    "import numpy as np\n",
    "import pandas as pd\n",
    "import matplotlib.pyplot as plt\n",
    "\n",
    "pd_rawdata = pd.read_csv('전국어린이보호구역표준데이터.csv', encoding='cp949')\n",
    "\n",
    "#print(pd_rawdata.columns)\n",
    "\n",
    "column_selection = ['시설종류', '관할경찰서명', 'CCTV설치여부','CCTV설치대수','제공기관명', '보호구역도로폭']\n",
    "pd_data = pd_rawdata[column_selection]\n",
    "del pd_rawdata\n",
    "#print(pd_rawdata[:3])"
   ]
  },
  {
   "cell_type": "code",
   "execution_count": 3,
   "id": "deb36d83",
   "metadata": {},
   "outputs": [
    {
     "name": "stdout",
     "output_type": "stream",
     "text": [
      "Index(['시설종류', '관할경찰서명', 'CCTV설치여부', 'CCTV설치대수', '제공기관명', '보호구역도로폭'], dtype='object')\n",
      "시설종류         object\n",
      "관할경찰서명       object\n",
      "CCTV설치여부     object\n",
      "CCTV설치대수    float64\n",
      "제공기관명        object\n",
      "보호구역도로폭      object\n",
      "dtype: object\n",
      "6          1600\n",
      "8          1334\n",
      "7           855\n",
      "10          558\n",
      "12          543\n",
      "           ... \n",
      "30~35         1\n",
      "12~50         1\n",
      "5.0~5.5       1\n",
      "6~45          1\n",
      "18~23         1\n",
      "Name: 보호구역도로폭, Length: 528, dtype: int64\n",
      "False    10684\n",
      "True      4372\n",
      "Name: 보호구역도로폭, dtype: int64\n"
     ]
    }
   ],
   "source": [
    "# EDA : Exploratory Data Analysis\n",
    "\n",
    "print(pd_data.columns)\n",
    "print(pd_data.dtypes)\n",
    "\n",
    "print(pd_data['보호구역도로폭'].value_counts())\n",
    "print(pd_data['보호구역도로폭'].isna().value_counts())\n",
    "\n",
    "pd_data['시설종류'] = pd_data['시설종류'].astype('category')\n",
    "pd_data['CCTV설치여부'] = pd_data['CCTV설치여부'].astype('category')\n",
    "#print(pd_data.dtypes)"
   ]
  },
  {
   "cell_type": "code",
   "execution_count": 4,
   "id": "aad4f72d",
   "metadata": {},
   "outputs": [
    {
     "name": "stdout",
     "output_type": "stream",
     "text": [
      "시설종류 False\n",
      "관할경찰서명 False\n",
      "CCTV설치여부 False\n",
      "CCTV설치대수 True\n",
      "False    11682\n",
      "True      3374\n",
      "Name: CCTV설치대수, dtype: int64\n",
      "제공기관명 False\n",
      "보호구역도로폭 True\n",
      "False    10684\n",
      "True      4372\n",
      "Name: 보호구역도로폭, dtype: int64\n"
     ]
    }
   ],
   "source": [
    "# 결측치 확인\n",
    "\n",
    "#print(pd_data.shape)\n",
    "#print(pd_data.describe(include='all'))\n",
    "\n",
    "for e in pd_data:\n",
    "    print(e, pd_data[e].hasnans)\n",
    "    if pd_data[e].hasnans==True:\n",
    "        print(pd_data[e].isna().value_counts())"
   ]
  },
  {
   "cell_type": "code",
   "execution_count": 5,
   "id": "fb247639",
   "metadata": {},
   "outputs": [
    {
     "name": "stdout",
     "output_type": "stream",
     "text": [
      "False    11682\n",
      "True      3374\n",
      "Name: CCTV설치대수, dtype: int64\n",
      "False    15056\n",
      "Name: CCTV설치대수, dtype: int64\n"
     ]
    }
   ],
   "source": [
    "# CCTV 설치대수: 결측치 처리\n",
    "# CCTV 설치여부 Y --> 1\n",
    "# CCTV 설치여부 N --> 0\n",
    "print(pd_data['CCTV설치대수'].isna().value_counts())\n",
    "\n",
    "pd_data.replace({'CCTV설치여부':'Y', 'CCTV설치대수':np.NaN}, 1, inplace=True)\n",
    "pd_data.replace({'CCTV설치여부':'N', 'CCTV설치대수':np.NaN}, 0, inplace=True)\n",
    "\n",
    "print(pd_data['CCTV설치대수'].isna().value_counts())"
   ]
  },
  {
   "cell_type": "code",
   "execution_count": 6,
   "id": "516c2c12",
   "metadata": {},
   "outputs": [
    {
     "name": "stdout",
     "output_type": "stream",
     "text": [
      "False    10684\n",
      "True      4372\n",
      "Name: 보호구역도로폭, dtype: int64\n",
      "False    15056\n",
      "Name: 보호구역도로폭, dtype: int64\n"
     ]
    }
   ],
   "source": [
    "def myfn1(x):\n",
    "    if type(x) == type(' '):\n",
    "        if '~' in x:\n",
    "            m = np.array(x.split('~')).astype(np.float64).mean()\n",
    "            return str(m)\n",
    "\n",
    "# 도로폭: 오류치 처리\n",
    "# '숫자a~숫자b' 형태의 문자열 --> '숫자a'와 '숫자b'의 평균치(np.float64) 값으로 대체\n",
    "#print(pd_data['보호구역도로폭'].value_counts())\n",
    "y = pd_data['보호구역도로폭'].apply(myfn1)\n",
    "#print(pd_data['보호구역도로폭'].value_counts())\n",
    "#print(y.dtype)\n",
    "#print(y.value_counts())\n",
    "\n",
    "\n",
    "# 도로폭: 결측치 처리\n",
    "# 전체 도로폭 평균치로 대체.\n",
    "print(pd_data['보호구역도로폭'].isna().value_counts())\n",
    "y = y.astype(np.float64)\n",
    "y = y.replace(np.NaN, y.mean())\n",
    "print(y.isna().value_counts())\n",
    "pd_data['보호구역도로폭'] = y"
   ]
  },
  {
   "cell_type": "code",
   "execution_count": 7,
   "id": "a9645294",
   "metadata": {},
   "outputs": [
    {
     "name": "stdout",
     "output_type": "stream",
     "text": [
      "시설종류 False\n",
      "관할경찰서명 False\n",
      "CCTV설치여부 False\n",
      "CCTV설치대수 False\n",
      "제공기관명 False\n",
      "보호구역도로폭 False\n"
     ]
    }
   ],
   "source": [
    "for e in pd_data:\n",
    "    print(e, pd_data[e].hasnans)\n",
    "    if pd_data[e].hasnans==True:\n",
    "        print(pd_data[e].isna().value_counts())"
   ]
  },
  {
   "cell_type": "markdown",
   "id": "4a514454",
   "metadata": {},
   "source": [
    "### 시설종류\n",
    "* dtype: category\n",
    "* value: \n",
    "* 결측치 없음\n",
    "\n",
    "### 관할경찰서명\n",
    "* dtype: object\n",
    "* 결측치 없음\n",
    "\n",
    "### CCTV 설치여부\n",
    "* dtype: category\n",
    "* value: 'Y', 'N'\n",
    "* 결측치 없음\n",
    "\n",
    "### CCTV 설치대수\n",
    "* dtype: np.int64\n",
    "* min / max: 0 / _\n",
    "* 결측치 (개, 처리후 결측치 없음)\n",
    "\n",
    "    CCTV 설치여부 'Y' --> 1\n",
    "    \n",
    "    CCTV 설치여부 'N' --> 0\n",
    "    \n",
    "### 보호구역도로폭\n",
    "* dtype: np.float64\n",
    "* min / max: \n",
    "* 오류치 (   개, 처리후 오류치 없음)\n",
    "\n",
    "    '숫자a~숫자b' 형태의 문자열 --> '숫자a'와 '숫자b'의 평균치(np.float64) 값으로 대체\n",
    "    \n",
    "\n",
    "* 결측치 (  개, 처리후 결측치 없음)\n",
    "\n",
    "    전체 평균값으로 대체\n",
    "   "
   ]
  },
  {
   "cell_type": "code",
   "execution_count": 8,
   "id": "6f05fe81",
   "metadata": {},
   "outputs": [
    {
     "name": "stdout",
     "output_type": "stream",
     "text": [
      ".. _diabetes_dataset:\n",
      "\n",
      "Diabetes dataset\n",
      "----------------\n",
      "\n",
      "Ten baseline variables, age, sex, body mass index, average blood\n",
      "pressure, and six blood serum measurements were obtained for each of n =\n",
      "442 diabetes patients, as well as the response of interest, a\n",
      "quantitative measure of disease progression one year after baseline.\n",
      "\n",
      "**Data Set Characteristics:**\n",
      "\n",
      "  :Number of Instances: 442\n",
      "\n",
      "  :Number of Attributes: First 10 columns are numeric predictive values\n",
      "\n",
      "  :Target: Column 11 is a quantitative measure of disease progression one year after baseline\n",
      "\n",
      "  :Attribute Information:\n",
      "      - age     age in years\n",
      "      - sex\n",
      "      - bmi     body mass index\n",
      "      - bp      average blood pressure\n",
      "      - s1      tc, total serum cholesterol\n",
      "      - s2      ldl, low-density lipoproteins\n",
      "      - s3      hdl, high-density lipoproteins\n",
      "      - s4      tch, total cholesterol / HDL\n",
      "      - s5      ltg, possibly log of serum triglycerides level\n",
      "      - s6      glu, blood sugar level\n",
      "\n",
      "Note: Each of these 10 feature variables have been mean centered and scaled by the standard deviation times the square root of `n_samples` (i.e. the sum of squares of each column totals 1).\n",
      "\n",
      "Source URL:\n",
      "https://www4.stat.ncsu.edu/~boos/var.select/diabetes.html\n",
      "\n",
      "For more information see:\n",
      "Bradley Efron, Trevor Hastie, Iain Johnstone and Robert Tibshirani (2004) \"Least Angle Regression,\" Annals of Statistics (with discussion), 407-499.\n",
      "(https://web.stanford.edu/~hastie/Papers/LARS/LeastAngle_2002.pdf)\n",
      "\n"
     ]
    }
   ],
   "source": [
    "import sklearn\n",
    "# !pip install scikit-learn\n",
    "from sklearn import datasets\n",
    "\n",
    "x = datasets.load_diabetes()\n",
    "print(x['DESCR'])"
   ]
  },
  {
   "cell_type": "code",
   "execution_count": null,
   "id": "f7e0aaff",
   "metadata": {},
   "outputs": [],
   "source": []
  },
  {
   "cell_type": "code",
   "execution_count": null,
   "id": "9f31a725",
   "metadata": {},
   "outputs": [],
   "source": []
  },
  {
   "cell_type": "code",
   "execution_count": null,
   "id": "70f8a2d9",
   "metadata": {},
   "outputs": [],
   "source": []
  }
 ],
 "metadata": {
  "kernelspec": {
   "display_name": "Python 3",
   "language": "python",
   "name": "python3"
  },
  "language_info": {
   "codemirror_mode": {
    "name": "ipython",
    "version": 3
   },
   "file_extension": ".py",
   "mimetype": "text/x-python",
   "name": "python",
   "nbconvert_exporter": "python",
   "pygments_lexer": "ipython3",
   "version": "3.10.9"
  },
  "vscode": {
   "interpreter": {
    "hash": "252d00ae1abf913d993c897358600e69c29a1bffb17fa3d647027b051c354ad6"
   }
  }
 },
 "nbformat": 4,
 "nbformat_minor": 5
}
