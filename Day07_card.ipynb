{
 "cells": [
  {
   "cell_type": "code",
   "execution_count": 1,
   "id": "e636cfd9",
   "metadata": {},
   "outputs": [],
   "source": [
    "import random\n",
    "\n",
    "lista = [1, 2, 3, 4, 5, 6]\n",
    "random.shuffle(lista)\n"
   ]
  },
  {
   "cell_type": "code",
   "execution_count": 2,
   "id": "ff8dd69c",
   "metadata": {},
   "outputs": [
    {
     "name": "stdout",
     "output_type": "stream",
     "text": [
      "['Ace', '2', '3', '4', '5', '6', '7', '8', '9', '10', 'Jack', 'Queen', 'King']\n"
     ]
    }
   ],
   "source": [
    "suits = ['Clover', 'Diamond', 'Heart', 'Spade']\n",
    "rank = [str(i) for i in range(2, 11)]\n",
    "rank = ['Ace'] + rank + ['Jack', 'Queen', 'King']\n",
    "\n",
    "print(rank)"
   ]
  },
  {
   "cell_type": "code",
   "execution_count": 3,
   "id": "f5457d25",
   "metadata": {},
   "outputs": [
    {
     "name": "stdout",
     "output_type": "stream",
     "text": [
      "{'Clover-Ace': 1, 'Clover-2': 2, 'Clover-3': 3, 'Clover-4': 4, 'Clover-5': 5, 'Clover-6': 6, 'Clover-7': 7, 'Clover-8': 8, 'Clover-9': 9, 'Clover-10': 10, 'Clover-Jack': 10, 'Clover-Queen': 10, 'Clover-King': 10, 'Diamond-Ace': 1, 'Diamond-2': 2, 'Diamond-3': 3, 'Diamond-4': 4, 'Diamond-5': 5, 'Diamond-6': 6, 'Diamond-7': 7, 'Diamond-8': 8, 'Diamond-9': 9, 'Diamond-10': 10, 'Diamond-Jack': 10, 'Diamond-Queen': 10, 'Diamond-King': 10, 'Heart-Ace': 1, 'Heart-2': 2, 'Heart-3': 3, 'Heart-4': 4, 'Heart-5': 5, 'Heart-6': 6, 'Heart-7': 7, 'Heart-8': 8, 'Heart-9': 9, 'Heart-10': 10, 'Heart-Jack': 10, 'Heart-Queen': 10, 'Heart-King': 10, 'Spade-Ace': 1, 'Spade-2': 2, 'Spade-3': 3, 'Spade-4': 4, 'Spade-5': 5, 'Spade-6': 6, 'Spade-7': 7, 'Spade-8': 8, 'Spade-9': 9, 'Spade-10': 10, 'Spade-Jack': 10, 'Spade-Queen': 10, 'Spade-King': 10}\n"
     ]
    }
   ],
   "source": [
    "Deck = []              # 'Clover-Ace', 'Clover-2'\n",
    "\n",
    "for s in suits:\n",
    "    for r in rank:\n",
    "        Deck.append(s + '-' + r)\n",
    "        \n",
    "score_list = [i + 1 for i in range(10)]\n",
    "score_list = score_list + [10] * 3\n",
    "score_list = score_list * 4\n",
    "\n",
    "score_dict = dict(zip(Deck, score_list))\n",
    "print(score_dict)\n",
    "\n",
    "#print(Deck)\n",
    "#print(score_list)\n",
    "\n",
    "def score_hand(hand):\n",
    "    score = 0\n",
    "    for card in hand:\n",
    "        score = score + +score_dict[card]\n",
    "    return score"
   ]
  },
  {
   "cell_type": "code",
   "execution_count": 4,
   "id": "edf6692f",
   "metadata": {},
   "outputs": [
    {
     "name": "stdout",
     "output_type": "stream",
     "text": [
      "['Spade-7', 'Clover-Ace', 'Diamond-3', 'Heart-Queen', 'Diamond-Queen', 'Clover-8', 'Clover-5', 'Spade-5', 'Heart-10', 'Diamond-4', 'Spade-8', 'Heart-7', 'Clover-6', 'Diamond-8', 'Diamond-10', 'Clover-4', 'Diamond-Jack', 'Heart-3', 'Diamond-Ace', 'Heart-5', 'Clover-King', 'Diamond-King', 'Clover-Jack', 'Clover-Queen', 'Spade-6', 'Heart-King', 'Heart-6', 'Diamond-7', 'Diamond-9', 'Heart-2', 'Clover-7', 'Spade-9', 'Clover-10', 'Heart-4', 'Spade-Jack', 'Diamond-6', 'Spade-King', 'Clover-3', 'Spade-10', 'Heart-9', 'Spade-4', 'Clover-2', 'Diamond-2', 'Heart-Ace', 'Clover-9', 'Spade-2', 'Spade-Ace', 'Heart-Jack', 'Diamond-5', 'Spade-3', 'Heart-8', 'Spade-Queen']\n"
     ]
    }
   ],
   "source": [
    "random.shuffle(Deck)\n",
    "print(Deck)"
   ]
  },
  {
   "cell_type": "code",
   "execution_count": 6,
   "id": "2599b248",
   "metadata": {},
   "outputs": [
    {
     "name": "stdout",
     "output_type": "stream",
     "text": [
      "Game Start\n",
      "\n",
      "Dealer Hands\n",
      "['Diamond-9', 'Diamond-Jack'] 19\n",
      "\n",
      "Player Hands\n",
      "['Spade-Ace', 'Spade-King'] 11\n",
      "Deal(1) or Stop(0) :1\n",
      "['Spade-Ace', 'Spade-King', 'Diamond-Queen'] 21\n"
     ]
    }
   ],
   "source": [
    "print('Game Start\\n')\n",
    "random.shuffle(Deck)\n",
    "\n",
    "print('Dealer Hands')\n",
    "dealer_hand = [Deck.pop() for _ in range(2)]\n",
    "print(dealer_hand, score_hand(dealer_hand))\n",
    "\n",
    "print('\\nPlayer Hands')\n",
    "player_hand = [Deck.pop() for _ in range(2)]\n",
    "print(player_hand, score_hand(player_hand))\n",
    "\n",
    "if score_hand(player_hand) < 21:\n",
    "    ans = int(input('Deal(1) or Stop(0) :'))\n",
    "    if ans == 1:\n",
    "        player_hand.append(Deck.pop())\n",
    "        print(player_hand, score_hand(player_hand))\n",
    "# 승부 표시\n"
   ]
  }
 ],
 "metadata": {
  "kernelspec": {
   "display_name": "Python 3 (ipykernel)",
   "language": "python",
   "name": "python3"
  },
  "language_info": {
   "codemirror_mode": {
    "name": "ipython",
    "version": 3
   },
   "file_extension": ".py",
   "mimetype": "text/x-python",
   "name": "python",
   "nbconvert_exporter": "python",
   "pygments_lexer": "ipython3",
   "version": "3.10.9"
  }
 },
 "nbformat": 4,
 "nbformat_minor": 5
}
