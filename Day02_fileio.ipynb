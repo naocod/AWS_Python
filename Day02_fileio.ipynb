{
 "cells": [
  {
   "cell_type": "code",
   "execution_count": 7,
   "id": "3ffd4b60",
   "metadata": {},
   "outputs": [],
   "source": [
    "data_list = []\n",
    "with open('부산광역시_노인복지관 현황_20230101.csv') as f: # endoding='cp949'> 옛날 한글 파일 인코딩 방법\n",
    "    for line in f: # 한줄씩 다운로드\n",
    "#         print(line, type(line)) # line 타입 출력\n",
    "        data_list.append(line.split(',')) # 리스트에 담음\n",
    "data_list = data_list[1:]\n",
    "\n",
    "# f.close() with 사용시 close 안써줘도 됨"
   ]
  },
  {
   "cell_type": "code",
   "execution_count": 23,
   "id": "0a0a1ec2",
   "metadata": {},
   "outputs": [
    {
     "name": "stdout",
     "output_type": "stream",
     "text": [
      "['중구', '중구', '서구', '서구', '동구', '동구', '동구', '영도구', '영도구', '부산진구', '부산진구', '부산진구', '동래구', '남구', '남구', '북구', '해운대구', '해운대구', '해운대구', '사하구', '사하구', '다대로', '금정구', '강서구', '강서구', '강서구', '연제구', '연제구', '수영구', '수영구', '사상구', '사상구', '기장군', '기장군', '기장군']\n",
      "21\n",
      "['중구', '중구', '서구', '서구', '동구', '동구', '동구', '영도구', '영도구', '부산진구', '부산진구', '부산진구', '동래구', '남구', '남구', '북구', '해운대구', '해운대구', '해운대구', '사하구', '사하구', '사하구', '금정구', '강서구', '강서구', '강서구', '연제구', '연제구', '수영구', '수영구', '사상구', '사상구', '기장군', '기장군', '기장군']\n"
     ]
    }
   ],
   "source": [
    "# data_list[:2]\n",
    "# 주소만 출력\n",
    "# for i in data_list:\n",
    "#     print(i[0])\n",
    "    \n",
    "# for i in data_list:\n",
    "#     print(i[2]) # data_type -> list\n",
    "\n",
    "# \n",
    "gu_list = []\n",
    "for i in data_list:\n",
    "    address = i[2]\n",
    "    address_list = address.split()\n",
    "    gu_list.append(address_list[1])\n",
    "print(gu_list)\n",
    "print(gu_list.index('다대로'))\n",
    "gu_list[21] = '사하구'\n",
    "print(gu_list)"
   ]
  },
  {
   "cell_type": "code",
   "execution_count": 26,
   "id": "7a50322a",
   "metadata": {},
   "outputs": [
    {
     "name": "stdout",
     "output_type": "stream",
     "text": [
      "연제구 2\n",
      "동래구 1\n",
      "중구 2\n",
      "강서구 3\n",
      "서구 2\n",
      "남구 2\n",
      "사상구 2\n",
      "동구 3\n",
      "북구 1\n",
      "사하구 3\n",
      "해운대구 3\n",
      "수영구 2\n",
      "부산진구 3\n",
      "금정구 1\n",
      "기장군 3\n",
      "영도구 2\n",
      "['연제구', '동래구', '중구', '강서구', '서구', '남구', '사상구', '동구', '북구', '사하구', '해운대구', '수영구', '부산진구', '금정구', '기장군', '영도구']\n",
      "[2, 1, 2, 3, 2, 2, 2, 3, 1, 3, 3, 2, 3, 1, 3, 2]\n"
     ]
    }
   ],
   "source": [
    "gu_set = set(gu_list)\n",
    "d_gu_list = []\n",
    "d_gu_count = []\n",
    "for i in gu_set:\n",
    "    print(i, gu_list.count(i))\n",
    "    d_gu_list.append(i)\n",
    "    d_gu_count.append(gu_list.count(i))\n",
    "print(d_gu_list)\n",
    "print(d_gu_count)"
   ]
  },
  {
   "cell_type": "code",
   "execution_count": 28,
   "id": "cd2e1b73",
   "metadata": {},
   "outputs": [
    {
     "name": "stdout",
     "output_type": "stream",
     "text": [
      "{'연제구': 2, '동래구': 1, '중구': 2, '강서구': 3, '서구': 2, '남구': 2, '사상구': 2, '동구': 3, '북구': 1, '사하구': 3, '해운대구': 3, '수영구': 2, '부산진구': 3, '금정구': 1, '기장군': 3, '영도구': 2}\n"
     ]
    }
   ],
   "source": [
    "# dict 타입으로 변환\n",
    "d1 = dict(zip(d_gu_list, d_gu_count))\n",
    "print(d1)"
   ]
  },
  {
   "cell_type": "code",
   "execution_count": 31,
   "id": "324bb776",
   "metadata": {},
   "outputs": [
    {
     "name": "stdout",
     "output_type": "stream",
     "text": [
      "value 5\n"
     ]
    },
    {
     "data": {
      "text/plain": [
       "<function __main__.<lambda>(n)>"
      ]
     },
     "execution_count": 31,
     "metadata": {},
     "output_type": "execute_result"
    }
   ],
   "source": [
    "def fn1(n):\n",
    "    print('value {}'.format(n))\n",
    "    \n",
    "fn1(5)\n",
    "\n",
    "# 람다\n",
    "# 조건1. lambda로 시작해야함\n",
    "# 조건2: 매개변수 여러개 가능 다만 : 이후 코드부분이 한줄에 끝나야 함\n",
    "# 람다식을 불러줘야만 실행됨\n",
    "lambda n: print('value{}.format(n)')"
   ]
  },
  {
   "cell_type": "code",
   "execution_count": 36,
   "id": "c98eeb60",
   "metadata": {},
   "outputs": [
    {
     "name": "stdout",
     "output_type": "stream",
     "text": [
      "{'동래구': 1, '북구': 1, '금정구': 1, '연제구': 2, '중구': 2, '서구': 2, '남구': 2, '사상구': 2, '수영구': 2, '영도구': 2, '강서구': 3, '동구': 3, '사하구': 3, '해운대구': 3, '부산진구': 3, '기장군': 3}\n"
     ]
    }
   ],
   "source": [
    "# print(d1.items()) # tuple형태로 반환\n",
    "def fn10(x):\n",
    "    return x[1]\n",
    "# d1_sorted = dict(sorted(d1.items(), key = lambda x: x[1], reverse=True)) #내림차순, 람다의 x는 key-value가 세트\n",
    "d1_sorted = dict(sorted(d1.items(), key = fn10)) # 오름차순\n",
    "print(d1_sorted)"
   ]
  }
 ],
 "metadata": {
  "kernelspec": {
   "display_name": "Python 3",
   "language": "python",
   "name": "python3"
  },
  "language_info": {
   "codemirror_mode": {
    "name": "ipython",
    "version": 3
   },
   "file_extension": ".py",
   "mimetype": "text/x-python",
   "name": "python",
   "nbconvert_exporter": "python",
   "pygments_lexer": "ipython3",
   "version": "3.10.9 (tags/v3.10.9:1dd9be6, Dec  6 2022, 20:01:21) [MSC v.1934 64 bit (AMD64)]"
  },
  "vscode": {
   "interpreter": {
    "hash": "252d00ae1abf913d993c897358600e69c29a1bffb17fa3d647027b051c354ad6"
   }
  }
 },
 "nbformat": 4,
 "nbformat_minor": 5
}
