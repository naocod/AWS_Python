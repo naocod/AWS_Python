{
 "cells": [
  {
   "cell_type": "code",
   "execution_count": 3,
   "id": "f7759b84",
   "metadata": {},
   "outputs": [
    {
     "name": "stdout",
     "output_type": "stream",
     "text": [
      "myfunction\n"
     ]
    }
   ],
   "source": [
    "# 함수\n",
    "# define\n",
    "def function_name(): # 함수 명명\n",
    "    print('myfunction') # 함수 정의\n",
    "\n",
    "function_name() # 함수 call"
   ]
  },
  {
   "cell_type": "code",
   "execution_count": 20,
   "id": "01399354",
   "metadata": {},
   "outputs": [
    {
     "name": "stdout",
     "output_type": "stream",
     "text": [
      "fn7 start\n",
      "abc def\n"
     ]
    }
   ],
   "source": [
    "# function argument 매개변수\n",
    "def myfn1():\n",
    "    print('myfn1')\n",
    "    \n",
    "def myfn2(arg1):\n",
    "    print(arg1)\n",
    "    \n",
    "def myfn3(arg1='a', arg2='b'): # default 값 설정 가능\n",
    "    print(arg1, arg2)\n",
    "    \n",
    "def myfn4(*arg1):\n",
    "#     print(arg1)\n",
    "    for i in arg1:\n",
    "        print(i)\n",
    "    \n",
    "def myfn5(arg1, *, arg2, arg3): # * 앞에는 position 매개변수, * 뒤에는 keyword 매개변수\n",
    "    print(arg1, arg2, arg3)\n",
    "    \n",
    "def myfn6(arg1, /, arg2, arg3): # / 앞에는 position 매개변수(강제사항), / 뒤에는 강제사항 없음\n",
    "    print(arg1, arg2, arg3)\n",
    "\n",
    "def myfn7(arg1, arg2): # 매개변수에 함수를 넣을 수 있음\n",
    "    print(arg1)\n",
    "    arg2('abc', 'def') # 매개변수에 강제성을 주어 출력\n",
    "    \n",
    "# myfn2('abc')\n",
    "# myfn3(10, 20)\n",
    "# 키워드를 사용한 매개변수는 순서가 상관 없다.\n",
    "# myfn3(arg2=10, arg1=20) # 자바와 달리 매개변수 명에 직접 대입해주면 순서에 맞춰서 나옴\n",
    "# myfn3()\n",
    "# myfn4(1, 2, 3, 4) # 데이터 타입 튜플로 리턴됨\n",
    "# myfn2([1, 2, 3, 4]) # 리스트로 넘기면 return 리스트 \n",
    "# myfn5('a', arg3 = 'c', arg2 = 'b') # 키워드로 입력해주기 때문에 순서가 바뀌어도 상관 없음\n",
    "# myfn5(arg1 = 'a', arg3 = 'c', arg2 = 'b')\n",
    "# myfn6('a', 'b', 'c')\n",
    "# myfn6(arg1 = 'a', arg3 = 'c', arg2 = 'b')\n",
    "myfn7('fn7 start', myfn3) # arg1 매개변수를 그대로 출력하고, myfn3 함수를 출력한다."
   ]
  },
  {
   "cell_type": "code",
   "execution_count": 23,
   "id": "2172c407",
   "metadata": {},
   "outputs": [
    {
     "name": "stdout",
     "output_type": "stream",
     "text": [
      "(10, 20)\n"
     ]
    }
   ],
   "source": [
    "# function return\n",
    "def myfn8():\n",
    "    print('myfn8')\n",
    "    \n",
    "def myfn9():\n",
    "    return 10\n",
    "\n",
    "def myfn10():\n",
    "    return 10, 20\n",
    "    \n",
    "# ret_value = myfn8()\n",
    "# print(ret_value) # 리턴값이 없으므로 None 출력\n",
    "ret_value = myfn10()\n",
    "print(ret_value)"
   ]
  }
 ],
 "metadata": {
  "kernelspec": {
   "display_name": "Python 3 (ipykernel)",
   "language": "python",
   "name": "python3"
  },
  "language_info": {
   "codemirror_mode": {
    "name": "ipython",
    "version": 3
   },
   "file_extension": ".py",
   "mimetype": "text/x-python",
   "name": "python",
   "nbconvert_exporter": "python",
   "pygments_lexer": "ipython3",
   "version": "3.10.9"
  }
 },
 "nbformat": 4,
 "nbformat_minor": 5
}
