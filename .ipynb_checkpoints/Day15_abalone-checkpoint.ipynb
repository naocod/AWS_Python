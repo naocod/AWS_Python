{
 "cells": [
  {
   "cell_type": "markdown",
   "metadata": {},
   "source": [
    "#### 전복\n",
    "\n",
    "https://archive.ics.uci.edu/ml/datasets/Abalone\n",
    "\n",
    "data url : https://archive.ics.uci.edu/ml/machine-learning-databases/abalone/\n",
    "\n",
    "1. [함수] requests 패키지를 이용해 데이터 가져와서 ndarray로 변환\n",
    "\n",
    "2. [함수] 성별이 'M'인 데이터를 필터, Length와 Diameter 간 상관도를 반환\n",
    "\n",
    "3. __name__ 값이 __main__이면, 1, 2 함수를 실행, 2번 함수의 반환 값을 프린트\n",
    "\n",
    "bonus:\n",
    "sqlite3 데이이터베이스 생성.\n",
    "\n",
    "참고 : \n",
    "\n",
    "테이블 DDL\n",
    "    create table abalone(\n",
    "        length number,\n",
    "        diamter number\n",
    "    );"
   ]
  },
  {
   "cell_type": "code",
   "execution_count": 3,
   "metadata": {},
   "outputs": [],
   "source": [
    "import requests\n",
    "import numpy as np"
   ]
  },
  {
   "cell_type": "code",
   "execution_count": 13,
   "metadata": {},
   "outputs": [],
   "source": [
    "def fetch_uci_data(url):\n",
    "    d = requests.get(url)\n",
    "    t = []\n",
    "    for line in d.text.split('\\n'):\n",
    "        if len(line) != 0:\n",
    "            t.append(line.split(','))\n",
    "\n",
    "    # len_check = set()\n",
    "    # for e in t:\n",
    "    #     if(len(e) == 1):\n",
    "    #         print(e)\n",
    "    #     len_check.add(len(e))\n",
    "    # print(len_check)\n",
    "\n",
    "    return np.array(t)\n",
    "\n",
    "def get_corr(d):\n",
    "    male_filter = (d[:, 0] == 'M')\n",
    "    male_samples = d[male_filter]\n",
    "    male_length = male_samples[:, 1].astype(np.float64)\n",
    "    male_diameter = male_samples[:, 2].astype(np.float64)\n",
    "    return np.corrcoef(male_length, male_diameter)"
   ]
  },
  {
   "cell_type": "code",
   "execution_count": 16,
   "metadata": {},
   "outputs": [
    {
     "name": "stdout",
     "output_type": "stream",
     "text": [
      "[[1.         0.98190714]\n",
      " [0.98190714 1.        ]]\n",
      "0.9819071375281404\n"
     ]
    }
   ],
   "source": [
    "url = 'https://archive.ics.uci.edu/ml/machine-learning-databases/abalone/abalone.data'\n",
    "\n",
    "if __name__ == '__main__':\n",
    "    np_data = fetch_uci_data(url)\n",
    "    corr_value = get_corr(np_data)\n",
    "    print(corr_value)\n",
    "    print(corr_value[0, 1])"
   ]
  },
  {
   "cell_type": "code",
   "execution_count": 1,
   "metadata": {},
   "outputs": [],
   "source": [
    "import sqlite3\n",
    "\n",
    "con = sqlite3.connect(\"test2.db\")\n",
    "cur = con.cursor()\n",
    "cur.execute(\"create table abalone(length real,diamter real)\")\n",
    "cur.execute(\"insert into abalone(length, diamter) values (10.0, 20.0)\")\n",
    "con.commit()\n",
    "con.close()"
   ]
  },
  {
   "cell_type": "code",
   "execution_count": 2,
   "metadata": {},
   "outputs": [
    {
     "name": "stdout",
     "output_type": "stream",
     "text": [
      "[(10.0, 20.0)]\n"
     ]
    }
   ],
   "source": [
    "con = sqlite3.connect(\"test2.db\")\n",
    "cur = con.cursor()\n",
    "res = cur.execute(\"select * from abalone\")\n",
    "print(res.fetchall())"
   ]
  }
 ],
 "metadata": {
  "kernelspec": {
   "display_name": "Python 3 (ipykernel)",
   "language": "python",
   "name": "python3"
  },
  "language_info": {
   "codemirror_mode": {
    "name": "ipython",
    "version": 3
   },
   "file_extension": ".py",
   "mimetype": "text/x-python",
   "name": "python",
   "nbconvert_exporter": "python",
   "pygments_lexer": "ipython3",
   "version": "3.10.9"
  },
  "vscode": {
   "interpreter": {
    "hash": "252d00ae1abf913d993c897358600e69c29a1bffb17fa3d647027b051c354ad6"
   }
  }
 },
 "nbformat": 4,
 "nbformat_minor": 2
}
