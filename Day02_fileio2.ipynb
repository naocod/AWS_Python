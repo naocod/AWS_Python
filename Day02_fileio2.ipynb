{
 "cells": [
  {
   "cell_type": "code",
   "execution_count": null,
   "id": "ac6fc200",
   "metadata": {},
   "outputs": [],
   "source": [
    "data_list = []\n",
    "with open('전국건강증진센터표준데이터.csv') as f: \n",
    "    for line in f:\n",
    "        data_list.append(line.split(','))\n",
    "data_list = data_list[1:]\n",
    "print(data_list)"
   ]
  },
  {
   "cell_type": "code",
   "execution_count": null,
   "id": "cefe7ef0",
   "metadata": {
    "scrolled": false
   },
   "outputs": [],
   "source": [
    "do_list = []\n",
    "for i in data_list:\n",
    "    address = i[2]\n",
    "    address_list = address.split()\n",
    "    do_list.append(address_list[0])\n",
    "\n",
    "# print(do_list)\n",
    "\n",
    "line.strip('\\\"') for line in do_list\n",
    "print(do_list)"
   ]
  },
  {
   "cell_type": "code",
   "execution_count": null,
   "id": "4902bef9",
   "metadata": {},
   "outputs": [],
   "source": [
    "do_set = set(do_list)\n",
    "d_do_list = []\n",
    "d_do_count = []\n",
    "\n",
    "for i in do_set:\n",
    "    print(i, do_list.count(i))"
   ]
  }
 ],
 "metadata": {
  "kernelspec": {
   "display_name": "Python 3",
   "language": "python",
   "name": "python3"
  },
  "language_info": {
   "codemirror_mode": {
    "name": "ipython",
    "version": 3
   },
   "file_extension": ".py",
   "mimetype": "text/x-python",
   "name": "python",
   "nbconvert_exporter": "python",
   "pygments_lexer": "ipython3",
   "version": "3.10.9 (tags/v3.10.9:1dd9be6, Dec  6 2022, 20:01:21) [MSC v.1934 64 bit (AMD64)]"
  },
  "vscode": {
   "interpreter": {
    "hash": "252d00ae1abf913d993c897358600e69c29a1bffb17fa3d647027b051c354ad6"
   }
  }
 },
 "nbformat": 4,
 "nbformat_minor": 5
}
