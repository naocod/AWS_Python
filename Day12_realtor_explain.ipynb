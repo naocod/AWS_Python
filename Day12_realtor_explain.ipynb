{
 "cells": [
  {
   "attachments": {},
   "cell_type": "markdown",
   "metadata": {},
   "source": [
    "### 전국공인중개사 사무소표준데이터\n",
    "    - 공인중개사 / 개업공인중개사 비율\n",
    "    - 공제미가입 중개사 count, 전체 대비 비율\n",
    "    - ㅇㅇ공인중개... 중 흔한 상호명\n",
    "    - ㅇㅇ공인중개...가 아닌 것은 따로 저장"
   ]
  },
  {
   "cell_type": "code",
   "execution_count": 1,
   "metadata": {},
   "outputs": [
    {
     "name": "stdout",
     "output_type": "stream",
     "text": [
      "{17}\n",
      "(0, '중개사무소명')\n",
      "(1, '개설등록번호')\n",
      "(2, '개업공인중개사종별구분')\n",
      "(3, '소재지도로명주소')\n",
      "(4, '소재지지번주소')\n",
      "(5, '전화번호')\n",
      "(6, '개설등록일자')\n",
      "(7, '공제가입유무')\n",
      "(8, '대표자명')\n",
      "(9, '위도')\n",
      "(10, '경도')\n",
      "(11, '중개보조원수')\n",
      "(12, '소속공인중개사수')\n",
      "(13, '홈페이지주소')\n",
      "(14, '데이터기준일자')\n",
      "(15, '제공기관코드')\n",
      "(16, '제공기관명')\n"
     ]
    }
   ],
   "source": [
    "import numpy as np\n",
    "\n",
    "def my_split(s):\n",
    "    block_start = False\n",
    "    start_index = 0\n",
    "    ret_list=[]\n",
    "    for i, c in enumerate(s):\n",
    "        if block_start==False:\n",
    "            if c==',':\n",
    "                ret_list.append(s[start_index:i])\n",
    "                start_index=i+1\n",
    "            elif c=='\"':\n",
    "                block_start=True\n",
    "                start_index = i\n",
    "        else:\n",
    "            if c=='\"':\n",
    "                block_start=False\n",
    "    if s[-1]!=',':\n",
    "        ret_list.append(s[start_index:])\n",
    "    return ret_list\n",
    "\n",
    "def split_len(data_list):\n",
    "    len_list = []\n",
    "    for e in data_list:\n",
    "        len_list.append(len(e))\n",
    "    print(set(len_list))\n",
    "    if len(set(len_list)) > 1:\n",
    "        for i in set(len_list):\n",
    "            print(i, len_list.count(i))\n",
    "    return set(len_list)    \n",
    "\n",
    "csv_data = []\n",
    "with open('전국공인중개사사무소표준데이터.csv') as f:\n",
    "    for line in f:\n",
    "        csv_data.append(my_split(line[:-1]))\n",
    "\n",
    "assert len(split_len(csv_data)) == 1\n",
    "\n",
    "np_data = np.array(csv_data)\n",
    "for e in enumerate(np_data[0]):\n",
    "    print(e)"
   ]
  },
  {
   "cell_type": "code",
   "execution_count": null,
   "metadata": {},
   "outputs": [],
   "source": [
    "# print"
   ]
  },
  {
   "cell_type": "code",
   "execution_count": 2,
   "metadata": {},
   "outputs": [
    {
     "name": "stdout",
     "output_type": "stream",
     "text": [
      "['개업공인중개사' '공인중개사' '법인']\n",
      "[ 5085 23757   527]\n",
      "[17.31417481 80.89141612  1.79440907]\n"
     ]
    }
   ],
   "source": [
    "btypes = np_data[1:, 2]\n",
    "# print(btypes[:3])\n",
    "# print(np.unique(bytes, return_counts = True)) # tuple형태, ndarray로 법인, count가 출력됨\n",
    "btypes_name, btypes_count = np.unique(btypes, return_counts=True)\n",
    "\n",
    "print(btypes_name)\n",
    "print(btypes_count)\n",
    "print(btypes_count * 100 / sum(btypes_count))\n"
   ]
  },
  {
   "cell_type": "code",
   "execution_count": 4,
   "metadata": {},
   "outputs": [
    {
     "name": "stdout",
     "output_type": "stream",
     "text": [
      "['공인중개사', '공인중개사', '공인중개사', '공인중개사']\n",
      "{'공인중개사', '법인', '개업공인중개사'}\n",
      "공인중개사 23757\n",
      "법인 527\n",
      "개업공인중개사 5085\n",
      "전체: 29369\n",
      "80.89141611903709\n",
      "1.794409070788927\n",
      "17.314174810173995\n"
     ]
    }
   ],
   "source": [
    "division_list = []\n",
    "\n",
    "for i in csv_data[1:]:\n",
    "    division_list.append(i[2])\n",
    "\n",
    "print(division_list[:4])\n",
    "\n",
    "division_set = set(division_list)\n",
    "print(division_set)\n",
    "\n",
    "# a = division_list.count('공인중개사')\n",
    "# b = division_list.count('개업공인중개사')\n",
    "# c = division_list.count('법인')\n",
    "\n",
    "count_list = []\n",
    "for i in division_set:\n",
    "    print (i, division_list.count(i))\n",
    "    count_list.append(division_list.count(i))\n",
    "\n",
    "print('전체:', sum(count_list))\n",
    "\n",
    "for i in count_list:\n",
    "    print((i / sum(count_list)) * 100)\n",
    "    "
   ]
  },
  {
   "cell_type": "code",
   "execution_count": 5,
   "metadata": {},
   "outputs": [
    {
     "data": {
      "text/plain": [
       "(array(['N', 'Y'], dtype='<U74'), array([   30, 29339], dtype=int64))"
      ]
     },
     "execution_count": 5,
     "metadata": {},
     "output_type": "execute_result"
    }
   ],
   "source": [
    "y_n = np_data[1:, 7]\n",
    "np.unique(y_n, return_counts=True)"
   ]
  },
  {
   "cell_type": "code",
   "execution_count": 7,
   "metadata": {},
   "outputs": [],
   "source": [
    "names = np_data[1:, 0]\n",
    "name_head = []\n",
    "else_list = []\n",
    "for n in names:\n",
    "    n = n.replace(' ', '')\n",
    "    if '공인중개사' in n:\n",
    "        name_head.append(n[:n.index('공인중개사')])\n",
    "    else:\n",
    "        else_list.append(n)"
   ]
  },
  {
   "cell_type": "code",
   "execution_count": 13,
   "metadata": {},
   "outputs": [
    {
     "name": "stdout",
     "output_type": "stream",
     "text": [
      "abc공인중개사\n"
     ]
    }
   ],
   "source": [
    "s = 'abc 공인중개사'\n",
    "s = s.replace(' ', '')\n",
    "print(s)\n",
    "# s[:s.index('공인중개사')]\n"
   ]
  },
  {
   "cell_type": "code",
   "execution_count": 21,
   "metadata": {},
   "outputs": [
    {
     "name": "stdout",
     "output_type": "stream",
     "text": [
      "2555\n",
      "['미스터홈즈부동산중개광주장지센터', '삼동역힐스테이트부동산중개', '천일부동산중개사무소', '만세부동산중개', '대일부동산중개사무소', '산들부동산중개사무소', '또또부동산중개사무소', '도시개발부동산중개', '금부동산중개사무소', '바른정부동산중개사무소']\n"
     ]
    }
   ],
   "source": [
    "# print(name_head[:10])\n",
    "name, name_count = np.unique(name_head, return_counts=True)\n",
    "names = sorted(zip(name, name_count), key = lambda x: x[1], reverse=True)\n",
    "# print(names[:10])\n",
    "\n",
    "print(len(else_list))\n",
    "print(else_list[:10])"
   ]
  },
  {
   "cell_type": "code",
   "execution_count": 23,
   "metadata": {},
   "outputs": [],
   "source": [
    "# oo 부동산 중개... 에서 인기있는 oo이름\n",
    "\n",
    "name2 = []\n",
    "else2 = []\n",
    "for n in else_list:\n",
    "    if '부동산중개' in n:\n",
    "        name2.append(n[:n.index('부동산중개')])\n",
    "    else:\n",
    "        else2.append(n)\n"
   ]
  },
  {
   "cell_type": "code",
   "execution_count": 24,
   "metadata": {},
   "outputs": [
    {
     "data": {
      "text/plain": [
       "[('', 25),\n",
       " ('주식회사', 23),\n",
       " ('미스터홈즈', 18),\n",
       " ('미래', 13),\n",
       " ('우리', 12),\n",
       " ('금강', 10),\n",
       " ('부자', 10),\n",
       " ('삼성', 10),\n",
       " ('제일', 10),\n",
       " ('한국', 10)]"
      ]
     },
     "execution_count": 24,
     "metadata": {},
     "output_type": "execute_result"
    }
   ],
   "source": [
    "x, x_count = np.unique(name2, return_counts=True)\n",
    "x_result = sorted(zip(x, x_count), key = lambda i: i[1], reverse=True)\n",
    "x_result[:10]"
   ]
  }
 ],
 "metadata": {
  "kernelspec": {
   "display_name": "Python 3",
   "language": "python",
   "name": "python3"
  },
  "language_info": {
   "codemirror_mode": {
    "name": "ipython",
    "version": 3
   },
   "file_extension": ".py",
   "mimetype": "text/x-python",
   "name": "python",
   "nbconvert_exporter": "python",
   "pygments_lexer": "ipython3",
   "version": "3.10.9"
  },
  "orig_nbformat": 4,
  "vscode": {
   "interpreter": {
    "hash": "252d00ae1abf913d993c897358600e69c29a1bffb17fa3d647027b051c354ad6"
   }
  }
 },
 "nbformat": 4,
 "nbformat_minor": 2
}
