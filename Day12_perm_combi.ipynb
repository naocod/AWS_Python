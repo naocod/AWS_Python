{
 "cells": [
  {
   "cell_type": "code",
   "execution_count": 1,
   "metadata": {},
   "outputs": [],
   "source": [
    "# 주사위를 3번 던져 나올 수 있는 모든 경우의 수 : 6 ** 3\n",
    "# -- with replacement\n",
    "\n",
    "# 1에서부터 6까지 숫자가 적힌 공이 든 박스에서 3개의 공을 꺼낼 때\n",
    "# 나올 수 있는 모든 경우의 수\n",
    "# -- without replacement\n",
    "\n",
    "# 1에서부터 6까지 숫자가 적힌 공이 든 박스에서 3개의 공을 꺼내면서\n",
    "# 꺼낸 공을 다시 집어넣고, 섞어서 뽑았을 때 나올 수 있는 모든 경우의 수\n",
    "# -- with replacement"
   ]
  },
  {
   "cell_type": "code",
   "execution_count": 2,
   "metadata": {},
   "outputs": [],
   "source": [
    "# permutation (순열)\n",
    "# 1에서부터 6까지 숫자가 적힌 공이 든 박스에서 3개의 공을 꺼낼 때\n",
    "# 나올 수 있는 모든 경우의 수 : 6 * 5 * 4\n",
    "\n",
    "# n = 6\n",
    "# r = 3\n",
    "\n",
    "# n! / (n-r)!"
   ]
  },
  {
   "cell_type": "code",
   "execution_count": null,
   "metadata": {},
   "outputs": [],
   "source": [
    "# combination (조합) : (a, b, c), (b, c, a) --> 순서의 개념 없음. 둘은 같은 것\n",
    "\n",
    "# 1에서부터 6까지 숫자가 적힌 공이 든 박스에서 2개의 공을 꺼낼 때\n",
    "# '다른 구성'으로 나올 수 있는 모든 경우의 수\n",
    "# -- without replacement\n",
    "\n",
    "# permutation (순열)에서 구성이 같은 것을 제외 --> 조합\n",
    "n = 6\n",
    "r = 2"
   ]
  },
  {
   "cell_type": "code",
   "execution_count": null,
   "metadata": {},
   "outputs": [],
   "source": [
    "import numpy as np\n",
    "# 재귀함수 : 자기 자신을 부르는(사용하는) 함수\n",
    "#       - 탈출 조건이 중요함\n",
    "def fact_r(n):\n",
    "    if n == 2:\n",
    "        return 2\n",
    "    return fact_r(n-1) * n\n",
    "\n",
    "# 6! = 6 * 5 * 4 * 3 * 2 * 1 = 6 * 5!\n",
    "\n",
    "def fact(n):\n",
    "    ret = 1\n",
    "    while n > 1:\n",
    "        ret *= n\n",
    "        n -= 1\n",
    "    return ret\n",
    "\n",
    "def fact_np(n):\n",
    "    return np.arange(2, n + 1).prod()\n",
    "\n",
    "assert fact_np(6) == fact_r(6)\n",
    "\n",
    "\n",
    "def perm(n, r):\n",
    "    return fact_r(n) / fact_r(n-r)\n",
    "\n",
    "assert perm(6, 2) == 30.0\n",
    "assert perm(6, 3) == 120.0\n"
   ]
  },
  {
   "cell_type": "code",
   "execution_count": null,
   "metadata": {},
   "outputs": [],
   "source": [
    "#count_with_replacement_order(list('abcdef'), 3)\n",
    "# perm_pool(list('abcdef'), 3)\n",
    "# combi_pool(list('abcdef'), 3)"
   ]
  }
 ],
 "metadata": {
  "kernelspec": {
   "display_name": "Python 3",
   "language": "python",
   "name": "python3"
  },
  "language_info": {
   "codemirror_mode": {
    "name": "ipython",
    "version": 3
   },
   "file_extension": ".py",
   "mimetype": "text/x-python",
   "name": "python",
   "nbconvert_exporter": "python",
   "pygments_lexer": "ipython3",
   "version": "3.10.9"
  },
  "orig_nbformat": 4,
  "vscode": {
   "interpreter": {
    "hash": "252d00ae1abf913d993c897358600e69c29a1bffb17fa3d647027b051c354ad6"
   }
  }
 },
 "nbformat": 4,
 "nbformat_minor": 2
}
