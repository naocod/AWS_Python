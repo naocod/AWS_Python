{
 "cells": [
  {
   "cell_type": "code",
   "execution_count": 1,
   "id": "c47e05db",
   "metadata": {},
   "outputs": [
    {
     "name": "stdout",
     "output_type": "stream",
     "text": [
      "3.10.9 (tags/v3.10.9:1dd9be6, Dec  6 2022, 20:01:21) [MSC v.1934 64 bit (AMD64)]\n"
     ]
    }
   ],
   "source": [
    "# 버전 확인\n",
    "import sys\n",
    "print(sys.version)"
   ]
  },
  {
   "cell_type": "code",
   "execution_count": 7,
   "id": "ad494ba2",
   "metadata": {},
   "outputs": [
    {
     "name": "stdout",
     "output_type": "stream",
     "text": [
      "<class 'int'>\n",
      "10\n",
      "<class 'float'>\n",
      "10.5\n",
      "<class 'str'>\n",
      "abcd\n",
      "<class 'bool'>\n",
      "True\n"
     ]
    }
   ],
   "source": [
    "a = 10\n",
    "print(type(a))\n",
    "print(a)\n",
    "\n",
    "b = 10.5\n",
    "print(type(b))\n",
    "print(b)\n",
    "\n",
    "c = 'abcd'\n",
    "print(type(c))\n",
    "print(c)\n",
    "\n",
    "d = True\n",
    "print(type(d))\n",
    "print(d)\n",
    "\n",
    "del c"
   ]
  },
  {
   "cell_type": "code",
   "execution_count": 8,
   "id": "194deb4b",
   "metadata": {},
   "outputs": [
    {
     "ename": "NameError",
     "evalue": "name 'c' is not defined",
     "output_type": "error",
     "traceback": [
      "\u001b[1;31m---------------------------------------------------------------------------\u001b[0m",
      "\u001b[1;31mNameError\u001b[0m                                 Traceback (most recent call last)",
      "Cell \u001b[1;32mIn[8], line 1\u001b[0m\n\u001b[1;32m----> 1\u001b[0m \u001b[38;5;28mprint\u001b[39m(\u001b[43mc\u001b[49m)\n",
      "\u001b[1;31mNameError\u001b[0m: name 'c' is not defined"
     ]
    }
   ],
   "source": [
    "print(c)"
   ]
  },
  {
   "cell_type": "code",
   "execution_count": 21,
   "id": "a91a168c",
   "metadata": {},
   "outputs": [
    {
     "name": "stdout",
     "output_type": "stream",
     "text": [
      "[1, 2, 3, 4]\n",
      "<class 'list'>\n",
      "[1, 10.5, 'abc', False, [1, 2, 3, 4]]\n",
      "(1, 2, 3, 4)\n",
      "<class 'tuple'>\n",
      "{1, 2, 3, 4}\n",
      "[1, 2, 3, 4, 4, 5, 5, 5]\n",
      "{1, 2, 3, 4, 5}\n",
      "{'a': 1, 'b': 2, 'c': 3}\n",
      "<class 'dict'>\n"
     ]
    }
   ],
   "source": [
    "#list, tuple, set, dictionary\n",
    "list1 = [1, 2, 3, 4]\n",
    "print(list1)\n",
    "print(type(list1))\n",
    "\n",
    "list2 = [1, 10.5, 'abc', False, [1, 2, 3, 4]]\n",
    "print(list2)\n",
    "\n",
    "tuple1 = (1, 2, 3, 4)\n",
    "print(tuple1)\n",
    "print(type(tuple1))\n",
    "\n",
    "set1 = {1, 2, 3, 4}\n",
    "print(set1)\n",
    "\n",
    "list2 = [1, 2, 3, 4, 4, 5, 5, 5]\n",
    "set2 = {1, 2 ,3, 4, 4, 5, 5}\n",
    "print(list2)\n",
    "print(set2)\n",
    "\n",
    "d1 = {'a' : 1, 'b' : 2, 'c' : 3}\n",
    "print(d1)\n",
    "print(type(d1))"
   ]
  },
  {
   "cell_type": "code",
   "execution_count": 22,
   "id": "c328b5dd",
   "metadata": {},
   "outputs": [
    {
     "name": "stdout",
     "output_type": "stream",
     "text": [
      "greater than 3\n"
     ]
    }
   ],
   "source": [
    "a = 5\n",
    "if a > 10:\n",
    "    print('greater than 10')\n",
    "elif a > 3:\n",
    "    print('greater than 3')\n",
    "elif a == 5:\n",
    "    print('is five')\n",
    "else:\n",
    "    print('not greater than 10')"
   ]
  },
  {
   "cell_type": "code",
   "execution_count": 25,
   "id": "81a0b3e4",
   "metadata": {},
   "outputs": [
    {
     "name": "stdout",
     "output_type": "stream",
     "text": [
      "message\n",
      "message\n",
      "message\n",
      "message\n"
     ]
    }
   ],
   "source": [
    "for _ in range(4):\n",
    "    print('message')"
   ]
  },
  {
   "cell_type": "code",
   "execution_count": 30,
   "id": "581a789b",
   "metadata": {
    "scrolled": true
   },
   "outputs": [
    {
     "name": "stdout",
     "output_type": "stream",
     "text": [
      "range(0, 50, 3)\n",
      "<class 'range'>\n",
      "0\n",
      "3\n",
      "6\n",
      "9\n",
      "12\n",
      "15\n",
      "18\n",
      "21\n",
      "24\n",
      "27\n",
      "30\n",
      "33\n",
      "36\n",
      "39\n",
      "42\n",
      "45\n",
      "48\n"
     ]
    }
   ],
   "source": [
    "a = range(0, 50, 3) # start, stop, steo\n",
    "print(a)\n",
    "print(type(a))\n",
    "\n",
    "for i in a:\n",
    "    print(i)\n",
    "    \n",
    "# for(int i = 0; i < 50; i += 3)"
   ]
  },
  {
   "cell_type": "code",
   "execution_count": 34,
   "id": "818d3dd8",
   "metadata": {
    "scrolled": true
   },
   "outputs": [
    {
     "name": "stdout",
     "output_type": "stream",
     "text": [
      "100\n",
      "105\n",
      "110\n",
      "115\n",
      "120\n",
      "125\n",
      "130\n",
      "135\n",
      "140\n",
      "145\n",
      "150\n",
      "155\n",
      "160\n",
      "165\n",
      "170\n",
      "175\n",
      "180\n",
      "185\n",
      "190\n",
      "195\n",
      "200\n",
      "205\n",
      "210\n",
      "215\n",
      "220\n",
      "225\n",
      "230\n",
      "235\n",
      "240\n",
      "245\n",
      "250\n",
      "255\n",
      "260\n",
      "265\n",
      "270\n",
      "275\n",
      "280\n",
      "285\n",
      "290\n",
      "295\n",
      "300\n",
      "305\n",
      "310\n",
      "315\n",
      "320\n",
      "325\n",
      "330\n",
      "335\n",
      "340\n",
      "345\n",
      "350\n",
      "355\n",
      "360\n",
      "365\n",
      "370\n",
      "375\n",
      "380\n",
      "385\n",
      "390\n",
      "395\n",
      "400\n",
      "405\n",
      "410\n",
      "415\n",
      "420\n",
      "425\n",
      "430\n",
      "435\n",
      "440\n",
      "445\n",
      "450\n",
      "455\n",
      "460\n",
      "465\n",
      "470\n",
      "475\n",
      "480\n",
      "485\n",
      "490\n",
      "495\n",
      "100\n",
      "105\n",
      "110\n",
      "115\n",
      "120\n",
      "125\n",
      "130\n",
      "135\n",
      "140\n",
      "145\n",
      "150\n",
      "155\n",
      "160\n",
      "165\n",
      "170\n",
      "175\n",
      "180\n",
      "185\n",
      "190\n",
      "195\n",
      "200\n",
      "205\n",
      "210\n",
      "215\n",
      "220\n",
      "225\n",
      "230\n",
      "235\n",
      "240\n",
      "245\n",
      "250\n",
      "255\n",
      "260\n",
      "265\n",
      "270\n",
      "275\n",
      "280\n",
      "285\n",
      "290\n",
      "295\n",
      "300\n",
      "305\n",
      "310\n",
      "315\n",
      "320\n",
      "325\n",
      "330\n",
      "335\n",
      "340\n",
      "345\n",
      "350\n",
      "355\n",
      "360\n",
      "365\n",
      "370\n",
      "375\n",
      "380\n",
      "385\n",
      "390\n",
      "395\n",
      "400\n",
      "405\n",
      "410\n",
      "415\n",
      "420\n",
      "425\n",
      "430\n",
      "435\n",
      "440\n",
      "445\n",
      "450\n",
      "455\n",
      "460\n",
      "465\n",
      "470\n",
      "475\n",
      "480\n",
      "485\n",
      "490\n",
      "495\n"
     ]
    }
   ],
   "source": [
    "# 100에서 500미만 5의 배수 출력\n",
    "a = range(100, 500, 5)\n",
    "for i in a:\n",
    "    print(i)\n",
    "\n",
    "# 변수 설정하지 않고도 출력 가능\n",
    "for i in range(100, 500, 5):\n",
    "    print(i)"
   ]
  },
  {
   "cell_type": "code",
   "execution_count": 36,
   "id": "a53450e7",
   "metadata": {},
   "outputs": [
    {
     "name": "stdout",
     "output_type": "stream",
     "text": [
      "[100, 105, 110, 115, 120, 125, 130, 135, 140, 145, 150, 155, 160, 165, 170, 175, 180, 185, 190, 195, 200, 205, 210, 215, 220, 225, 230, 235, 240, 245, 250, 255, 260, 265, 270, 275, 280, 285, 290, 295, 300, 305, 310, 315, 320, 325, 330, 335, 340, 345, 350, 355, 360, 365, 370, 375, 380, 385, 390, 395, 400, 405, 410, 415, 420, 425, 430, 435, 440, 445, 450, 455, 460, 465, 470, 475, 480, 485, 490, 495]\n"
     ]
    }
   ],
   "source": [
    "list1 = []\n",
    "for i in range(100, 500, 5):\n",
    "    list1.append(i)\n",
    "    \n",
    "print(list1)"
   ]
  },
  {
   "cell_type": "code",
   "execution_count": 39,
   "id": "37d96331",
   "metadata": {},
   "outputs": [
    {
     "name": "stdout",
     "output_type": "stream",
     "text": [
      "[1000, 1050, 1100, 1150, 1200, 1250, 1300, 1350, 1400, 1450, 1500, 1550, 1600, 1650, 1700, 1750, 1800, 1850, 1900, 1950, 2000, 2050, 2100, 2150, 2200, 2250, 2300, 2350, 2400, 2450, 2500, 2550, 2600, 2650, 2700, 2750, 2800, 2850, 2900, 2950, 3000, 3050, 3100, 3150, 3200, 3250, 3300, 3350, 3400, 3450, 3500, 3550, 3600, 3650, 3700, 3750, 3800, 3850, 3900, 3950, 4000, 4050, 4100, 4150, 4200, 4250, 4300, 4350, 4400, 4450, 4500, 4550, 4600, 4650, 4700, 4750, 4800, 4850, 4900, 4950]\n"
     ]
    }
   ],
   "source": [
    "list2 = [x * 10 for x in range(100, 500, 5)]\n",
    "print(list2)"
   ]
  },
  {
   "cell_type": "code",
   "execution_count": 69,
   "id": "b8cc9d7e",
   "metadata": {},
   "outputs": [
    {
     "name": "stdout",
     "output_type": "stream",
     "text": [
      "[0, 3, 6, 9, 12, 15, 18, 21, 24, 27, 30, 33, 36, 39, 42, 45, 48, 51, 54, 57, 60, 63, 66, 69, 72, 75, 78, 81, 84, 87, 90, 93, 96, 99]\n",
      "[0, 5, 10, 15, 20, 25, 30, 35, 40, 45, 50, 55, 60, 65, 70, 75, 80, 85, 90, 95]\n",
      "[3, 6, 9, 12, 18, 21, 24, 27, 33, 36, 39, 42, 48, 51, 54, 57, 63, 66, 69, 72, 78, 81, 84, 87, 93, 96, 99]\n",
      "2318\n"
     ]
    }
   ],
   "source": [
    "# 10 아래(미만) 숫자 중 3 또는 5로 나누어지는 것은 3, 4, 6, 9이고, 합은 23이다. 100아래(미만) 숫자 중 3 또는 5로 나누어지는 숫자들의 합?\n",
    "\n",
    "list_3 = []\n",
    "list_5 = []\n",
    "\n",
    "for i in range(0, 100, 3):\n",
    "    list_3.append(i)\n",
    "    \n",
    "for i in range(0, 100, 5):\n",
    "    list_5.append(i)\n",
    "print(list_3)\n",
    "print(list_5)\n",
    "\n",
    "list_3_a = []\n",
    "for i in list_3:\n",
    "    if i % 5 > 0:\n",
    "        list_3_a.append(i)\n",
    "print(list_3_a)\n",
    "\n",
    "s = 0\n",
    "for i in list_3_a:\n",
    "    s = s + i\n",
    "    \n",
    "for i in list_5:\n",
    "    s = s + i\n",
    "print(s)"
   ]
  },
  {
   "cell_type": "code",
   "execution_count": 87,
   "id": "539cc692",
   "metadata": {},
   "outputs": [
    {
     "name": "stdout",
     "output_type": "stream",
     "text": [
      "3의 배수 리스트: [0, 3, 6, 9, 12, 15, 18, 21, 24, 27, 30, 33, 36, 39, 42, 45, 48, 51, 54, 57, 60, 63, 66, 69, 72, 75, 78, 81, 84, 87, 90, 93, 96, 99]\n",
      "5의 배수 리스트: [0, 5, 10, 15, 20, 25, 30, 35, 40, 45, 50, 55, 60, 65, 70, 75, 80, 85, 90, 95]\n",
      "3과 5의 배수 리스트 합치기: [0, 3, 6, 9, 12, 15, 18, 21, 24, 27, 30, 33, 36, 39, 42, 45, 48, 51, 54, 57, 60, 63, 66, 69, 72, 75, 78, 81, 84, 87, 90, 93, 96, 99, 0, 5, 10, 15, 20, 25, 30, 35, 40, 45, 50, 55, 60, 65, 70, 75, 80, 85, 90, 95]\n",
      "\n",
      "3과 5의 배수 리스트 합치기: [0, 3, 6, 9, 12, 15, 18, 21, 24, 27, 30, 33, 36, 39, 42, 45, 48, 51, 54, 57, 60, 63, 66, 69, 72, 75, 78, 81, 84, 87, 90, 93, 96, 99, 0, 5, 10, 15, 20, 25, 30, 35, 40, 45, 50, 55, 60, 65, 70, 75, 80, 85, 90, 95]\n",
      "set으로 출력 {0, 3, 5, 6, 9, 10, 12, 15, 18, 20, 21, 24, 25, 27, 30, 33, 35, 36, 39, 40, 42, 45, 48, 50, 51, 54, 55, 57, 60, 63, 65, 66, 69, 70, 72, 75, 78, 80, 81, 84, 85, 87, 90, 93, 95, 96, 99}\n",
      "2318\n",
      "2318\n"
     ]
    }
   ],
   "source": [
    "list_3 = [i for i in range(0, 100, 3)]\n",
    "list_5 = [i for i in range(0, 100, 5)]\n",
    "print('3의 배수 리스트:', list_3)\n",
    "print('5의 배수 리스트:', list_5)\n",
    "print('3과 5의 배수 리스트 합치기:', list_3 + list_5)\n",
    "print()\n",
    "\n",
    "list_all = []\n",
    "for i in list_3:\n",
    "    list_all.append(i)\n",
    "for i in list_5:\n",
    "    list_all.append(i)\n",
    "print('3과 5의 배수 리스트 합치기:', list_all)\n",
    "\n",
    "set1 = set(list_all)\n",
    "print('set으로 출력', set1)\n",
    "\n",
    "s = 0\n",
    "for i in set1:\n",
    "    s = s + i\n",
    "print(s)\n",
    "print(sum(set1))"
   ]
  },
  {
   "cell_type": "code",
   "execution_count": 81,
   "id": "a2f0b001",
   "metadata": {},
   "outputs": [
    {
     "name": "stdout",
     "output_type": "stream",
     "text": [
      "2318\n"
     ]
    }
   ],
   "source": [
    "list_a = []\n",
    "\n",
    "for i in range(0, 100):\n",
    "    if i % 3 == 0 or i % 5 == 0:\n",
    "        list_a.append(i)\n",
    "        \n",
    "print(sum(list_a))"
   ]
  },
  {
   "cell_type": "code",
   "execution_count": 84,
   "id": "b252678b",
   "metadata": {},
   "outputs": [
    {
     "name": "stdout",
     "output_type": "stream",
     "text": [
      "2318\n"
     ]
    }
   ],
   "source": [
    "list_a = [i for i in range(0, 100) if i % 3 == 0 or i % 5 == 0]\n",
    "print(sum(list_a))"
   ]
  }
 ],
 "metadata": {
  "kernelspec": {
   "display_name": "Python 3 (ipykernel)",
   "language": "python",
   "name": "python3"
  },
  "language_info": {
   "codemirror_mode": {
    "name": "ipython",
    "version": 3
   },
   "file_extension": ".py",
   "mimetype": "text/x-python",
   "name": "python",
   "nbconvert_exporter": "python",
   "pygments_lexer": "ipython3",
   "version": "3.10.9"
  }
 },
 "nbformat": 4,
 "nbformat_minor": 5
}
