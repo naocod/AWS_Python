{
 "cells": [
  {
   "cell_type": "code",
   "execution_count": 33,
   "metadata": {},
   "outputs": [
    {
     "name": "stdout",
     "output_type": "stream",
     "text": [
      "15.132745950421556\n",
      "x:  2 4\n",
      "y:  15 225\n",
      "15.132745950421556\n",
      "17.0\n"
     ]
    }
   ],
   "source": [
    "import numpy as np\n",
    "import math\n",
    "\n",
    "x1 = 3\n",
    "y1 = 10\n",
    "\n",
    "x2 = 5\n",
    "y2 = 25\n",
    "\n",
    "a = math.sqrt((x2 - x1) ** 2 + (y2 - y1) ** 2)\n",
    "print(a) # 15.132745950421556\n",
    "\n",
    "# def dist(p1, p2):   # python list version\n",
    "#     return math.sqrt((p2[0] - p1[0]) ** 2 + (p2[1] - p1[1]) ** 2)\n",
    "\n",
    "def dist(p1, p2):   # python list version\n",
    "    print('x: ', (p2[0] - p1[0]), (p2[0] - p1[0]) ** 2)\n",
    "    print('y: ', (p2[1] - p1[1]), (p2[1] - p1[1]) ** 2)\n",
    "    return math.sqrt((p2[0] - p1[0]) ** 2 + (p2[1] - p1[1]) ** 2)\n",
    "\n",
    "def dist_np(p1, p2):    # [3, 10]   [5, 25]\n",
    "    i = p2 - p1     # [2, 15]\n",
    "    i = sum(i * i)    # [4,225]\n",
    "    return math.sqrt(i)\n",
    "\n",
    "def dist_np2(p1, p2):    # [3, 10]   [5, 25]\n",
    "    return math.sqrt(sum((p2 - p1)) ** 2)\n",
    "\n",
    "b = dist([x1, y1], [x2, y2])\n",
    "print(b) # 15.132745950421556\n",
    "\n",
    "c = dist_np(np.array([x1, y1]), np.array([x2, y2]))\n",
    "print(c) # 15.132745950421556\n",
    "\n"
   ]
  },
  {
   "cell_type": "code",
   "execution_count": 30,
   "metadata": {},
   "outputs": [],
   "source": [
    "import numpy as np\n",
    "import math\n",
    "\n",
    "def my_split(s):\n",
    "    block_start = False\n",
    "    start_index = 0\n",
    "    ret_list=[]\n",
    "    for i, c in enumerate(s):\n",
    "        if block_start==False:\n",
    "            if c==',':\n",
    "                ret_list.append(s[start_index:i])\n",
    "                start_index=i+1\n",
    "            elif c=='\"':\n",
    "                block_start=True\n",
    "                start_index = i\n",
    "        else:\n",
    "            if c=='\"':\n",
    "                block_start=False\n",
    "    if s[-1]!=',':\n",
    "        ret_list.append(s[start_index:])\n",
    "    return ret_list\n",
    "\n",
    "def split_len(data_list):\n",
    "    len_list=[]\n",
    "    for e in data_list:\n",
    "        len_list.append(len(e))\n",
    "    print(set(len_list))\n",
    "    if len(set(len_list))>1:\n",
    "        for i in set(len_list):\n",
    "            print(i, len_list.count(i))\n",
    "\n",
    "def dist_np(p1, p2): #  [3,10]  [5,25]\n",
    "    return math.sqrt(sum((p2-p1)**2))"
   ]
  },
  {
   "cell_type": "code",
   "execution_count": 31,
   "metadata": {},
   "outputs": [
    {
     "name": "stdout",
     "output_type": "stream",
     "text": [
      "[['서면카센타', '3', '경상북도 울진군 금강송면 불영계곡로 1684', '', '36.93385095', '129.2462157', '2006-11-27', '650', '1', '', '', '', '09:00', '18:00', '054-781-0744', '경상북도 울진군', '054-789-6636', '2021-10-22', '1613000', '국토교통부\\n'], ['주식회사 이에스티', '1', '충청북도 진천군 이월면 이덕로 267', '', '36.9337494', '127.4605018', '2016-02-17', '8821.34', '1', '', '', '', '09:00', '18:00', '043-532-8228', '충청북도 진천군', '043-539-3073', '2021-10-22', '1613000', '국토교통부\\n']]\n"
     ]
    }
   ],
   "source": [
    "csv_data = []\n",
    "\n",
    "with open('전국자동차정비업체표준데이터.csv') as f:\n",
    "    for line in f:\n",
    "        csv_data.append(my_split(line))\n",
    "\n",
    "# csv_data = csv_data[:1000]\n",
    "print(csv_data[1:3])"
   ]
  },
  {
   "cell_type": "code",
   "execution_count": 27,
   "metadata": {},
   "outputs": [
    {
     "name": "stdout",
     "output_type": "stream",
     "text": [
      "0 자동차정비업체명\n",
      "1 자동차정비업체종류\n",
      "2 소재지도로명주소\n",
      "3 소재지지번주소\n",
      "4 위도\n",
      "5 경도\n",
      "6 사업등록일자\n",
      "7 면적\n",
      "8 영업상태\n",
      "9 폐업일자\n",
      "10 휴업시작일자\n",
      "11 휴업종료일자\n",
      "12 운영시작시각\n",
      "13 운영종료시각\n",
      "14 전화번호\n",
      "15 관리기관명\n",
      "16 관리기관전화번호\n",
      "17 데이터기준일자\n",
      "18 제공기관코드\n",
      "19 제공기관명\n",
      "\n"
     ]
    }
   ],
   "source": [
    "for i, e in enumerate(csv_data[0]):\n",
    "    print(i, e)\n",
    "\n",
    "# print(csv_data[0].index('위도'))\n",
    "# print(csv_data[0].index('경도'))"
   ]
  },
  {
   "cell_type": "code",
   "execution_count": 28,
   "metadata": {},
   "outputs": [
    {
     "name": "stdout",
     "output_type": "stream",
     "text": [
      "[[36.93385095, 129.2462157], [36.9337494, 127.4605018], [36.93372085, 127.8917746]]\n"
     ]
    }
   ],
   "source": [
    "loc_list = []\n",
    "for e in csv_data[1:]:\n",
    "    loc_list.append(e[4:6])\n",
    "# print(loc_list[:3])\n",
    "\n",
    "for e in loc_list:\n",
    "    for i, v in enumerate(e):\n",
    "        try:\n",
    "            e[i] = float(v)\n",
    "        except:\n",
    "            e[i] = 0.0\n",
    "print(loc_list[:3])\n",
    "\n",
    "# loc_array = np.array(loc_list, dtype=np.float64)\n",
    "# print(loc_array[:3])"
   ]
  },
  {
   "cell_type": "code",
   "execution_count": 34,
   "metadata": {},
   "outputs": [
    {
     "name": "stdout",
     "output_type": "stream",
     "text": [
      "[1.7905025454917363, 2.393287976605315, 2.129419351921983]\n"
     ]
    }
   ],
   "source": [
    "target_p = np.array([35.1531, 129.0596])\n",
    "dist_list = []\n",
    "for i, p2 in enumerate(loc_list):\n",
    "    try:\n",
    "        dist_list.append(dist_np(target_p, np.array(p2)))\n",
    "    except:\n",
    "        print(p2)\n",
    "        dist_list.append([i, 100.0])\n",
    "# p2 = np.array(loc_list[0])\n",
    "# dist_np(target_p, p2)\n",
    "print(dist_list[:3])"
   ]
  }
 ],
 "metadata": {
  "kernelspec": {
   "display_name": "Python 3",
   "language": "python",
   "name": "python3"
  },
  "language_info": {
   "codemirror_mode": {
    "name": "ipython",
    "version": 3
   },
   "file_extension": ".py",
   "mimetype": "text/x-python",
   "name": "python",
   "nbconvert_exporter": "python",
   "pygments_lexer": "ipython3",
   "version": "3.10.9"
  },
  "orig_nbformat": 4,
  "vscode": {
   "interpreter": {
    "hash": "252d00ae1abf913d993c897358600e69c29a1bffb17fa3d647027b051c354ad6"
   }
  }
 },
 "nbformat": 4,
 "nbformat_minor": 2
}
