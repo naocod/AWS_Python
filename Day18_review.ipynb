{
 "cells": [
  {
   "cell_type": "code",
   "execution_count": 1,
   "metadata": {},
   "outputs": [
    {
     "name": "stdout",
     "output_type": "stream",
     "text": [
      "[]\n",
      "['a']\n"
     ]
    }
   ],
   "source": [
    "# python list\n",
    "\n",
    "lista = []\n",
    "print(lista)\n",
    "\n",
    "lista.append('a')\n",
    "print(lista)"
   ]
  },
  {
   "cell_type": "code",
   "execution_count": 6,
   "metadata": {},
   "outputs": [],
   "source": [
    "# numpy ndarray\n",
    "import numpy as np\n",
    "\n",
    "# array1 = np.array(lista)\n",
    "# array2 = np.array([1, 2, 3, 4])\n",
    "# arra4 = np.array([x for x in range])"
   ]
  },
  {
   "cell_type": "code",
   "execution_count": 9,
   "metadata": {},
   "outputs": [
    {
     "name": "stdout",
     "output_type": "stream",
     "text": [
      "[6, 34, 11, 98, 52, 34, 13, 4, 48, 68]\n",
      "[71, 42, 43, 6, 20, 17, 43, 71, 42, 89]\n",
      "[98 52 68]\n",
      "3\n"
     ]
    }
   ],
   "source": [
    "import  random\n",
    "\n",
    "random.seed(123)\n",
    "\n",
    "listb = []\n",
    "for i in range(10):\n",
    "    listb.append(random.randint(0, 100))\n",
    "print(listb)\n",
    "\n",
    "listc = [random.randint(0, 100) for  _ in range(10)]\n",
    "print(listc)\n",
    "\n",
    "# listb에서 50보다 큰 것.\n",
    "listb_np = np.array(listb)\n",
    "print(listb_np[listb_np > 50])\n",
    "print(len(listb_np[listb_np > 50]))"
   ]
  }
 ],
 "metadata": {
  "kernelspec": {
   "display_name": "Python 3",
   "language": "python",
   "name": "python3"
  },
  "language_info": {
   "codemirror_mode": {
    "name": "ipython",
    "version": 3
   },
   "file_extension": ".py",
   "mimetype": "text/x-python",
   "name": "python",
   "nbconvert_exporter": "python",
   "pygments_lexer": "ipython3",
   "version": "3.10.9"
  },
  "orig_nbformat": 4,
  "vscode": {
   "interpreter": {
    "hash": "252d00ae1abf913d993c897358600e69c29a1bffb17fa3d647027b051c354ad6"
   }
  }
 },
 "nbformat": 4,
 "nbformat_minor": 2
}
