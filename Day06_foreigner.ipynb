{
 "cells": [
  {
   "cell_type": "markdown",
   "id": "a291f9fe",
   "metadata": {},
   "source": [
    "* 2022년 11월 기준, 국적별 랭킹 및 %\n",
    "* 2020년 10월~2022년 11월 기간중 월별 외국인 국적별 현황\n",
    "        --> 2020_10-2022_11.pickle\n",
    "* 2년간 국적별 평균값기준, 국적별 랭킹 및 %"
   ]
  },
  {
   "cell_type": "code",
   "execution_count": 18,
   "id": "fca4b670",
   "metadata": {},
   "outputs": [],
   "source": [
    "import pickle\n",
    "csv_data = []\n",
    "line_no = 0\n",
    "with open('국적별_외국인_현황_20230207151122.csv') as f:\n",
    "    for line in f:\n",
    "        line_no = line_no + 1\n",
    "        if line_no == 2:\n",
    "            continue\n",
    "        t = line[:-1].split(',')\n",
    "        del t[1]\n",
    "        csv_data.append(t)\n",
    "        \n",
    "for e in csv_data:\n",
    "    e[0] = e[0].strip('\"')\n",
    "    \n",
    "for e in csv_data[1:]:\n",
    "    for i, value in enumerate(e[1:]):\n",
    "        e[i +1] = int(value)\n",
    "        \n",
    "#print(csv_data)\n",
    "\n",
    "with open('2020_10-2022_11.pickle', 'wb') as f:\n",
    "    pickle.dump(csv_data, f)                    "
   ]
  },
  {
   "cell_type": "code",
   "execution_count": 35,
   "id": "793a2882",
   "metadata": {},
   "outputs": [
    {
     "name": "stdout",
     "output_type": "stream",
     "text": [
      "[11232, 6897, 4364, 2961, 3047, 1750, 2006, 1356, 1589, 1430, 1149, 1127, 1041, 995, 895, 626, 615, 628, 581] 19\n",
      "['베트남', '중국', '한국계 중국인', '미국', '인도네시아', '필리핀', '우즈베키스탄', '타이완', '일본', '미얀마', '한국계 러시아인', '캄보디아', '러시아(연방)', '네팔', '캐나다', '스리랑카', '파키스탄', '타이', '몽골'] 19\n",
      "[25.36069904490957, 15.572715572715573, 9.853462485041433, 6.685633001422475, 6.879812142970038, 3.951319740793425, 4.529341371446635, 3.0617083248662196, 3.58779832464043, 3.228792702476913, 2.594323646955226, 2.5446499130709657, 2.350470771523403, 2.2466075097654046, 2.0208178102914944, 1.4134435187066765, 1.3886066517645466, 1.4179593126961547, 1.3118381539434172]\n",
      "{'베트남': 11232, '중국': 6897, '한국계 중국인': 4364, '인도네시아': 3047, '미국': 2961, '우즈베키스탄': 2006, '필리핀': 1750, '일본': 1589, '미얀마': 1430, '타이완': 1356, '한국계 러시아인': 1149, '캄보디아': 1127, '러시아(연방)': 1041, '네팔': 995, '캐나다': 895, '타이': 628, '스리랑카': 626, '파키스탄': 615, '몽골': 581}\n",
      "{'베트남': 25.36069904490957, '중국': 15.572715572715573, '한국계 중국인': 9.853462485041433, '인도네시아': 6.879812142970038, '미국': 6.685633001422475, '우즈베키스탄': 4.529341371446635, '필리핀': 3.951319740793425, '일본': 3.58779832464043, '미얀마': 3.228792702476913, '타이완': 3.0617083248662196, '한국계 러시아인': 2.594323646955226, '캄보디아': 2.5446499130709657, '러시아(연방)': 2.350470771523403, '네팔': 2.2466075097654046, '캐나다': 2.0208178102914944, '타이': 1.4179593126961547, '스리랑카': 1.4134435187066765, '파키스탄': 1.3886066517645466, '몽골': 1.3118381539434172}\n"
     ]
    }
   ],
   "source": [
    "#print(csv_data[:10])\n",
    "\n",
    "def get_numbers(data_list, year, month):\n",
    "    for e in data_list:\n",
    "        if '{}.{}'.format(year, month) in e:\n",
    "            return e\n",
    "    return None\n",
    "\n",
    "count_list = get_numbers(csv_data, 2022, 11)\n",
    "count_list = count_list[1:]\n",
    "country_list = csv_data[0][1:]\n",
    "print(count_list, len(count_list))\n",
    "print(country_list, len(country_list))\n",
    "\n",
    "percent_list = []\n",
    "for n in count_list:\n",
    "    percent_list.append(n * 100 / sum(count_list))\n",
    "print(percent_list)\n",
    "\n",
    "count_dict = dict(sorted(zip(country_list, count_list), key = lambda x : x[1], reverse = True))\n",
    "percent_list = dict(sorted(zip(country_list, percent_list), key = lambda x : x[1], reverse = True))\n",
    "\n",
    "print(count_dict)\n",
    "print(percent_list)"
   ]
  },
  {
   "cell_type": "code",
   "execution_count": 49,
   "id": "3a844950",
   "metadata": {},
   "outputs": [
    {
     "name": "stdout",
     "output_type": "stream",
     "text": [
      "[286729, 180829, 120323, 71395, 68029, 43388, 43050, 35875, 37199, 32396, 27852, 27798, 25823, 24184, 21500, 15042, 15175, 15540, 13328]\n",
      "[11028.038461538461, 6954.961538461538, 4627.807692307692, 2745.9615384615386, 2616.5, 1668.7692307692307, 1655.7692307692307, 1379.8076923076924, 1430.7307692307693, 1246.0, 1071.2307692307693, 1069.1538461538462, 993.1923076923077, 930.1538461538462, 826.9230769230769, 578.5384615384615, 583.6538461538462, 597.6923076923077, 512.6153846153846]\n",
      "{'베트남': 11232, '중국': 6897, '한국계 중국인': 4364, '인도네시아': 3047, '미국': 2961, '우즈베키스탄': 2006, '필리핀': 1750, '일본': 1589, '미얀마': 1430, '타이완': 1356, '한국계 러시아인': 1149, '캄보디아': 1127, '러시아(연방)': 1041, '네팔': 995, '캐나다': 895, '타이': 628, '스리랑카': 626, '파키스탄': 615, '몽골': 581}\n"
     ]
    }
   ],
   "source": [
    "#print(csv_data)\n",
    "total_count = [0] * len(country_list)\n",
    "for e in csv_data[1:]:\n",
    "    for i, n in enumerate(e[1:]):\n",
    "        total_count[i] = total_count[i] + n\n",
    "print(total_count)\n",
    "for i, total in enumerate(total_count):\n",
    "    total_count[i] = total_count[i] / len(csv_data[1:])\n",
    "print(total_count)\n",
    "\n",
    "count_dict = dict(sorted(zip(country_list, count_list), key = lambda x : x[1], reverse = True))\n",
    "#percent_list = dict(sorted(zip(country_list, percent_list), key = lambda x : x[1], reverse = True))\n",
    "\n",
    "print(count_dict)\n",
    "#print(percent_list)"
   ]
  },
  {
   "cell_type": "code",
   "execution_count": 50,
   "id": "6a0e1958",
   "metadata": {},
   "outputs": [
    {
     "name": "stdout",
     "output_type": "stream",
     "text": [
      "mystring\n"
     ]
    }
   ],
   "source": [
    "s = 'mystring\\n'\n",
    "print(s[:-1])"
   ]
  }
 ],
 "metadata": {
  "kernelspec": {
   "display_name": "Python 3 (ipykernel)",
   "language": "python",
   "name": "python3"
  },
  "language_info": {
   "codemirror_mode": {
    "name": "ipython",
    "version": 3
   },
   "file_extension": ".py",
   "mimetype": "text/x-python",
   "name": "python",
   "nbconvert_exporter": "python",
   "pygments_lexer": "ipython3",
   "version": "3.10.9"
  }
 },
 "nbformat": 4,
 "nbformat_minor": 5
}
