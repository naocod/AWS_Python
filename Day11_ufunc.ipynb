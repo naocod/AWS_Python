{
 "cells": [
  {
   "cell_type": "code",
   "execution_count": 6,
   "metadata": {},
   "outputs": [
    {
     "name": "stdout",
     "output_type": "stream",
     "text": [
      "[[ 0  1  2  3  4  5]\n",
      " [ 6  7  8  9 10 11]\n",
      " [12 13 14 15 16 17]\n",
      " [18 19 20 21 22 23]\n",
      " [24 25 26 27 28 29]]\n",
      "np.sum:  [ 15  51  87 123 159]\n",
      "[ 6 24 42 60 78]\n"
     ]
    }
   ],
   "source": [
    "import numpy as np\n",
    "\n",
    "a1 = np.arange(30).reshape(5, 6)\n",
    "print(a1)\n",
    "print('np.sum: ', np.sum(a1, axis=1))\n",
    "print(np.add.reduce(a1, axis=1, where = a1 % 2 == 0)) # axis의 기본 값은 0"
   ]
  }
 ],
 "metadata": {
  "kernelspec": {
   "display_name": "Python 3",
   "language": "python",
   "name": "python3"
  },
  "language_info": {
   "codemirror_mode": {
    "name": "ipython",
    "version": 3
   },
   "file_extension": ".py",
   "mimetype": "text/x-python",
   "name": "python",
   "nbconvert_exporter": "python",
   "pygments_lexer": "ipython3",
   "version": "3.10.9"
  },
  "orig_nbformat": 4,
  "vscode": {
   "interpreter": {
    "hash": "252d00ae1abf913d993c897358600e69c29a1bffb17fa3d647027b051c354ad6"
   }
  }
 },
 "nbformat": 4,
 "nbformat_minor": 2
}
