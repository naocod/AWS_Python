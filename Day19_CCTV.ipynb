{
 "cells": [
  {
   "attachments": {},
   "cell_type": "markdown",
   "metadata": {},
   "source": [
    "### 전국어린이보호구역표준데이터\n",
    "- 시설종류별 CCTV 설치 여부 카운트 / 대수\n",
    "- 광역시도별, 시설종류별 카운트\n",
    "- 관할경찰서별 CCTV 평균 설치대수\n",
    "- CCTV 평균 설치대수\n",
    "- 도로폭 / CCTV 설치대수 상관도"
   ]
  },
  {
   "cell_type": "code",
   "execution_count": 2,
   "metadata": {},
   "outputs": [],
   "source": [
    "import numpy as np\n",
    "import pandas as pd\n",
    "import matplotlib.pyplot as plt\n",
    "\n",
    "import sklearn \n",
    "# pip install scikit-learn\n",
    "from sklearn import datasets\n",
    "\n",
    "# x = datasets.load_diabetes()\n",
    "# print(x['DESCR'])\n",
    "\n",
    "pd_rawdata = pd.read_csv('전국어린이보호구역표준데이터.csv', encoding='cp949')\n",
    "\n",
    "#print(pd_rawdata.columns)\n",
    "\n",
    "column_selection = ['시설종류', '관할경찰서명', 'CCTV설치여부','CCTV설치대수','제공기관명', '보호구역도로폭']\n",
    "pd_data = pd_rawdata[column_selection]\n",
    "del pd_rawdata\n",
    "#print(pd_rawdata[:3])"
   ]
  },
  {
   "cell_type": "code",
   "execution_count": 3,
   "metadata": {},
   "outputs": [
    {
     "name": "stdout",
     "output_type": "stream",
     "text": [
      "Index(['시설종류', '관할경찰서명', 'CCTV설치여부', 'CCTV설치대수', '제공기관명', '보호구역도로폭'], dtype='object')\n",
      "시설종류         object\n",
      "관할경찰서명       object\n",
      "CCTV설치여부     object\n",
      "CCTV설치대수    float64\n",
      "제공기관명        object\n",
      "보호구역도로폭      object\n",
      "dtype: object\n",
      "6          1600\n",
      "8          1334\n",
      "7           855\n",
      "10          558\n",
      "12          543\n",
      "           ... \n",
      "30~35         1\n",
      "12~50         1\n",
      "5.0~5.5       1\n",
      "6~45          1\n",
      "18~23         1\n",
      "Name: 보호구역도로폭, Length: 528, dtype: int64\n",
      "False    10684\n",
      "True      4372\n",
      "Name: 보호구역도로폭, dtype: int64\n"
     ]
    }
   ],
   "source": [
    "# EDA : Exploratory Data Analtsis\n",
    "\n",
    "print(pd_data.columns)\n",
    "print(pd_data.dtypes)\n",
    "\n",
    "print(pd_data['보호구역도로폭'].value_counts())\n",
    "print(pd_data['보호구역도로폭'].isna().value_counts())\n",
    "\n",
    "pd_data['시설종류'] = pd_data['시설종류'].astype('category')\n",
    "pd_data['CCTV설치여부'] = pd_data['CCTV설치여부'].astype('category')\n",
    "#print(pd_data.dtypes)"
   ]
  },
  {
   "cell_type": "code",
   "execution_count": 4,
   "metadata": {},
   "outputs": [
    {
     "name": "stdout",
     "output_type": "stream",
     "text": [
      "시설종류 False\n",
      "관할경찰서명 False\n",
      "CCTV설치여부 False\n",
      "CCTV설치대수 True\n",
      "False    11682\n",
      "True      3374\n",
      "Name: CCTV설치대수, dtype: int64\n",
      "제공기관명 False\n",
      "보호구역도로폭 True\n",
      "False    10684\n",
      "True      4372\n",
      "Name: 보호구역도로폭, dtype: int64\n"
     ]
    }
   ],
   "source": [
    "# 결측치 확인\n",
    "\n",
    "# print(pd_data.shape)\n",
    "# print(pd_data.describe(include='all'))\n",
    "\n",
    "for e in pd_data:\n",
    "    print(e, pd_data[e].hasnans)\n",
    "    if pd_data[e].hasnans==True:\n",
    "        print(pd_data[e].isna().value_counts())"
   ]
  },
  {
   "cell_type": "code",
   "execution_count": 5,
   "metadata": {},
   "outputs": [
    {
     "name": "stdout",
     "output_type": "stream",
     "text": [
      "False    11682\n",
      "True      3374\n",
      "Name: CCTV설치대수, dtype: int64\n",
      "False    15056\n",
      "Name: CCTV설치대수, dtype: int64\n"
     ]
    }
   ],
   "source": [
    "# CCTV 설치대수: 결측치 처리\n",
    "# CCTV 설치여부 Y --> 1\n",
    "# CCTV 설치여부 N --> 0\n",
    "print(pd_data['CCTV설치대수'].isna().value_counts())\n",
    "\n",
    "filter_y = pd_data['CCTV설치여부'] == 'Y'\n",
    "filter_n = pd_data['CCTV설치여부'] == 'N'\n",
    "\n",
    "pd_data.loc[filter_y, 'CCTV설치대수'] = pd_data.loc[filter_y,  'CCTV설치대수'].replace(np.NaN, 1)\n",
    "pd_data.loc[filter_n, 'CCTV설치대수'] = pd_data.loc[filter_n,  'CCTV설치대수'].replace(np.NaN, 0)\n",
    "\n",
    "# pd_data.replace({'CCTV설치여부':'Y', 'CCTV설치대수':np.NaN}, 1, inplace=True)\n",
    "# pd_data.replace({'CCTV설치여부':'N', 'CCTV설치대수':np.NaN}, 0, inplace=True)\n",
    "\n",
    "print(pd_data['CCTV설치대수'].isna().value_counts())"
   ]
  },
  {
   "cell_type": "code",
   "execution_count": 6,
   "metadata": {},
   "outputs": [
    {
     "name": "stdout",
     "output_type": "stream",
     "text": [
      "False    10684\n",
      "True      4372\n",
      "Name: 보호구역도로폭, dtype: int64\n",
      "False    15056\n",
      "Name: 보호구역도로폭, dtype: int64\n"
     ]
    }
   ],
   "source": [
    "def myfn1(x):\n",
    "    if type(x) == type(' '):\n",
    "        if '~' in x:\n",
    "            m = np.array(x.split('~')).astype(np.float64).mean()\n",
    "            return str(m)\n",
    "\n",
    "        \n",
    "# 도로폭: 오류치 처리\n",
    "# '숫자a ~ 숫자b' 형태의 문자열 --> '숫자 a'와 '숫자b'의 평균치(np.float64) 값으로 대체\n",
    "# print(pd_data['보호구역도로폭'].value_counts())\n",
    "y = pd_data['보호구역도로폭'].apply(myfn1)\n",
    "#print(y.dtype)\n",
    "#print(y.value_counts())\n",
    "\n",
    "\n",
    "# 도로폭: 결측치 처리\n",
    "# 전체 도로폭 평균치로 대체\n",
    "print(pd_data['보호구역도로폭'].isna().value_counts())\n",
    "y = y.astype(np.float64)\n",
    "y = y.replace(np.NaN, y.mean())\n",
    "print(y.isna().value_counts())\n",
    "pd_data['보호구역도로폭'] = y"
   ]
  },
  {
   "cell_type": "code",
   "execution_count": 7,
   "metadata": {},
   "outputs": [
    {
     "name": "stdout",
     "output_type": "stream",
     "text": [
      "시설종류 False\n",
      "관할경찰서명 False\n",
      "CCTV설치여부 False\n",
      "CCTV설치대수 False\n",
      "제공기관명 False\n",
      "보호구역도로폭 False\n"
     ]
    }
   ],
   "source": [
    "for e in pd_data:\n",
    "    print(e, pd_data[e].hasnans)\n",
    "    if pd_data[e].hasnans == True:\n",
    "        print(pd_data[e].isna().value_counts())"
   ]
  },
  {
   "attachments": {},
   "cell_type": "markdown",
   "metadata": {},
   "source": [
    "### 시설종류\n",
    "* dtype: category\n",
    "* value: \n",
    "* 결측치 없음\n",
    "\n",
    "\n",
    "### 관할경찰서명\n",
    "* dtype: object\n",
    "* 결측치 없음\n",
    "\n",
    "### CCTV 설치여부\n",
    "* dtype: category\n",
    "* value: 'Y', 'N'\n",
    "* 결측치 없음\n",
    "\n",
    "### CCTV 설치대수\n",
    "* dtype: np.int64\n",
    "* min / max: 0 / _\n",
    "* 결측치 (개) -> 처리 후 결측치 없음\n",
    "    CCTV 설치여부 'Y' --> 1\n",
    "    CCTV 설치여부 'N' --> 0\n",
    "\n",
    "### 보호구역도로폭\n",
    "* dtype: np.float64\n",
    "* min / max: \n",
    "* 오류치 ( 개) -> 처리 후 결측치 없음\n",
    "\n",
    "    '숫자a ~ 숫자b' 형태의 문자열 --> '숫자 a'와 '숫자b'의 평균치(np.float64) 값으로 대체\n",
    "\n",
    "* 결측치 ( 개) -> 처리 후 결측치 없음\n",
    "\n",
    "    전체 평균값으로 대체"
   ]
  },
  {
   "cell_type": "code",
   "execution_count": 8,
   "metadata": {},
   "outputs": [],
   "source": [
    "# print(pd_data)\n",
    "# print(pd_data['보호구역도로폭'].value_counts())\n",
    "g1 = pd_data.groupby('시설종류')\n",
    "# print(g1)\n",
    "# g1.count()\n",
    "# g1['CCTV설치대수'].sum()"
   ]
  },
  {
   "cell_type": "code",
   "execution_count": 9,
   "metadata": {},
   "outputs": [
    {
     "data": {
      "text/html": [
       "<div>\n",
       "<style scoped>\n",
       "    .dataframe tbody tr th:only-of-type {\n",
       "        vertical-align: middle;\n",
       "    }\n",
       "\n",
       "    .dataframe tbody tr th {\n",
       "        vertical-align: top;\n",
       "    }\n",
       "\n",
       "    .dataframe thead th {\n",
       "        text-align: right;\n",
       "    }\n",
       "</style>\n",
       "<table border=\"1\" class=\"dataframe\">\n",
       "  <thead>\n",
       "    <tr style=\"text-align: right;\">\n",
       "      <th></th>\n",
       "      <th></th>\n",
       "      <th>관할경찰서명</th>\n",
       "      <th>CCTV설치여부</th>\n",
       "      <th>CCTV설치대수</th>\n",
       "      <th>보호구역도로폭</th>\n",
       "    </tr>\n",
       "    <tr>\n",
       "      <th>제공기관명</th>\n",
       "      <th>시설종류</th>\n",
       "      <th></th>\n",
       "      <th></th>\n",
       "      <th></th>\n",
       "      <th></th>\n",
       "    </tr>\n",
       "  </thead>\n",
       "  <tbody>\n",
       "    <tr>\n",
       "      <th rowspan=\"5\" valign=\"top\">강원도 강릉시</th>\n",
       "      <th>국제학교</th>\n",
       "      <td>0</td>\n",
       "      <td>0</td>\n",
       "      <td>0</td>\n",
       "      <td>0</td>\n",
       "    </tr>\n",
       "    <tr>\n",
       "      <th>대안학교</th>\n",
       "      <td>0</td>\n",
       "      <td>0</td>\n",
       "      <td>0</td>\n",
       "      <td>0</td>\n",
       "    </tr>\n",
       "    <tr>\n",
       "      <th>어린이집</th>\n",
       "      <td>6</td>\n",
       "      <td>6</td>\n",
       "      <td>6</td>\n",
       "      <td>6</td>\n",
       "    </tr>\n",
       "    <tr>\n",
       "      <th>외국인교육기관</th>\n",
       "      <td>0</td>\n",
       "      <td>0</td>\n",
       "      <td>0</td>\n",
       "      <td>0</td>\n",
       "    </tr>\n",
       "    <tr>\n",
       "      <th>외국인학교</th>\n",
       "      <td>0</td>\n",
       "      <td>0</td>\n",
       "      <td>0</td>\n",
       "      <td>0</td>\n",
       "    </tr>\n",
       "    <tr>\n",
       "      <th>...</th>\n",
       "      <th>...</th>\n",
       "      <td>...</td>\n",
       "      <td>...</td>\n",
       "      <td>...</td>\n",
       "      <td>...</td>\n",
       "    </tr>\n",
       "    <tr>\n",
       "      <th rowspan=\"5\" valign=\"top\">충청북도 충주시</th>\n",
       "      <th>유치원</th>\n",
       "      <td>44</td>\n",
       "      <td>44</td>\n",
       "      <td>44</td>\n",
       "      <td>44</td>\n",
       "    </tr>\n",
       "    <tr>\n",
       "      <th>초등학교</th>\n",
       "      <td>38</td>\n",
       "      <td>38</td>\n",
       "      <td>38</td>\n",
       "      <td>38</td>\n",
       "    </tr>\n",
       "    <tr>\n",
       "      <th>초등학교+어린이집</th>\n",
       "      <td>0</td>\n",
       "      <td>0</td>\n",
       "      <td>0</td>\n",
       "      <td>0</td>\n",
       "    </tr>\n",
       "    <tr>\n",
       "      <th>특수학교</th>\n",
       "      <td>3</td>\n",
       "      <td>3</td>\n",
       "      <td>3</td>\n",
       "      <td>3</td>\n",
       "    </tr>\n",
       "    <tr>\n",
       "      <th>학원</th>\n",
       "      <td>0</td>\n",
       "      <td>0</td>\n",
       "      <td>0</td>\n",
       "      <td>0</td>\n",
       "    </tr>\n",
       "  </tbody>\n",
       "</table>\n",
       "<p>2250 rows × 4 columns</p>\n",
       "</div>"
      ],
      "text/plain": [
       "                    관할경찰서명  CCTV설치여부  CCTV설치대수  보호구역도로폭\n",
       "제공기관명    시설종류                                          \n",
       "강원도 강릉시  국제학교            0         0         0        0\n",
       "         대안학교            0         0         0        0\n",
       "         어린이집            6         6         6        6\n",
       "         외국인교육기관         0         0         0        0\n",
       "         외국인학교           0         0         0        0\n",
       "...                    ...       ...       ...      ...\n",
       "충청북도 충주시 유치원            44        44        44       44\n",
       "         초등학교           38        38        38       38\n",
       "         초등학교+어린이집       0         0         0        0\n",
       "         특수학교            3         3         3        3\n",
       "         학원              0         0         0        0\n",
       "\n",
       "[2250 rows x 4 columns]"
      ]
     },
     "execution_count": 9,
     "metadata": {},
     "output_type": "execute_result"
    }
   ],
   "source": [
    "g2 = pd_data.groupby(['제공기관명', '시설종류'])\n",
    "g2.count()"
   ]
  },
  {
   "cell_type": "code",
   "execution_count": 10,
   "metadata": {},
   "outputs": [
    {
     "data": {
      "text/plain": [
       "2.118026036131775"
      ]
     },
     "execution_count": 10,
     "metadata": {},
     "output_type": "execute_result"
    }
   ],
   "source": [
    "pd_data['CCTV설치대수'].mean()"
   ]
  },
  {
   "cell_type": "code",
   "execution_count": 11,
   "metadata": {},
   "outputs": [
    {
     "data": {
      "text/plain": [
       "<matplotlib.collections.PathCollection at 0x1ff4197c3a0>"
      ]
     },
     "execution_count": 11,
     "metadata": {},
     "output_type": "execute_result"
    },
    {
     "data": {
      "image/png": "[encoded data removed]",
      "text/plain": [
       "<Figure size 640x480 with 1 Axes>"
      ]
     },
     "metadata": {},
     "output_type": "display_data"
    }
   ],
   "source": [
    "x = pd_data['보호구역도로폭']\n",
    "y = pd_data['CCTV설치대수']\n",
    "np.corrcoef(x, y)\n",
    "_, axe = plt.subplots()\n",
    "axe.scatter(x, y)"
   ]
  },
  {
   "cell_type": "code",
   "execution_count": 13,
   "metadata": {},
   "outputs": [
    {
     "name": "stdout",
     "output_type": "stream",
     "text": [
      "   a  b\n",
      "0  1  5\n",
      "1  1  6\n",
      "2  2  5\n",
      "3  2  6\n",
      "******\n",
      "0    5\n",
      "1    6\n",
      "Name: b, dtype: int64\n",
      "******\n",
      "   a    b\n",
      "0  1  100\n",
      "1  1  100\n",
      "2  2    5\n",
      "3  2    6\n"
     ]
    }
   ],
   "source": [
    "# 조건 1개 : column a의 값이 1\n",
    "# 교체대상 column b의 값\n",
    "df_t  = pd.DataFrame({'a':[1,1,2,2], 'b': [5,6,5,6]})\n",
    "print(df_t)\n",
    "\n",
    "f1 = df_t['a'] ==1  #column a의 값이 1인것만 필터\n",
    "print('******')\n",
    "#b의 값을 변경\n",
    "print(df_t.loc[f1, 'b']) # colunm b 중에, column a의 값이 1인것만\n",
    "\n",
    "df_t.loc[f1, 'b'] = 100 # colunm b 중에, column a의 값이 1인것은 값 100으로 교체\n",
    "print('******')\n",
    "print(df_t)"
   ]
  },
  {
   "cell_type": "code",
   "execution_count": 16,
   "metadata": {},
   "outputs": [
    {
     "name": "stdout",
     "output_type": "stream",
     "text": [
      "   a  b\n",
      "0  1  5\n",
      "1  1  6\n",
      "2  2  5\n",
      "3  2  6\n",
      "******\n",
      "0    5\n",
      "1    6\n",
      "Name: b, dtype: int64\n",
      "******\n",
      "   a    b\n",
      "0  1    5\n",
      "1  1  100\n",
      "2  2    5\n",
      "3  2    6\n"
     ]
    }
   ],
   "source": [
    "# 조건 2개 : column a의 값이 1, column b의 값이 6\n",
    "# 교체대상 column b의 값\n",
    "df_t  = pd.DataFrame({'a':[1,1,2,2], 'b': [5,6,5,6]})\n",
    "print(df_t)\n",
    "\n",
    "f1 = df_t['a'] ==1 \n",
    "print('******')\n",
    "#b의 값을 변경\n",
    "print(df_t.loc[f1, 'b']) \n",
    "\n",
    "df_t.loc[f1, 'b'] = df_t.loc[f1, 'b'].replace(6, 100) # inplace 효과 없음\n",
    "print('******')\n",
    "print(df_t)"
   ]
  }
 ],
 "metadata": {
  "kernelspec": {
   "display_name": "Python 3",
   "language": "python",
   "name": "python3"
  },
  "language_info": {
   "codemirror_mode": {
    "name": "ipython",
    "version": 3
   },
   "file_extension": ".py",
   "mimetype": "text/x-python",
   "name": "python",
   "nbconvert_exporter": "python",
   "pygments_lexer": "ipython3",
   "version": "3.10.9"
  },
  "orig_nbformat": 4,
  "vscode": {
   "interpreter": {
    "hash": "252d00ae1abf913d993c897358600e69c29a1bffb17fa3d647027b051c354ad6"
   }
  }
 },
 "nbformat": 4,
 "nbformat_minor": 2
}
