{
 "cells": [
  {
   "attachments": {},
   "cell_type": "markdown",
   "metadata": {},
   "source": [
    "1 ~ 3 개별 파일에서 전처리 후, pickle 또는 csv저장\n",
    "\n",
    "1. 전국일방통행도료표준데이터\n",
    "\n",
    "        * 시도명, 지정사유, 지정연도, 도로폭, 도로차로수, 보차분리여부\n",
    "\n",
    "2. 전국어린이보호구여표준에이터: 시도명 자업필요 (제공기관명에서 split)\n",
    "\n",
    "        * 시설종류, 관할경찰서명, CCTV설치여부, CCTV설치대수, 제공기과명, 보호구역도로폭\n",
    "\n",
    "3. 전국노인장애인보호구역표준데이터\n",
    "\n",
    "        * 시도명, 제한속도, CCTV설치여부, CCTV설치대수, 보호구역도로폭\n",
    "\n",
    "4. 새로운 jupyter note에서 종합\n",
    "\n",
    "        * 시도명, 어린이보호구역 CCTV설치대수, 노인장애인보호구역 CCTV설치대수, 일방통행 보차분리 ycount"
   ]
  }
 ],
 "metadata": {
  "kernelspec": {
   "display_name": "Python 3",
   "language": "python",
   "name": "python3"
  },
  "language_info": {
   "codemirror_mode": {
    "name": "ipython",
    "version": 3
   },
   "file_extension": ".py",
   "mimetype": "text/x-python",
   "name": "python",
   "nbconvert_exporter": "python",
   "pygments_lexer": "ipython3",
   "version": "3.10.9"
  },
  "vscode": {
   "interpreter": {
    "hash": "252d00ae1abf913d993c897358600e69c29a1bffb17fa3d647027b051c354ad6"
   }
  }
 },
 "nbformat": 4,
 "nbformat_minor": 2
}
