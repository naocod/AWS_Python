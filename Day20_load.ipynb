{
 "cells": [
  {
   "attachments": {},
   "cell_type": "markdown",
   "metadata": {},
   "source": [
    "### 전국일방통행도로표준데이터\n",
    "- 데이터 전처리\n",
    "\n",
    "    시도명, 지정사유, 지정연도, 도로폭, 도로차로수, 보차분리여부\n",
    "\n",
    "- 결측치 처리(column 개별 기준)\n",
    "- 오류치 처리(unit의 차이)\n",
    "- 이상치 처리(iqr 사용)\n",
    "- 전처리 내용 정리"
   ]
  },
  {
   "cell_type": "code",
   "execution_count": 3,
   "metadata": {},
   "outputs": [
    {
     "name": "stdout",
     "output_type": "stream",
     "text": [
      "   시도명 지정사유  지정연도  도로폭  도로차로수 보차분리여부\n",
      "0  경기도  NaN   NaN  5.0    1.0      Y\n",
      "1  경기도  NaN   NaN  5.0    1.0      Y\n",
      "2  경기도  NaN   NaN  9.0    1.0      Y\n"
     ]
    }
   ],
   "source": [
    "import numpy as np\n",
    "import pandas as pd\n",
    "import matplotlib.pyplot as plt\n",
    "\n",
    "pd_rawdata = pd.read_csv('전국일방통행도로표준데이터.csv', encoding='cp949')\n",
    "\n",
    "#print(pd_rawdata.columns)\n",
    "\n",
    "column_selection = ['시도명', '지정사유', '지정연도','도로폭','도로차로수', '보차분리여부']\n",
    "pd_data = pd_rawdata[column_selection]\n",
    "del pd_rawdata\n",
    "print(pd_data[:3])"
   ]
  },
  {
   "cell_type": "code",
   "execution_count": 5,
   "metadata": {},
   "outputs": [
    {
     "name": "stdout",
     "output_type": "stream",
     "text": [
      "Index(['시도명', '지정사유', '지정연도', '도로폭', '도로차로수', '보차분리여부'], dtype='object')\n",
      "시도명        object\n",
      "지정사유       object\n",
      "지정연도      float64\n",
      "도로폭       float64\n",
      "도로차로수     float64\n",
      "보차분리여부     object\n",
      "dtype: object\n"
     ]
    }
   ],
   "source": [
    "print(pd_data.columns)\n",
    "print(pd_data.dtypes)"
   ]
  },
  {
   "cell_type": "code",
   "execution_count": 9,
   "metadata": {},
   "outputs": [
    {
     "name": "stdout",
     "output_type": "stream",
     "text": [
      "시도명 False\n",
      "지정사유 True\n",
      "True     1567\n",
      "False     592\n",
      "Name: 지정사유, dtype: int64\n",
      "\n",
      "지정연도 True\n",
      "True     1609\n",
      "False     550\n",
      "Name: 지정연도, dtype: int64\n",
      "\n",
      "도로폭 False\n",
      "도로차로수 True\n",
      "False    2158\n",
      "True        1\n",
      "Name: 도로차로수, dtype: int64\n",
      "\n",
      "보차분리여부 False\n"
     ]
    }
   ],
   "source": [
    "# 결측치 확인\n",
    "\n",
    "for e in pd_data:\n",
    "    print(e, pd_data[e].hasnans)\n",
    "    if pd_data[e].hasnans==True:\n",
    "        print(pd_data[e].isna().value_counts())\n",
    "        print()"
   ]
  },
  {
   "cell_type": "code",
   "execution_count": 10,
   "metadata": {},
   "outputs": [
    {
     "name": "stdout",
     "output_type": "stream",
     "text": [
      "True     1567\n",
      "False     592\n",
      "Name: 지정사유, dtype: int64\n"
     ]
    }
   ],
   "source": [
    "def myfn(x):\n",
    "\n",
    "print(pd_data['지정사유'].isna().value_counts())"
   ]
  }
 ],
 "metadata": {
  "kernelspec": {
   "display_name": "Python 3",
   "language": "python",
   "name": "python3"
  },
  "language_info": {
   "codemirror_mode": {
    "name": "ipython",
    "version": 3
   },
   "file_extension": ".py",
   "mimetype": "text/x-python",
   "name": "python",
   "nbconvert_exporter": "python",
   "pygments_lexer": "ipython3",
   "version": "3.10.9"
  },
  "orig_nbformat": 4,
  "vscode": {
   "interpreter": {
    "hash": "252d00ae1abf913d993c897358600e69c29a1bffb17fa3d647027b051c354ad6"
   }
  }
 },
 "nbformat": 4,
 "nbformat_minor": 2
}
