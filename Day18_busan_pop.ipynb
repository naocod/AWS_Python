{
 "cells": [
  {
   "cell_type": "code",
   "execution_count": 19,
   "metadata": {},
   "outputs": [
    {
     "name": "stdout",
     "output_type": "stream",
     "text": [
      "     시점      세대수     인구_남     인구_여      한국인    외국인    인구밀도\n",
      "1  2018  1480468  1721327  1772692  3441453  52566  769.94\n",
      "2  2019  1497908  1704098  1762465  3413841  52722  770.07\n",
      "3  2020  1530431  1686412  1752298  3391946  46764  770.07\n"
     ]
    }
   ],
   "source": [
    "import numpy as np\n",
    "import pandas as pd\n",
    "import matplotlib.pyplot as plt\n",
    "\n",
    "pop_df = pd.read_csv('등록인구추이_20230223163326.csv', encoding = 'cp949')\n",
    "pop_df.drop(0, axis=0, inplace=True)\n",
    "pop_df.columns = ['시점', '세대수', '인구_남', '인구_여', '한국인', '외국인', '인구밀도']\n",
    "print(pop_df.head())"
   ]
  },
  {
   "cell_type": "code",
   "execution_count": 20,
   "metadata": {},
   "outputs": [
    {
     "name": "stdout",
     "output_type": "stream",
     "text": [
      "\n",
      "     시점      세대수     인구_남     인구_여      한국인    외국인    인구밀도\n",
      "1  2018  1480468  1721327  1772692  3441453  52566  769.94\n",
      "2  2019  1497908  1704098  1762465  3413841  52722  770.07\n",
      "3  2020  1530431  1686412  1752298  3391946  46764  770.07\n"
     ]
    }
   ],
   "source": [
    "print()\n",
    "print(pop_df)"
   ]
  },
  {
   "attachments": {},
   "cell_type": "markdown",
   "metadata": {},
   "source": [
    "### 년도별\n",
    "    - 남/여 인구비율 - 인구_남, 인구_여 colunm 다음에 위치\n",
    "    - 한국인 / 외국인 비율 - 인구밀도 앞에 위치"
   ]
  },
  {
   "cell_type": "code",
   "execution_count": 22,
   "metadata": {},
   "outputs": [
    {
     "data": {
      "text/html": [
       "<div>\n",
       "<style scoped>\n",
       "    .dataframe tbody tr th:only-of-type {\n",
       "        vertical-align: middle;\n",
       "    }\n",
       "\n",
       "    .dataframe tbody tr th {\n",
       "        vertical-align: top;\n",
       "    }\n",
       "\n",
       "    .dataframe thead th {\n",
       "        text-align: right;\n",
       "    }\n",
       "</style>\n",
       "<table border=\"1\" class=\"dataframe\">\n",
       "  <thead>\n",
       "    <tr style=\"text-align: right;\">\n",
       "      <th></th>\n",
       "      <th>시점</th>\n",
       "      <th>세대수</th>\n",
       "      <th>인구_남</th>\n",
       "      <th>인구_여</th>\n",
       "      <th>한국인</th>\n",
       "      <th>인구_남/여</th>\n",
       "      <th>외국인</th>\n",
       "      <th>인구밀도</th>\n",
       "    </tr>\n",
       "  </thead>\n",
       "  <tbody>\n",
       "    <tr>\n",
       "      <th>1</th>\n",
       "      <td>2018</td>\n",
       "      <td>1480468</td>\n",
       "      <td>1721327</td>\n",
       "      <td>1772692</td>\n",
       "      <td>3441453</td>\n",
       "      <td>0.971024</td>\n",
       "      <td>52566</td>\n",
       "      <td>769.94</td>\n",
       "    </tr>\n",
       "    <tr>\n",
       "      <th>2</th>\n",
       "      <td>2019</td>\n",
       "      <td>1497908</td>\n",
       "      <td>1704098</td>\n",
       "      <td>1762465</td>\n",
       "      <td>3413841</td>\n",
       "      <td>0.966883</td>\n",
       "      <td>52722</td>\n",
       "      <td>770.07</td>\n",
       "    </tr>\n",
       "    <tr>\n",
       "      <th>3</th>\n",
       "      <td>2020</td>\n",
       "      <td>1530431</td>\n",
       "      <td>1686412</td>\n",
       "      <td>1752298</td>\n",
       "      <td>3391946</td>\n",
       "      <td>0.962400</td>\n",
       "      <td>46764</td>\n",
       "      <td>770.07</td>\n",
       "    </tr>\n",
       "  </tbody>\n",
       "</table>\n",
       "</div>"
      ],
      "text/plain": [
       "     시점      세대수     인구_남     인구_여      한국인    인구_남/여    외국인    인구밀도\n",
       "1  2018  1480468  1721327  1772692  3441453  0.971024  52566  769.94\n",
       "2  2019  1497908  1704098  1762465  3413841  0.966883  52722  770.07\n",
       "3  2020  1530431  1686412  1752298  3391946  0.962400  46764  770.07"
      ]
     },
     "execution_count": 22,
     "metadata": {},
     "output_type": "execute_result"
    }
   ],
   "source": [
    "# pop_df['인구_남']\n",
    "# pop_df.loc[:, '인구_남']\n",
    "# pop_df.iloc[:, 2]\n",
    "v = pop_df['인구_남'].astype(np.float64) / pop_df['인구_여'].astype(np.float64)\n",
    "pop_df.insert(5, '인구_남/여', v)\n",
    "pop_df"
   ]
  },
  {
   "cell_type": "code",
   "execution_count": 24,
   "metadata": {},
   "outputs": [
    {
     "data": {
      "text/html": [
       "<div>\n",
       "<style scoped>\n",
       "    .dataframe tbody tr th:only-of-type {\n",
       "        vertical-align: middle;\n",
       "    }\n",
       "\n",
       "    .dataframe tbody tr th {\n",
       "        vertical-align: top;\n",
       "    }\n",
       "\n",
       "    .dataframe thead th {\n",
       "        text-align: right;\n",
       "    }\n",
       "</style>\n",
       "<table border=\"1\" class=\"dataframe\">\n",
       "  <thead>\n",
       "    <tr style=\"text-align: right;\">\n",
       "      <th></th>\n",
       "      <th>시점</th>\n",
       "      <th>세대수</th>\n",
       "      <th>인구_남</th>\n",
       "      <th>인구_여</th>\n",
       "      <th>한국인</th>\n",
       "      <th>인구_남/여</th>\n",
       "      <th>외국인</th>\n",
       "      <th>한국인/외국인</th>\n",
       "      <th>인구밀도</th>\n",
       "    </tr>\n",
       "  </thead>\n",
       "  <tbody>\n",
       "    <tr>\n",
       "      <th>1</th>\n",
       "      <td>2018</td>\n",
       "      <td>1480468</td>\n",
       "      <td>1721327</td>\n",
       "      <td>1772692</td>\n",
       "      <td>3441453</td>\n",
       "      <td>0.971024</td>\n",
       "      <td>52566</td>\n",
       "      <td>0.971024</td>\n",
       "      <td>769.94</td>\n",
       "    </tr>\n",
       "    <tr>\n",
       "      <th>2</th>\n",
       "      <td>2019</td>\n",
       "      <td>1497908</td>\n",
       "      <td>1704098</td>\n",
       "      <td>1762465</td>\n",
       "      <td>3413841</td>\n",
       "      <td>0.966883</td>\n",
       "      <td>52722</td>\n",
       "      <td>0.966883</td>\n",
       "      <td>770.07</td>\n",
       "    </tr>\n",
       "    <tr>\n",
       "      <th>3</th>\n",
       "      <td>2020</td>\n",
       "      <td>1530431</td>\n",
       "      <td>1686412</td>\n",
       "      <td>1752298</td>\n",
       "      <td>3391946</td>\n",
       "      <td>0.962400</td>\n",
       "      <td>46764</td>\n",
       "      <td>0.962400</td>\n",
       "      <td>770.07</td>\n",
       "    </tr>\n",
       "  </tbody>\n",
       "</table>\n",
       "</div>"
      ],
      "text/plain": [
       "     시점      세대수     인구_남     인구_여      한국인    인구_남/여    외국인   한국인/외국인    인구밀도\n",
       "1  2018  1480468  1721327  1772692  3441453  0.971024  52566  0.971024  769.94\n",
       "2  2019  1497908  1704098  1762465  3413841  0.966883  52722  0.966883  770.07\n",
       "3  2020  1530431  1686412  1752298  3391946  0.962400  46764  0.962400  770.07"
      ]
     },
     "execution_count": 24,
     "metadata": {},
     "output_type": "execute_result"
    }
   ],
   "source": [
    "pop_df['한국인'].astype(np.float64) / pop_df['외국인'].astype(np.float64)\n",
    "pop_df.insert(7, '한국인/외국인', v)\n",
    "pop_df"
   ]
  },
  {
   "cell_type": "code",
   "execution_count": 25,
   "metadata": {},
   "outputs": [
    {
     "data": {
      "text/html": [
       "<div>\n",
       "<style scoped>\n",
       "    .dataframe tbody tr th:only-of-type {\n",
       "        vertical-align: middle;\n",
       "    }\n",
       "\n",
       "    .dataframe tbody tr th {\n",
       "        vertical-align: top;\n",
       "    }\n",
       "\n",
       "    .dataframe thead th {\n",
       "        text-align: right;\n",
       "    }\n",
       "</style>\n",
       "<table border=\"1\" class=\"dataframe\">\n",
       "  <thead>\n",
       "    <tr style=\"text-align: right;\">\n",
       "      <th></th>\n",
       "      <th>시점</th>\n",
       "      <th>세대수</th>\n",
       "      <th>인구_남</th>\n",
       "      <th>인구_여</th>\n",
       "      <th>한국인</th>\n",
       "      <th>인구_남/여</th>\n",
       "      <th>외국인</th>\n",
       "      <th>한국인/외국인</th>\n",
       "      <th>인구밀도</th>\n",
       "    </tr>\n",
       "  </thead>\n",
       "  <tbody>\n",
       "    <tr>\n",
       "      <th>1</th>\n",
       "      <td>2018.0</td>\n",
       "      <td>1480468.0</td>\n",
       "      <td>1721327.0</td>\n",
       "      <td>1772692.0</td>\n",
       "      <td>3441453.0</td>\n",
       "      <td>0.971024</td>\n",
       "      <td>52566.0</td>\n",
       "      <td>0.971024</td>\n",
       "      <td>769.94</td>\n",
       "    </tr>\n",
       "    <tr>\n",
       "      <th>2</th>\n",
       "      <td>2019.0</td>\n",
       "      <td>1497908.0</td>\n",
       "      <td>1704098.0</td>\n",
       "      <td>1762465.0</td>\n",
       "      <td>3413841.0</td>\n",
       "      <td>0.966883</td>\n",
       "      <td>52722.0</td>\n",
       "      <td>0.966883</td>\n",
       "      <td>770.07</td>\n",
       "    </tr>\n",
       "    <tr>\n",
       "      <th>3</th>\n",
       "      <td>2020.0</td>\n",
       "      <td>1530431.0</td>\n",
       "      <td>1686412.0</td>\n",
       "      <td>1752298.0</td>\n",
       "      <td>3391946.0</td>\n",
       "      <td>0.962400</td>\n",
       "      <td>46764.0</td>\n",
       "      <td>0.962400</td>\n",
       "      <td>770.07</td>\n",
       "    </tr>\n",
       "  </tbody>\n",
       "</table>\n",
       "</div>"
      ],
      "text/plain": [
       "       시점        세대수       인구_남       인구_여        한국인    인구_남/여      외국인  \\\n",
       "1  2018.0  1480468.0  1721327.0  1772692.0  3441453.0  0.971024  52566.0   \n",
       "2  2019.0  1497908.0  1704098.0  1762465.0  3413841.0  0.966883  52722.0   \n",
       "3  2020.0  1530431.0  1686412.0  1752298.0  3391946.0  0.962400  46764.0   \n",
       "\n",
       "    한국인/외국인    인구밀도  \n",
       "1  0.971024  769.94  \n",
       "2  0.966883  770.07  \n",
       "3  0.962400  770.07  "
      ]
     },
     "execution_count": 25,
     "metadata": {},
     "output_type": "execute_result"
    }
   ],
   "source": [
    "pop_df.dtypes\n",
    "pop_df.astype(np.float64)"
   ]
  },
  {
   "cell_type": "code",
   "execution_count": 26,
   "metadata": {},
   "outputs": [
    {
     "name": "stdout",
     "output_type": "stream",
     "text": [
      "[0.9710243  0.96688331 0.96240023]\n",
      "[3544147.16173975 3530768.34669426 3524465.07253743]\n"
     ]
    }
   ],
   "source": [
    "pop_np = pop_df.to_numpy().astype(np.float64)\n",
    "print(pop_np[:, 2] / pop_np[:, 3])\n",
    "print(pop_np[:, 4] / pop_np[:, 5])"
   ]
  }
 ],
 "metadata": {
  "kernelspec": {
   "display_name": "Python 3",
   "language": "python",
   "name": "python3"
  },
  "language_info": {
   "codemirror_mode": {
    "name": "ipython",
    "version": 3
   },
   "file_extension": ".py",
   "mimetype": "text/x-python",
   "name": "python",
   "nbconvert_exporter": "python",
   "pygments_lexer": "ipython3",
   "version": "3.10.9"
  },
  "orig_nbformat": 4,
  "vscode": {
   "interpreter": {
    "hash": "252d00ae1abf913d993c897358600e69c29a1bffb17fa3d647027b051c354ad6"
   }
  }
 },
 "nbformat": 4,
 "nbformat_minor": 2
}
